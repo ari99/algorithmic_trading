{
 "cells": [
  {
   "cell_type": "code",
   "execution_count": 13,
   "metadata": {
    "collapsed": true
   },
   "outputs": [
    {
     "name": "stdout",
     "output_type": "stream",
     "text": [
      "The autoreload extension is already loaded. To reload it, use:\n",
      "  %reload_ext autoreload\n"
     ]
    }
   ],
   "source": [
    "from configs.hourlyReturnsConfig import HourlyReturnsConfig\n",
    "from configs.featuresShiftedConfig import FeaturesShiftedConfig\n",
    "%load_ext autoreload\n",
    "%autoreload 2\n",
    "import vectorbtpro as vbt\n",
    "from common.hourlyReturns import HourlyReturns\n",
    "import pandas as pd\n",
    "idx = pd.IndexSlice\n",
    "from configs.config import Config\n",
    "Config.createDailyReturnsPath()\n",
    "from configs import config\n",
    "\n",
    "config.makeDirectoryPath(['checkpoints', Config.originalDir])\n",
    "config.makeDirectoryPath(['checkpoints', Config.secondDir])\n",
    "config.makeDirectoryPath(['checkpoints', Config.flippedDir])\n",
    "config.makeDirectoryPath(['checkpoints', Config.otherDir])\n",
    "\n",
    "\n",
    "def createHourlyReturns(dir: str, symbolStr: str=\"\"):\n",
    "    hourlyConf = HourlyReturnsConfig(dir, symbolStr)\n",
    "    shiftedConfig = FeaturesShiftedConfig(dir, symbolStr)\n",
    "    fetched = vbt.HDFData.fetch(shiftedConfig.relativeFeaturesShiftedPath)\n",
    "    featureDataShifted = fetched.data[shiftedConfig.featuresShiftedKey]\n",
    "    closeSeries = featureDataShifted.Close\n",
    "    hourlyReturnCreator = HourlyReturns(closeSeries)\n",
    "    hourlyReturns = hourlyReturnCreator.fetchOrCreateSave(\n",
    "        hourlyConf.hourlyReturnsPath, hourlyConf.hourlyReturnsKey)\n",
    "    return hourlyReturns\n",
    "\n"
   ]
  },
  {
   "cell_type": "code",
   "execution_count": null,
   "outputs": [],
   "source": [
    "btc2FeatureDataShifted = createHourlyReturns(Config.originalDir, '')\n",
    "eth2FeatureDataShifted = createHourlyReturns( Config.secondDir, \"\")\n",
    "flipped2FeatureDataShifted = createHourlyReturns(Config.flippedDir,'')\n",
    "cnyUsdFeatureDataShifted = createHourlyReturns(Config.otherDir, \"C:CNYUSD\")\n",
    "eurUsdFeatureDataShifted = createHourlyReturns(Config.otherDir, \"C:EURUSD\")\n",
    "jpyUsdFeatureDataShifted = createHourlyReturns(Config.otherDir, \"C:JPYUSD\")\n",
    "usdCnyFeatureDataShifted = createHourlyReturns(Config.otherDir, \"C:USDCNY\")\n",
    "usdEurFeatureDataShifted = createHourlyReturns(Config.otherDir, \"C:USDEUR\")\n",
    "usdJpyFeatureDataShifted = createHourlyReturns(Config.otherDir, \"C:USDJPY\")\n",
    "btcFeatureDataShifted = createHourlyReturns(Config.otherDir, \"X:BTCUSD\")\n",
    "dogeFeatureDataShifted = createHourlyReturns(Config.otherDir, \"X:DOGEUSD\")\n",
    "ethFeatureDataShifted = createHourlyReturns(Config.otherDir, \"X:ETHUSD\")\n",
    "xmrFeatureDataShifted = createHourlyReturns(Config.otherDir, \"X:XMRUSD\")"
   ],
   "metadata": {
    "collapsed": false,
    "pycharm": {
     "is_executing": true
    }
   }
  },
  {
   "cell_type": "code",
   "execution_count": 15,
   "outputs": [
    {
     "data": {
      "text/plain": "                           fwd_returns         1         2         3  \\\ndate                                                                   \n2017-01-06 22:00:00+00:00     0.002399 -0.011001 -0.023122 -0.003651   \n2017-01-06 23:00:00+00:00    -0.004720  0.002399 -0.011001 -0.023122   \n2017-01-07 00:00:00+00:00     0.047531 -0.004720  0.002399 -0.011001   \n2017-01-07 01:00:00+00:00     0.042623  0.047531 -0.004720  0.002399   \n2017-01-07 02:00:00+00:00    -0.060719  0.042623  0.047531 -0.004720   \n...                                ...       ...       ...       ...   \n2022-12-31 19:00:00+00:00     0.001085 -0.000136 -0.001760  0.006267   \n2022-12-31 20:00:00+00:00     0.001084  0.001085 -0.000136 -0.001760   \n2022-12-31 21:00:00+00:00    -0.000474  0.001084  0.001085 -0.000136   \n2022-12-31 22:00:00+00:00     0.002031 -0.000474  0.001084  0.001085   \n2022-12-31 23:00:00+00:00    -0.005879  0.002031 -0.000474  0.001084   \n\n                                  4         5         6         7         8  \\\ndate                                                                          \n2017-01-06 22:00:00+00:00 -0.028936  0.012930  0.050599 -0.014710  0.031390   \n2017-01-06 23:00:00+00:00 -0.003651 -0.028936  0.012930  0.050599 -0.014710   \n2017-01-07 00:00:00+00:00 -0.023122 -0.003651 -0.028936  0.012930  0.050599   \n2017-01-07 01:00:00+00:00 -0.011001 -0.023122 -0.003651 -0.028936  0.012930   \n2017-01-07 02:00:00+00:00  0.002399 -0.011001 -0.023122 -0.003651 -0.028936   \n...                             ...       ...       ...       ...       ...   \n2022-12-31 19:00:00+00:00 -0.000681  0.006923 -0.001984  0.001645  0.003507   \n2022-12-31 20:00:00+00:00  0.006267 -0.000681  0.006923 -0.001984  0.001645   \n2022-12-31 21:00:00+00:00 -0.001760  0.006267 -0.000681  0.006923 -0.001984   \n2022-12-31 22:00:00+00:00 -0.000136 -0.001760  0.006267 -0.000681  0.006923   \n2022-12-31 23:00:00+00:00  0.001085 -0.000136 -0.001760  0.006267 -0.000681   \n\n                                  9  ...       112       113       114  \\\ndate                                 ...                                 \n2017-01-06 22:00:00+00:00 -0.063746  ...  0.016996  0.008124 -0.000222   \n2017-01-06 23:00:00+00:00  0.031390  ...  0.000072  0.016996  0.008124   \n2017-01-07 00:00:00+00:00 -0.014710  ...  0.016351  0.000072  0.016996   \n2017-01-07 01:00:00+00:00  0.050599  ...  0.013466  0.016351  0.000072   \n2017-01-07 02:00:00+00:00  0.012930  ...  0.006993  0.013466  0.016351   \n...                             ...  ...       ...       ...       ...   \n2022-12-31 19:00:00+00:00 -0.001785  ... -0.006090 -0.000410 -0.002252   \n2022-12-31 20:00:00+00:00  0.003507  ... -0.000069 -0.006090 -0.000410   \n2022-12-31 21:00:00+00:00  0.001645  ...  0.006059 -0.000069 -0.006090   \n2022-12-31 22:00:00+00:00 -0.001984  ... -0.002669  0.006059 -0.000069   \n2022-12-31 23:00:00+00:00  0.006923  ...  0.006244 -0.002669  0.006059   \n\n                                115       116       117       118       119  \\\ndate                                                                          \n2017-01-06 22:00:00+00:00 -0.027083  0.012364  0.018519 -0.014599  0.004399   \n2017-01-06 23:00:00+00:00 -0.000222 -0.027083  0.012364  0.018519 -0.014599   \n2017-01-07 00:00:00+00:00  0.008124 -0.000222 -0.027083  0.012364  0.018519   \n2017-01-07 01:00:00+00:00  0.016996  0.008124 -0.000222 -0.027083  0.012364   \n2017-01-07 02:00:00+00:00  0.000072  0.016996  0.008124 -0.000222 -0.027083   \n...                             ...       ...       ...       ...       ...   \n2022-12-31 19:00:00+00:00  0.001230 -0.001978 -0.001974 -0.001359  0.002043   \n2022-12-31 20:00:00+00:00 -0.002252  0.001230 -0.001978 -0.001974 -0.001359   \n2022-12-31 21:00:00+00:00 -0.000410 -0.002252  0.001230 -0.001978 -0.001974   \n2022-12-31 22:00:00+00:00 -0.006090 -0.000410 -0.002252  0.001230 -0.001978   \n2022-12-31 23:00:00+00:00 -0.000069 -0.006090 -0.000410 -0.002252  0.001230   \n\n                                120  fwd_returns_label  \ndate                                                    \n2017-01-06 22:00:00+00:00  0.000000                  1  \n2017-01-06 23:00:00+00:00  0.004399                  0  \n2017-01-07 00:00:00+00:00 -0.014599                  1  \n2017-01-07 01:00:00+00:00  0.018519                  1  \n2017-01-07 02:00:00+00:00  0.012364                  0  \n...                             ...                ...  \n2022-12-31 19:00:00+00:00  0.000954                  1  \n2022-12-31 20:00:00+00:00  0.002043                  1  \n2022-12-31 21:00:00+00:00 -0.001359                  0  \n2022-12-31 22:00:00+00:00 -0.001974                  1  \n2022-12-31 23:00:00+00:00 -0.001978                  0  \n\n[52156 rows x 122 columns]",
      "text/html": "<div>\n<style scoped>\n    .dataframe tbody tr th:only-of-type {\n        vertical-align: middle;\n    }\n\n    .dataframe tbody tr th {\n        vertical-align: top;\n    }\n\n    .dataframe thead th {\n        text-align: right;\n    }\n</style>\n<table border=\"1\" class=\"dataframe\">\n  <thead>\n    <tr style=\"text-align: right;\">\n      <th></th>\n      <th>fwd_returns</th>\n      <th>1</th>\n      <th>2</th>\n      <th>3</th>\n      <th>4</th>\n      <th>5</th>\n      <th>6</th>\n      <th>7</th>\n      <th>8</th>\n      <th>9</th>\n      <th>...</th>\n      <th>112</th>\n      <th>113</th>\n      <th>114</th>\n      <th>115</th>\n      <th>116</th>\n      <th>117</th>\n      <th>118</th>\n      <th>119</th>\n      <th>120</th>\n      <th>fwd_returns_label</th>\n    </tr>\n    <tr>\n      <th>date</th>\n      <th></th>\n      <th></th>\n      <th></th>\n      <th></th>\n      <th></th>\n      <th></th>\n      <th></th>\n      <th></th>\n      <th></th>\n      <th></th>\n      <th></th>\n      <th></th>\n      <th></th>\n      <th></th>\n      <th></th>\n      <th></th>\n      <th></th>\n      <th></th>\n      <th></th>\n      <th></th>\n      <th></th>\n    </tr>\n  </thead>\n  <tbody>\n    <tr>\n      <th>2017-01-06 22:00:00+00:00</th>\n      <td>0.002399</td>\n      <td>-0.011001</td>\n      <td>-0.023122</td>\n      <td>-0.003651</td>\n      <td>-0.028936</td>\n      <td>0.012930</td>\n      <td>0.050599</td>\n      <td>-0.014710</td>\n      <td>0.031390</td>\n      <td>-0.063746</td>\n      <td>...</td>\n      <td>0.016996</td>\n      <td>0.008124</td>\n      <td>-0.000222</td>\n      <td>-0.027083</td>\n      <td>0.012364</td>\n      <td>0.018519</td>\n      <td>-0.014599</td>\n      <td>0.004399</td>\n      <td>0.000000</td>\n      <td>1</td>\n    </tr>\n    <tr>\n      <th>2017-01-06 23:00:00+00:00</th>\n      <td>-0.004720</td>\n      <td>0.002399</td>\n      <td>-0.011001</td>\n      <td>-0.023122</td>\n      <td>-0.003651</td>\n      <td>-0.028936</td>\n      <td>0.012930</td>\n      <td>0.050599</td>\n      <td>-0.014710</td>\n      <td>0.031390</td>\n      <td>...</td>\n      <td>0.000072</td>\n      <td>0.016996</td>\n      <td>0.008124</td>\n      <td>-0.000222</td>\n      <td>-0.027083</td>\n      <td>0.012364</td>\n      <td>0.018519</td>\n      <td>-0.014599</td>\n      <td>0.004399</td>\n      <td>0</td>\n    </tr>\n    <tr>\n      <th>2017-01-07 00:00:00+00:00</th>\n      <td>0.047531</td>\n      <td>-0.004720</td>\n      <td>0.002399</td>\n      <td>-0.011001</td>\n      <td>-0.023122</td>\n      <td>-0.003651</td>\n      <td>-0.028936</td>\n      <td>0.012930</td>\n      <td>0.050599</td>\n      <td>-0.014710</td>\n      <td>...</td>\n      <td>0.016351</td>\n      <td>0.000072</td>\n      <td>0.016996</td>\n      <td>0.008124</td>\n      <td>-0.000222</td>\n      <td>-0.027083</td>\n      <td>0.012364</td>\n      <td>0.018519</td>\n      <td>-0.014599</td>\n      <td>1</td>\n    </tr>\n    <tr>\n      <th>2017-01-07 01:00:00+00:00</th>\n      <td>0.042623</td>\n      <td>0.047531</td>\n      <td>-0.004720</td>\n      <td>0.002399</td>\n      <td>-0.011001</td>\n      <td>-0.023122</td>\n      <td>-0.003651</td>\n      <td>-0.028936</td>\n      <td>0.012930</td>\n      <td>0.050599</td>\n      <td>...</td>\n      <td>0.013466</td>\n      <td>0.016351</td>\n      <td>0.000072</td>\n      <td>0.016996</td>\n      <td>0.008124</td>\n      <td>-0.000222</td>\n      <td>-0.027083</td>\n      <td>0.012364</td>\n      <td>0.018519</td>\n      <td>1</td>\n    </tr>\n    <tr>\n      <th>2017-01-07 02:00:00+00:00</th>\n      <td>-0.060719</td>\n      <td>0.042623</td>\n      <td>0.047531</td>\n      <td>-0.004720</td>\n      <td>0.002399</td>\n      <td>-0.011001</td>\n      <td>-0.023122</td>\n      <td>-0.003651</td>\n      <td>-0.028936</td>\n      <td>0.012930</td>\n      <td>...</td>\n      <td>0.006993</td>\n      <td>0.013466</td>\n      <td>0.016351</td>\n      <td>0.000072</td>\n      <td>0.016996</td>\n      <td>0.008124</td>\n      <td>-0.000222</td>\n      <td>-0.027083</td>\n      <td>0.012364</td>\n      <td>0</td>\n    </tr>\n    <tr>\n      <th>...</th>\n      <td>...</td>\n      <td>...</td>\n      <td>...</td>\n      <td>...</td>\n      <td>...</td>\n      <td>...</td>\n      <td>...</td>\n      <td>...</td>\n      <td>...</td>\n      <td>...</td>\n      <td>...</td>\n      <td>...</td>\n      <td>...</td>\n      <td>...</td>\n      <td>...</td>\n      <td>...</td>\n      <td>...</td>\n      <td>...</td>\n      <td>...</td>\n      <td>...</td>\n      <td>...</td>\n    </tr>\n    <tr>\n      <th>2022-12-31 19:00:00+00:00</th>\n      <td>0.001085</td>\n      <td>-0.000136</td>\n      <td>-0.001760</td>\n      <td>0.006267</td>\n      <td>-0.000681</td>\n      <td>0.006923</td>\n      <td>-0.001984</td>\n      <td>0.001645</td>\n      <td>0.003507</td>\n      <td>-0.001785</td>\n      <td>...</td>\n      <td>-0.006090</td>\n      <td>-0.000410</td>\n      <td>-0.002252</td>\n      <td>0.001230</td>\n      <td>-0.001978</td>\n      <td>-0.001974</td>\n      <td>-0.001359</td>\n      <td>0.002043</td>\n      <td>0.000954</td>\n      <td>1</td>\n    </tr>\n    <tr>\n      <th>2022-12-31 20:00:00+00:00</th>\n      <td>0.001084</td>\n      <td>0.001085</td>\n      <td>-0.000136</td>\n      <td>-0.001760</td>\n      <td>0.006267</td>\n      <td>-0.000681</td>\n      <td>0.006923</td>\n      <td>-0.001984</td>\n      <td>0.001645</td>\n      <td>0.003507</td>\n      <td>...</td>\n      <td>-0.000069</td>\n      <td>-0.006090</td>\n      <td>-0.000410</td>\n      <td>-0.002252</td>\n      <td>0.001230</td>\n      <td>-0.001978</td>\n      <td>-0.001974</td>\n      <td>-0.001359</td>\n      <td>0.002043</td>\n      <td>1</td>\n    </tr>\n    <tr>\n      <th>2022-12-31 21:00:00+00:00</th>\n      <td>-0.000474</td>\n      <td>0.001084</td>\n      <td>0.001085</td>\n      <td>-0.000136</td>\n      <td>-0.001760</td>\n      <td>0.006267</td>\n      <td>-0.000681</td>\n      <td>0.006923</td>\n      <td>-0.001984</td>\n      <td>0.001645</td>\n      <td>...</td>\n      <td>0.006059</td>\n      <td>-0.000069</td>\n      <td>-0.006090</td>\n      <td>-0.000410</td>\n      <td>-0.002252</td>\n      <td>0.001230</td>\n      <td>-0.001978</td>\n      <td>-0.001974</td>\n      <td>-0.001359</td>\n      <td>0</td>\n    </tr>\n    <tr>\n      <th>2022-12-31 22:00:00+00:00</th>\n      <td>0.002031</td>\n      <td>-0.000474</td>\n      <td>0.001084</td>\n      <td>0.001085</td>\n      <td>-0.000136</td>\n      <td>-0.001760</td>\n      <td>0.006267</td>\n      <td>-0.000681</td>\n      <td>0.006923</td>\n      <td>-0.001984</td>\n      <td>...</td>\n      <td>-0.002669</td>\n      <td>0.006059</td>\n      <td>-0.000069</td>\n      <td>-0.006090</td>\n      <td>-0.000410</td>\n      <td>-0.002252</td>\n      <td>0.001230</td>\n      <td>-0.001978</td>\n      <td>-0.001974</td>\n      <td>1</td>\n    </tr>\n    <tr>\n      <th>2022-12-31 23:00:00+00:00</th>\n      <td>-0.005879</td>\n      <td>0.002031</td>\n      <td>-0.000474</td>\n      <td>0.001084</td>\n      <td>0.001085</td>\n      <td>-0.000136</td>\n      <td>-0.001760</td>\n      <td>0.006267</td>\n      <td>-0.000681</td>\n      <td>0.006923</td>\n      <td>...</td>\n      <td>0.006244</td>\n      <td>-0.002669</td>\n      <td>0.006059</td>\n      <td>-0.000069</td>\n      <td>-0.006090</td>\n      <td>-0.000410</td>\n      <td>-0.002252</td>\n      <td>0.001230</td>\n      <td>-0.001978</td>\n      <td>0</td>\n    </tr>\n  </tbody>\n</table>\n<p>52156 rows × 122 columns</p>\n</div>"
     },
     "execution_count": 15,
     "metadata": {},
     "output_type": "execute_result"
    }
   ],
   "source": [
    "xmrFeatureDataShifted"
   ],
   "metadata": {
    "collapsed": false
   }
  },
  {
   "cell_type": "code",
   "execution_count": null,
   "outputs": [],
   "source": [
    "'''from services.DailyReturns import DailyReturns\n",
    "\n",
    "dailyReturnsCreator = DailyReturns(closeSeries)\n",
    "dailyReturns = dailyReturnsCreator.fetchOrCreateSave(Config.dailyReturnsPath, \"returns_daily\")\n",
    "dailyReturns'''"
   ],
   "metadata": {
    "collapsed": false
   }
  },
  {
   "cell_type": "code",
   "execution_count": 15,
   "outputs": [],
   "source": [],
   "metadata": {
    "collapsed": false
   }
  },
  {
   "cell_type": "code",
   "execution_count": 15,
   "outputs": [],
   "source": [],
   "metadata": {
    "collapsed": false
   }
  }
 ],
 "metadata": {
  "kernelspec": {
   "display_name": "Python 3",
   "language": "python",
   "name": "python3"
  },
  "language_info": {
   "codemirror_mode": {
    "name": "ipython",
    "version": 2
   },
   "file_extension": ".py",
   "mimetype": "text/x-python",
   "name": "python",
   "nbconvert_exporter": "python",
   "pygments_lexer": "ipython2",
   "version": "2.7.6"
  }
 },
 "nbformat": 4,
 "nbformat_minor": 0
}
