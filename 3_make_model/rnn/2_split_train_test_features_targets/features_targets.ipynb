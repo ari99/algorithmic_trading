{
 "cells": [
  {
   "cell_type": "code",
   "execution_count": null,
   "metadata": {
    "collapsed": true
   },
   "outputs": [],
   "source": [
    "\n",
    "%load_ext autoreload\n",
    "%autoreload 2\n",
    "\n",
    "from configs.config import Config\n",
    "from services.allFeatures import AllFeatures\n",
    "from services.allTargets import AllTargets\n",
    "from configs.allFeaturesTargetsConfig import AllConfig\n",
    "from services.mergedShiftedFeaturesAndReturns import Merged\n",
    "from services.allLaggedReturns import AllLaggedReturns\n",
    "from configs import config\n",
    "\n",
    "config.makeDirectoryPath(['checkpoints', Config.originalDir])\n",
    "config.makeDirectoryPath(['checkpoints', Config.secondDir])\n",
    "config.makeDirectoryPath(['checkpoints', Config.flippedDir])\n",
    "config.makeDirectoryPath(['checkpoints', Config.otherDir])\n"
   ]
  },
  {
   "cell_type": "code",
   "execution_count": 9,
   "outputs": [],
   "source": [
    "\n",
    "from numpy import ndarray\n",
    "from vectorbtpro import Data\n",
    "from param import DataFrame\n",
    "\n",
    "\n",
    "def createAll(dir: str, symbol: str =\"\"):\n",
    "    allConfig = AllConfig(dir, symbol)\n",
    "    merged: DataFrame = Merged.createMerged(allConfig)\n",
    "    allFeaturesCreator: AllFeatures = AllFeatures(merged)\n",
    "    features: Data = allFeaturesCreator.fetchOrCreateSave(allConfig.allFeaturesPath, allConfig.allFeaturesKey)\n",
    "    allTargetsCreator: AllTargets = AllTargets(merged)\n",
    "    targets: Data = allTargetsCreator.fetchOrCreateSave(allConfig.allTargetsPath, allConfig.allTargetsKey)\n",
    "    allLaggedReturnsCreator = AllLaggedReturns(merged)\n",
    "    laggedReturns: ndarray = allLaggedReturnsCreator.fetchOrCreateSaveNumpy(\n",
    "        allConfig.allLaggedReturnsPath)\n",
    "    return features,targets,laggedReturns\n"
   ],
   "metadata": {
    "collapsed": false
   }
  },
  {
   "cell_type": "code",
   "execution_count": null,
   "outputs": [],
   "source": [
    "\n",
    "\n",
    "btc2Features,btc2Targets,btc2LaggedReturns = createAll(Config.originalDir)\n",
    "eth2Features,eth2Targets,eth2LaggedReturns = createAll(Config.secondDir)\n",
    "flip2Features,flip2Targets,flip2LaggedReturns = createAll(Config.flippedDir)\n",
    "btcFeatures,btcTargets,btcLaggedReturns = createAll(Config.otherDir, 'X:BTCUSD')\n",
    "ethFeatures,ethTargets,ethLaggedReturns = createAll(Config.otherDir, 'X:ETHUSD')\n",
    "cnyUsdFeatures,cnyUsdTargets,cnyUsdlaggedReturns = createAll(Config.otherDir, 'C:CNYUSD')\n",
    "usdCnyFeatures,usdCnyTargets,usdCnylaggedReturns = createAll(Config.otherDir, 'C:USDCNY')\n",
    "eurUsdFeatures,eurUsdTargets,eurUsdlaggedReturns = createAll(Config.otherDir, 'C:EURUSD')\n",
    "usdEurFeatures,usdEurTargets,usdEurlaggedReturns = createAll(Config.otherDir, 'C:USDEUR')\n",
    "jpyUsdFeatures,jpyUsdTargets,jpuUsdlaggedReturns = createAll(Config.otherDir, 'C:JPYUSD')\n",
    "usdJpyFeatures,usdJpyTargets,usdJpylaggedReturns = createAll(Config.otherDir, 'C:USDJPY')\n",
    "dodgeFeatures,dodgeTargets,dodgeLaggedReturns = createAll(Config.otherDir, 'X:DOGEUSD')\n",
    "xmrFeatures,xmrTargets,xmrLaggedReturns = createAll(Config.otherDir, 'X:XMRUSD')\n",
    "\n"
   ],
   "metadata": {
    "collapsed": false
   }
  },
  {
   "cell_type": "code",
   "execution_count": 11,
   "outputs": [
    {
     "name": "stdout",
     "output_type": "stream",
     "text": [
      "(52462, 178)\n",
      "(48762, 178)\n",
      "(28564, 178)\n"
     ]
    }
   ],
   "source": [
    "print(btc2Features.shape)\n",
    "print(dodgeFeatures.shape)\n",
    "print(cnyUsdFeatures.shape)"
   ],
   "metadata": {
    "collapsed": false
   }
  },
  {
   "cell_type": "code",
   "execution_count": null,
   "outputs": [],
   "source": [],
   "metadata": {
    "collapsed": false
   }
  }
 ],
 "metadata": {
  "kernelspec": {
   "display_name": "Python 3",
   "language": "python",
   "name": "python3"
  },
  "language_info": {
   "codemirror_mode": {
    "name": "ipython",
    "version": 2
   },
   "file_extension": ".py",
   "mimetype": "text/x-python",
   "name": "python",
   "nbconvert_exporter": "python",
   "pygments_lexer": "ipython2",
   "version": "2.7.6"
  }
 },
 "nbformat": 4,
 "nbformat_minor": 0
}
