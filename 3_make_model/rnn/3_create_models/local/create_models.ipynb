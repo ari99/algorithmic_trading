{
 "cells": [
  {
   "cell_type": "code",
   "execution_count": 1,
   "metadata": {
    "collapsed": true
   },
   "outputs": [
    {
     "name": "stdout",
     "output_type": "stream",
     "text": [
      "GPU is NOT AVAILABLE\n"
     ]
    }
   ],
   "source": [
    "#%load_ext tensorboard\n",
    "%load_ext autoreload\n",
    "%autoreload 2\n",
    "%matplotlib inline\n",
    "#import warnings\n",
    "#warnings.filterwarnings('ignore')\n",
    "%matplotlib inline\n",
    "import tensorflow as tf\n",
    "from services.createModel import CreateModel\n",
    "import datetime\n",
    "\n",
    "log_dir = \"logs/fit/\" + datetime.datetime.now().strftime(\"%Y%m%d-%H%M%S\")\n",
    "# i think this enable_dump_debug_info or pip install -U tensorboard-plugin-profile made everything slow\n",
    "# this causes an issue with saving (can use h5 if needed)\n",
    "# https://github.com/tensorflow/tensorflow/issues/48867\n",
    "# https://github.com/tensorflow/tensorflow/issues/36833\n",
    "# tf.debugging.experimental.enable_dump_debug_info(log_dir, tensor_debug_mode=\"FULL_HEALTH\", circular_buffer_size=-1)\n",
    "\n",
    "gpu = len(tf.config.list_physical_devices('GPU'))>0\n",
    "print(\"GPU is\", \"available\" if gpu else \"NOT AVAILABLE\")"
   ]
  },
  {
   "cell_type": "code",
   "execution_count": 2,
   "outputs": [
    {
     "name": "stdout",
     "output_type": "stream",
     "text": [
      "model path is checkpoints/models/3_3_model_longEntry10\n",
      "longEntry10 Examples:\n",
      "    Total: 38590\n",
      "    Positive: 3990 (10.34% of total)\n",
      "\n",
      "longEntry10 Weight for class 0: 0.56\n",
      "longEntry10 Weight for class 1: 4.84\n",
      " COMPILING MODEL\n"
     ]
    },
    {
     "name": "stderr",
     "output_type": "stream",
     "text": [
      "2023-04-03 14:16:25.984823: W tensorflow/tsl/platform/profile_utils/cpu_utils.cc:128] Failed to get CPU frequency: 0 Hz\n"
     ]
    },
    {
     "name": "stdout",
     "output_type": "stream",
     "text": [
      "20/20 [==============================] - ETA: 0s - loss: 1.1872 - tp: 183.0000 - fp: 1797.0000 - tn: 32803.0000 - fn: 3807.0000 - accuracy: 0.8548 - precision: 0.0924 - recall: 0.0459 - auc: 0.4827 - prc: 0.0993\n",
      "Epoch 1: auc improved from -inf to 0.48267, saving model to checkpoints/modelCheckpoints/3_3_model_longEntry10.h5\n",
      "20/20 [==============================] - 45s 2s/step - loss: 1.1872 - tp: 183.0000 - fp: 1797.0000 - tn: 32803.0000 - fn: 3807.0000 - accuracy: 0.8548 - precision: 0.0924 - recall: 0.0459 - auc: 0.4827 - prc: 0.0993 - val_loss: 0.7436 - val_tp: 3.0000 - val_fp: 69.0000 - val_tn: 12459.0000 - val_fn: 1341.0000 - val_accuracy: 0.8984 - val_precision: 0.0417 - val_recall: 0.0022 - val_auc: 0.5127 - val_prc: 0.1023\n"
     ]
    },
    {
     "name": "stderr",
     "output_type": "stream",
     "text": [
      "WARNING:absl:Function `_wrapped_model` contains input name(s) Returns, Features with unsupported characters which will be renamed to returns, features in the SavedModel.\n",
      "WARNING:absl:Found untraced functions such as lstm_cell_layer_call_fn, lstm_cell_layer_call_and_return_conditional_losses, lstm_cell_1_layer_call_fn, lstm_cell_1_layer_call_and_return_conditional_losses while saving (showing 4 of 4). These functions will not be directly callable after loading.\n"
     ]
    },
    {
     "name": "stdout",
     "output_type": "stream",
     "text": [
      "INFO:tensorflow:Assets written to: checkpoints/models/3_3_model_longEntry10/assets\n"
     ]
    },
    {
     "name": "stderr",
     "output_type": "stream",
     "text": [
      "INFO:tensorflow:Assets written to: checkpoints/models/3_3_model_longEntry10/assets\n"
     ]
    }
   ],
   "source": [
    "modelCreator = CreateModel()\n",
    "rnn = modelCreator.createModel('longEntry10')\n",
    "\n",
    "# TypeError: Input 'resource' of 'AssignVariableOp' Op has type float32 that does not match expected type of resource."
   ],
   "metadata": {
    "collapsed": false
   }
  },
  {
   "cell_type": "code",
   "execution_count": null,
   "outputs": [],
   "source": [
    "loaded ="
   ],
   "metadata": {
    "collapsed": false,
    "pycharm": {
     "is_executing": true
    }
   }
  },
  {
   "cell_type": "code",
   "execution_count": 2,
   "outputs": [],
   "source": [],
   "metadata": {
    "collapsed": false
   }
  }
 ],
 "metadata": {
  "kernelspec": {
   "display_name": "Python 3",
   "language": "python",
   "name": "python3"
  },
  "language_info": {
   "codemirror_mode": {
    "name": "ipython",
    "version": 2
   },
   "file_extension": ".py",
   "mimetype": "text/x-python",
   "name": "python",
   "nbconvert_exporter": "python",
   "pygments_lexer": "ipython2",
   "version": "2.7.6"
  }
 },
 "nbformat": 4,
 "nbformat_minor": 0
}
