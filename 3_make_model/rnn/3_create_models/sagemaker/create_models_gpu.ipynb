{
 "cells": [
  {
   "cell_type": "code",
   "execution_count": null,
   "id": "19980ea9-eba2-4a32-b160-44033402a63c",
   "metadata": {
    "tags": []
   },
   "outputs": [],
   "source": [
    "#%load_ext tensorboard\n",
    "%pip install tables\n",
    "%load_ext autoreload\n",
    "%autoreload 2\n",
    "%matplotlib inline\n",
    "import warnings\n",
    "warnings.filterwarnings('ignore')\n",
    "%matplotlib inline\n",
    "import tensorflow as tf\n",
    "from createModel import CreateModel\n",
    "import datetime\n",
    "\n",
    "log_dir = \"logs/fit/\" + datetime.datetime.now().strftime(\"%Y%m%d-%H%M%S\")\n",
    "# I think  enable_dump_debug_info or pip install -U tensorboard-plugin-profile made everything slow\n",
    "# this causes an issue with saving (can use h5 if needed)\n",
    "# https://github.com/tensorflow/tensorflow/issues/48867\n",
    "# https://github.com/tensorflow/tensorflow/issues/36833\n",
    "#tf.debugging.experimental.enable_dump_debug_info(log_dir, tensor_debug_mode=\"FULL_HEALTH\", circular_buffer_size=-1)\n",
    "\n",
    "gpu = len(tf.config.list_physical_devices('GPU'))>0\n",
    "print(\"GPU is\", \"available\" if gpu else \"NOT AVAILABLE\")\n"
   ]
  },
  {
   "cell_type": "code",
   "execution_count": null,
   "id": "5dfdbd73-e941-4fc9-b73c-da68efef2b14",
   "metadata": {
    "tags": []
   },
   "outputs": [],
   "source": [
    "modelCreator = CreateModel()\n",
    "rnn,history = modelCreator.createModel('shortEntry100')"
   ]
  },
  {
   "cell_type": "code",
   "execution_count": 5,
   "id": "27a18829-44db-4ba3-b416-964a542f8244",
   "metadata": {
    "tags": []
   },
   "outputs": [
    {
     "data": {
      "text/plain": [
       "(0.701381504535675,\n",
       " 0.86628657579422,\n",
       " 0.6290060877799988,\n",
       " 0.6743984818458557,\n",
       " 0.9904123544692993,\n",
       " 0.07725095748901367)"
      ]
     },
     "execution_count": 5,
     "metadata": {},
     "output_type": "execute_result"
    }
   ],
   "source": [
    "history = history.history\n",
    "(max(history['auc']),max(history['accuracy']),  min(history['loss']), \n",
    "max(history['val_auc']),max(history['val_accuracy']),  min(history['val_loss']))\n"
   ]
  },
  {
   "cell_type": "code",
   "execution_count": 6,
   "id": "e16284b3-a834-4a95-ab62-87076093e244",
   "metadata": {},
   "outputs": [
    {
     "data": {
      "text/plain": [
       "((38590, 120, 1), (38590, 178), (38590, 9))"
      ]
     },
     "execution_count": 6,
     "metadata": {},
     "output_type": "execute_result"
    }
   ],
   "source": [
    "modelCreator.trainLaggedReturns.shape,modelCreator.trainFeatures.shape,modelCreator.allTrainTargets.shape"
   ]
  },
  {
   "cell_type": "code",
   "execution_count": 7,
   "id": "a56b2d9f-1f42-435e-8b0c-b13702947baa",
   "metadata": {
    "tags": []
   },
   "outputs": [
    {
     "data": {
      "text/html": [
       "<div>\n",
       "<style scoped>\n",
       "    .dataframe tbody tr th:only-of-type {\n",
       "        vertical-align: middle;\n",
       "    }\n",
       "\n",
       "    .dataframe tbody tr th {\n",
       "        vertical-align: top;\n",
       "    }\n",
       "\n",
       "    .dataframe thead th {\n",
       "        text-align: right;\n",
       "    }\n",
       "</style>\n",
       "<table border=\"1\" class=\"dataframe\">\n",
       "  <thead>\n",
       "    <tr style=\"text-align: right;\">\n",
       "      <th></th>\n",
       "      <th>CurrentOpen</th>\n",
       "      <th>Open</th>\n",
       "      <th>High</th>\n",
       "      <th>Low</th>\n",
       "      <th>Close</th>\n",
       "      <th>Volume</th>\n",
       "      <th>Trade count</th>\n",
       "      <th>VWAP</th>\n",
       "      <th>ad_real</th>\n",
       "      <th>add_real</th>\n",
       "      <th>...</th>\n",
       "      <th>trima_real</th>\n",
       "      <th>trix_real</th>\n",
       "      <th>tsf_real</th>\n",
       "      <th>typprice_real</th>\n",
       "      <th>ultosc_real</th>\n",
       "      <th>var_real</th>\n",
       "      <th>wclprice_real</th>\n",
       "      <th>willr_real</th>\n",
       "      <th>wma_real</th>\n",
       "      <th>outWQA1</th>\n",
       "    </tr>\n",
       "    <tr>\n",
       "      <th>Open time</th>\n",
       "      <th></th>\n",
       "      <th></th>\n",
       "      <th></th>\n",
       "      <th></th>\n",
       "      <th></th>\n",
       "      <th></th>\n",
       "      <th></th>\n",
       "      <th></th>\n",
       "      <th></th>\n",
       "      <th></th>\n",
       "      <th></th>\n",
       "      <th></th>\n",
       "      <th></th>\n",
       "      <th></th>\n",
       "      <th></th>\n",
       "      <th></th>\n",
       "      <th></th>\n",
       "      <th></th>\n",
       "      <th></th>\n",
       "      <th></th>\n",
       "      <th></th>\n",
       "    </tr>\n",
       "  </thead>\n",
       "  <tbody>\n",
       "    <tr>\n",
       "      <th>2021-06-01 19:00:00+00:00</th>\n",
       "      <td>36211.41</td>\n",
       "      <td>36158.19</td>\n",
       "      <td>36496.90</td>\n",
       "      <td>36090.28</td>\n",
       "      <td>36231.97</td>\n",
       "      <td>2888.051031</td>\n",
       "      <td>24496.0</td>\n",
       "      <td>36284.6040</td>\n",
       "      <td>-2.755937e+06</td>\n",
       "      <td>72587.18</td>\n",
       "      <td>...</td>\n",
       "      <td>36829.181868</td>\n",
       "      <td>0.053905</td>\n",
       "      <td>36048.468302</td>\n",
       "      <td>36273.050000</td>\n",
       "      <td>48.155467</td>\n",
       "      <td>54104.998847</td>\n",
       "      <td>36262.7800</td>\n",
       "      <td>-67.712636</td>\n",
       "      <td>36609.279294</td>\n",
       "      <td>0.25</td>\n",
       "    </tr>\n",
       "    <tr>\n",
       "      <th>2021-06-01 20:00:00+00:00</th>\n",
       "      <td>35983.18</td>\n",
       "      <td>36211.41</td>\n",
       "      <td>36233.68</td>\n",
       "      <td>35769.31</td>\n",
       "      <td>35983.15</td>\n",
       "      <td>1588.047312</td>\n",
       "      <td>25193.0</td>\n",
       "      <td>35973.3547</td>\n",
       "      <td>-2.756063e+06</td>\n",
       "      <td>72002.99</td>\n",
       "      <td>...</td>\n",
       "      <td>36797.457867</td>\n",
       "      <td>0.051646</td>\n",
       "      <td>36041.899961</td>\n",
       "      <td>35995.380000</td>\n",
       "      <td>49.254333</td>\n",
       "      <td>16993.632484</td>\n",
       "      <td>35992.3225</td>\n",
       "      <td>-81.637621</td>\n",
       "      <td>36560.513746</td>\n",
       "      <td>0.25</td>\n",
       "    </tr>\n",
       "    <tr>\n",
       "      <th>2021-06-01 21:00:00+00:00</th>\n",
       "      <td>36305.30</td>\n",
       "      <td>35983.18</td>\n",
       "      <td>36353.80</td>\n",
       "      <td>35868.13</td>\n",
       "      <td>36332.75</td>\n",
       "      <td>1261.582069</td>\n",
       "      <td>22429.0</td>\n",
       "      <td>36113.2614</td>\n",
       "      <td>-2.754910e+06</td>\n",
       "      <td>72221.93</td>\n",
       "      <td>...</td>\n",
       "      <td>36761.653199</td>\n",
       "      <td>0.049376</td>\n",
       "      <td>36116.680301</td>\n",
       "      <td>36184.893333</td>\n",
       "      <td>47.065425</td>\n",
       "      <td>23488.158676</td>\n",
       "      <td>36221.8575</td>\n",
       "      <td>-61.623489</td>\n",
       "      <td>36535.902715</td>\n",
       "      <td>0.25</td>\n",
       "    </tr>\n",
       "    <tr>\n",
       "      <th>2021-06-01 22:00:00+00:00</th>\n",
       "      <td>36425.70</td>\n",
       "      <td>36305.30</td>\n",
       "      <td>36487.77</td>\n",
       "      <td>36036.32</td>\n",
       "      <td>36425.70</td>\n",
       "      <td>1408.928019</td>\n",
       "      <td>21500.0</td>\n",
       "      <td>36312.7987</td>\n",
       "      <td>-2.753889e+06</td>\n",
       "      <td>72524.09</td>\n",
       "      <td>...</td>\n",
       "      <td>36721.059489</td>\n",
       "      <td>0.047182</td>\n",
       "      <td>36221.261960</td>\n",
       "      <td>36316.596667</td>\n",
       "      <td>53.633493</td>\n",
       "      <td>22976.998516</td>\n",
       "      <td>36343.8725</td>\n",
       "      <td>-56.360033</td>\n",
       "      <td>36517.963404</td>\n",
       "      <td>0.25</td>\n",
       "    </tr>\n",
       "    <tr>\n",
       "      <th>2021-06-01 23:00:00+00:00</th>\n",
       "      <td>36439.76</td>\n",
       "      <td>36425.70</td>\n",
       "      <td>36617.00</td>\n",
       "      <td>36216.52</td>\n",
       "      <td>36429.11</td>\n",
       "      <td>2071.671710</td>\n",
       "      <td>22621.0</td>\n",
       "      <td>36406.2965</td>\n",
       "      <td>-2.753761e+06</td>\n",
       "      <td>72833.52</td>\n",
       "      <td>...</td>\n",
       "      <td>36678.983238</td>\n",
       "      <td>0.045064</td>\n",
       "      <td>36229.225707</td>\n",
       "      <td>36420.876667</td>\n",
       "      <td>56.547607</td>\n",
       "      <td>27334.042325</td>\n",
       "      <td>36422.9350</td>\n",
       "      <td>-56.166936</td>\n",
       "      <td>36501.462888</td>\n",
       "      <td>0.50</td>\n",
       "    </tr>\n",
       "  </tbody>\n",
       "</table>\n",
       "<p>5 rows × 178 columns</p>\n",
       "</div>"
      ],
      "text/plain": [
       "                           CurrentOpen      Open      High       Low  \\\n",
       "Open time                                                              \n",
       "2021-06-01 19:00:00+00:00     36211.41  36158.19  36496.90  36090.28   \n",
       "2021-06-01 20:00:00+00:00     35983.18  36211.41  36233.68  35769.31   \n",
       "2021-06-01 21:00:00+00:00     36305.30  35983.18  36353.80  35868.13   \n",
       "2021-06-01 22:00:00+00:00     36425.70  36305.30  36487.77  36036.32   \n",
       "2021-06-01 23:00:00+00:00     36439.76  36425.70  36617.00  36216.52   \n",
       "\n",
       "                              Close       Volume  Trade count        VWAP  \\\n",
       "Open time                                                                   \n",
       "2021-06-01 19:00:00+00:00  36231.97  2888.051031      24496.0  36284.6040   \n",
       "2021-06-01 20:00:00+00:00  35983.15  1588.047312      25193.0  35973.3547   \n",
       "2021-06-01 21:00:00+00:00  36332.75  1261.582069      22429.0  36113.2614   \n",
       "2021-06-01 22:00:00+00:00  36425.70  1408.928019      21500.0  36312.7987   \n",
       "2021-06-01 23:00:00+00:00  36429.11  2071.671710      22621.0  36406.2965   \n",
       "\n",
       "                                ad_real  add_real  ...    trima_real  \\\n",
       "Open time                                          ...                 \n",
       "2021-06-01 19:00:00+00:00 -2.755937e+06  72587.18  ...  36829.181868   \n",
       "2021-06-01 20:00:00+00:00 -2.756063e+06  72002.99  ...  36797.457867   \n",
       "2021-06-01 21:00:00+00:00 -2.754910e+06  72221.93  ...  36761.653199   \n",
       "2021-06-01 22:00:00+00:00 -2.753889e+06  72524.09  ...  36721.059489   \n",
       "2021-06-01 23:00:00+00:00 -2.753761e+06  72833.52  ...  36678.983238   \n",
       "\n",
       "                           trix_real      tsf_real  typprice_real  \\\n",
       "Open time                                                           \n",
       "2021-06-01 19:00:00+00:00   0.053905  36048.468302   36273.050000   \n",
       "2021-06-01 20:00:00+00:00   0.051646  36041.899961   35995.380000   \n",
       "2021-06-01 21:00:00+00:00   0.049376  36116.680301   36184.893333   \n",
       "2021-06-01 22:00:00+00:00   0.047182  36221.261960   36316.596667   \n",
       "2021-06-01 23:00:00+00:00   0.045064  36229.225707   36420.876667   \n",
       "\n",
       "                           ultosc_real      var_real  wclprice_real  \\\n",
       "Open time                                                             \n",
       "2021-06-01 19:00:00+00:00    48.155467  54104.998847     36262.7800   \n",
       "2021-06-01 20:00:00+00:00    49.254333  16993.632484     35992.3225   \n",
       "2021-06-01 21:00:00+00:00    47.065425  23488.158676     36221.8575   \n",
       "2021-06-01 22:00:00+00:00    53.633493  22976.998516     36343.8725   \n",
       "2021-06-01 23:00:00+00:00    56.547607  27334.042325     36422.9350   \n",
       "\n",
       "                           willr_real      wma_real  outWQA1  \n",
       "Open time                                                     \n",
       "2021-06-01 19:00:00+00:00  -67.712636  36609.279294     0.25  \n",
       "2021-06-01 20:00:00+00:00  -81.637621  36560.513746     0.25  \n",
       "2021-06-01 21:00:00+00:00  -61.623489  36535.902715     0.25  \n",
       "2021-06-01 22:00:00+00:00  -56.360033  36517.963404     0.25  \n",
       "2021-06-01 23:00:00+00:00  -56.166936  36501.462888     0.50  \n",
       "\n",
       "[5 rows x 178 columns]"
      ]
     },
     "execution_count": 7,
     "metadata": {},
     "output_type": "execute_result"
    }
   ],
   "source": [
    "modelCreator.trainFeatures.tail()"
   ]
  },
  {
   "cell_type": "code",
   "execution_count": 8,
   "id": "24565a33-cc65-4161-b0aa-b72a6be98669",
   "metadata": {
    "tags": []
   },
   "outputs": [
    {
     "name": "stdout",
     "output_type": "stream",
     "text": [
      "Model: \"model\"\n",
      "__________________________________________________________________________________________________\n",
      "Layer (type)                    Output Shape         Param #     Connected to                     \n",
      "==================================================================================================\n",
      "Returns (InputLayer)            [(None, 120, 1)]     0                                            \n",
      "__________________________________________________________________________________________________\n",
      "LSTM1 (LSTM)                    (None, 120, 200)     161600      Returns[0][0]                    \n",
      "__________________________________________________________________________________________________\n",
      "LSTM2 (LSTM)                    (None, 100)          120400      LSTM1[0][0]                      \n",
      "__________________________________________________________________________________________________\n",
      "Features (InputLayer)           [(None, 178)]        0                                            \n",
      "__________________________________________________________________________________________________\n",
      "Merged (Concatenate)            (None, 278)          0           LSTM2[0][0]                      \n",
      "                                                                 Features[0][0]                   \n",
      "__________________________________________________________________________________________________\n",
      "batch_normalization (BatchNorma (None, 278)          1112        Merged[0][0]                     \n",
      "__________________________________________________________________________________________________\n",
      "FC1 (Dense)                     (None, 300)          83700       batch_normalization[0][0]        \n",
      "__________________________________________________________________________________________________\n",
      "dropout (Dropout)               (None, 300)          0           FC1[0][0]                        \n",
      "__________________________________________________________________________________________________\n",
      "FC2 (Dense)                     (None, 100)          30100       dropout[0][0]                    \n",
      "__________________________________________________________________________________________________\n",
      "dropout_1 (Dropout)             (None, 100)          0           FC2[0][0]                        \n",
      "__________________________________________________________________________________________________\n",
      "FC3 (Dense)                     (None, 50)           5050        dropout_1[0][0]                  \n",
      "__________________________________________________________________________________________________\n",
      "Output (Dense)                  (None, 1)            51          FC3[0][0]                        \n",
      "==================================================================================================\n",
      "Total params: 402,013\n",
      "Trainable params: 401,457\n",
      "Non-trainable params: 556\n",
      "__________________________________________________________________________________________________\n"
     ]
    }
   ],
   "source": [
    "rnn.summary()"
   ]
  },
  {
   "cell_type": "code",
   "execution_count": 9,
   "id": "45077a87-59ed-4bac-a07c-568319cc80fb",
   "metadata": {
    "tags": []
   },
   "outputs": [
    {
     "ename": "ModuleNotFoundError",
     "evalue": "No module named 'hvplot'",
     "output_type": "error",
     "traceback": [
      "\u001B[0;31m---------------------------------------------------------------------------\u001B[0m",
      "\u001B[0;31mModuleNotFoundError\u001B[0m                       Traceback (most recent call last)",
      "\u001B[0;32m<ipython-input-9-cc49bb70f381>\u001B[0m in \u001B[0;36m<module>\u001B[0;34m\u001B[0m\n\u001B[0;32m----> 1\u001B[0;31m \u001B[0;32mfrom\u001B[0m \u001B[0mservices\u001B[0m\u001B[0;34m.\u001B[0m\u001B[0mmodel_analyzer\u001B[0m \u001B[0;32mimport\u001B[0m \u001B[0mModelAnalyzer\u001B[0m\u001B[0;34m\u001B[0m\u001B[0;34m\u001B[0m\u001B[0m\n\u001B[0m\u001B[1;32m      2\u001B[0m \u001B[0;34m\u001B[0m\u001B[0m\n\u001B[1;32m      3\u001B[0m \u001B[0mlongAnalyzer\u001B[0m \u001B[0;34m=\u001B[0m \u001B[0mModelAnalyzer\u001B[0m\u001B[0;34m(\u001B[0m\u001B[0mhistory\u001B[0m\u001B[0;34m,\u001B[0m \u001B[0;34m\"./\"\u001B[0m\u001B[0;34m)\u001B[0m\u001B[0;34m\u001B[0m\u001B[0;34m\u001B[0m\u001B[0m\n\u001B[1;32m      4\u001B[0m \u001B[0mlongAnalyzer\u001B[0m\u001B[0;34m.\u001B[0m\u001B[0mmakeFigs\u001B[0m\u001B[0;34m(\u001B[0m\u001B[0;34m)\u001B[0m\u001B[0;34m\u001B[0m\u001B[0;34m\u001B[0m\u001B[0m\n\u001B[1;32m      5\u001B[0m \u001B[0;34m\u001B[0m\u001B[0m\n",
      "\u001B[0;32m~/services/model_analyzer.py\u001B[0m in \u001B[0;36m<module>\u001B[0;34m\u001B[0m\n\u001B[1;32m      6\u001B[0m \u001B[0;32mfrom\u001B[0m \u001B[0mpandas\u001B[0m \u001B[0;32mimport\u001B[0m \u001B[0mSeries\u001B[0m\u001B[0;34m,\u001B[0m \u001B[0mDataFrame\u001B[0m\u001B[0;34m\u001B[0m\u001B[0;34m\u001B[0m\u001B[0m\n\u001B[1;32m      7\u001B[0m \u001B[0;32mfrom\u001B[0m \u001B[0msklearn\u001B[0m\u001B[0;34m.\u001B[0m\u001B[0mmetrics\u001B[0m \u001B[0;32mimport\u001B[0m \u001B[0mroc_auc_score\u001B[0m\u001B[0;34m\u001B[0m\u001B[0;34m\u001B[0m\u001B[0m\n\u001B[0;32m----> 8\u001B[0;31m \u001B[0;32mimport\u001B[0m \u001B[0mhvplot\u001B[0m\u001B[0;34m.\u001B[0m\u001B[0mpandas\u001B[0m\u001B[0;34m\u001B[0m\u001B[0;34m\u001B[0m\u001B[0m\n\u001B[0m\u001B[1;32m      9\u001B[0m \u001B[0;32mimport\u001B[0m \u001B[0mmath\u001B[0m\u001B[0;34m\u001B[0m\u001B[0;34m\u001B[0m\u001B[0m\n\u001B[1;32m     10\u001B[0m \u001B[0;34m\u001B[0m\u001B[0m\n",
      "\u001B[0;31mModuleNotFoundError\u001B[0m: No module named 'hvplot'"
     ]
    }
   ],
   "source": [
    "from modelAnalyzer import ModelAnalyzer\n",
    "\n",
    "longAnalyzer = ModelAnalyzer(history, \"./\")\n",
    "longAnalyzer.makeFigs()\n"
   ]
  },
  {
   "cell_type": "code",
   "execution_count": 84,
   "id": "1f68ef6c-5f95-4f44-a5b7-686d31ef1219",
   "metadata": {
    "tags": []
   },
   "outputs": [
    {
     "data": {
      "image/png": "[encoded data removed]",
      "text/plain": [
       "<IPython.core.display.Image object>"
      ]
     },
     "execution_count": 84,
     "metadata": {},
     "output_type": "execute_result"
    }
   ],
   "source": [
    "\n",
    "from keras.utils.vis_utils import plot_model\n",
    "from keras.utils.vis_utils import model_to_dot\n",
    "\n",
    "#model_to_dot(rnn, show_shapes=True, show_layer_names=True)\n",
    "plot_model(rnn, to_file='model_plot.png', show_shapes=True, show_layer_names=True)"
   ]
  },
  {
   "cell_type": "code",
   "execution_count": null,
   "id": "37f08bd4-c21f-4447-a05d-a11eb65601b1",
   "metadata": {},
   "outputs": [],
   "source": []
  }
 ],
 "metadata": {
  "availableInstances": [
   {
    "_defaultOrder": 0,
    "_isFastLaunch": true,
    "category": "General purpose",
    "gpuNum": 0,
    "hideHardwareSpecs": false,
    "memoryGiB": 4,
    "name": "ml.t3.medium",
    "vcpuNum": 2
   },
   {
    "_defaultOrder": 1,
    "_isFastLaunch": false,
    "category": "General purpose",
    "gpuNum": 0,
    "hideHardwareSpecs": false,
    "memoryGiB": 8,
    "name": "ml.t3.large",
    "vcpuNum": 2
   },
   {
    "_defaultOrder": 2,
    "_isFastLaunch": false,
    "category": "General purpose",
    "gpuNum": 0,
    "hideHardwareSpecs": false,
    "memoryGiB": 16,
    "name": "ml.t3.xlarge",
    "vcpuNum": 4
   },
   {
    "_defaultOrder": 3,
    "_isFastLaunch": false,
    "category": "General purpose",
    "gpuNum": 0,
    "hideHardwareSpecs": false,
    "memoryGiB": 32,
    "name": "ml.t3.2xlarge",
    "vcpuNum": 8
   },
   {
    "_defaultOrder": 4,
    "_isFastLaunch": true,
    "category": "General purpose",
    "gpuNum": 0,
    "hideHardwareSpecs": false,
    "memoryGiB": 8,
    "name": "ml.m5.large",
    "vcpuNum": 2
   },
   {
    "_defaultOrder": 5,
    "_isFastLaunch": false,
    "category": "General purpose",
    "gpuNum": 0,
    "hideHardwareSpecs": false,
    "memoryGiB": 16,
    "name": "ml.m5.xlarge",
    "vcpuNum": 4
   },
   {
    "_defaultOrder": 6,
    "_isFastLaunch": false,
    "category": "General purpose",
    "gpuNum": 0,
    "hideHardwareSpecs": false,
    "memoryGiB": 32,
    "name": "ml.m5.2xlarge",
    "vcpuNum": 8
   },
   {
    "_defaultOrder": 7,
    "_isFastLaunch": false,
    "category": "General purpose",
    "gpuNum": 0,
    "hideHardwareSpecs": false,
    "memoryGiB": 64,
    "name": "ml.m5.4xlarge",
    "vcpuNum": 16
   },
   {
    "_defaultOrder": 8,
    "_isFastLaunch": false,
    "category": "General purpose",
    "gpuNum": 0,
    "hideHardwareSpecs": false,
    "memoryGiB": 128,
    "name": "ml.m5.8xlarge",
    "vcpuNum": 32
   },
   {
    "_defaultOrder": 9,
    "_isFastLaunch": false,
    "category": "General purpose",
    "gpuNum": 0,
    "hideHardwareSpecs": false,
    "memoryGiB": 192,
    "name": "ml.m5.12xlarge",
    "vcpuNum": 48
   },
   {
    "_defaultOrder": 10,
    "_isFastLaunch": false,
    "category": "General purpose",
    "gpuNum": 0,
    "hideHardwareSpecs": false,
    "memoryGiB": 256,
    "name": "ml.m5.16xlarge",
    "vcpuNum": 64
   },
   {
    "_defaultOrder": 11,
    "_isFastLaunch": false,
    "category": "General purpose",
    "gpuNum": 0,
    "hideHardwareSpecs": false,
    "memoryGiB": 384,
    "name": "ml.m5.24xlarge",
    "vcpuNum": 96
   },
   {
    "_defaultOrder": 12,
    "_isFastLaunch": false,
    "category": "General purpose",
    "gpuNum": 0,
    "hideHardwareSpecs": false,
    "memoryGiB": 8,
    "name": "ml.m5d.large",
    "vcpuNum": 2
   },
   {
    "_defaultOrder": 13,
    "_isFastLaunch": false,
    "category": "General purpose",
    "gpuNum": 0,
    "hideHardwareSpecs": false,
    "memoryGiB": 16,
    "name": "ml.m5d.xlarge",
    "vcpuNum": 4
   },
   {
    "_defaultOrder": 14,
    "_isFastLaunch": false,
    "category": "General purpose",
    "gpuNum": 0,
    "hideHardwareSpecs": false,
    "memoryGiB": 32,
    "name": "ml.m5d.2xlarge",
    "vcpuNum": 8
   },
   {
    "_defaultOrder": 15,
    "_isFastLaunch": false,
    "category": "General purpose",
    "gpuNum": 0,
    "hideHardwareSpecs": false,
    "memoryGiB": 64,
    "name": "ml.m5d.4xlarge",
    "vcpuNum": 16
   },
   {
    "_defaultOrder": 16,
    "_isFastLaunch": false,
    "category": "General purpose",
    "gpuNum": 0,
    "hideHardwareSpecs": false,
    "memoryGiB": 128,
    "name": "ml.m5d.8xlarge",
    "vcpuNum": 32
   },
   {
    "_defaultOrder": 17,
    "_isFastLaunch": false,
    "category": "General purpose",
    "gpuNum": 0,
    "hideHardwareSpecs": false,
    "memoryGiB": 192,
    "name": "ml.m5d.12xlarge",
    "vcpuNum": 48
   },
   {
    "_defaultOrder": 18,
    "_isFastLaunch": false,
    "category": "General purpose",
    "gpuNum": 0,
    "hideHardwareSpecs": false,
    "memoryGiB": 256,
    "name": "ml.m5d.16xlarge",
    "vcpuNum": 64
   },
   {
    "_defaultOrder": 19,
    "_isFastLaunch": false,
    "category": "General purpose",
    "gpuNum": 0,
    "hideHardwareSpecs": false,
    "memoryGiB": 384,
    "name": "ml.m5d.24xlarge",
    "vcpuNum": 96
   },
   {
    "_defaultOrder": 20,
    "_isFastLaunch": false,
    "category": "General purpose",
    "gpuNum": 0,
    "hideHardwareSpecs": true,
    "memoryGiB": 0,
    "name": "ml.geospatial.interactive",
    "supportedImageNames": [
     "sagemaker-geospatial-v1-0"
    ],
    "vcpuNum": 0
   },
   {
    "_defaultOrder": 21,
    "_isFastLaunch": true,
    "category": "Compute optimized",
    "gpuNum": 0,
    "hideHardwareSpecs": false,
    "memoryGiB": 4,
    "name": "ml.c5.large",
    "vcpuNum": 2
   },
   {
    "_defaultOrder": 22,
    "_isFastLaunch": false,
    "category": "Compute optimized",
    "gpuNum": 0,
    "hideHardwareSpecs": false,
    "memoryGiB": 8,
    "name": "ml.c5.xlarge",
    "vcpuNum": 4
   },
   {
    "_defaultOrder": 23,
    "_isFastLaunch": false,
    "category": "Compute optimized",
    "gpuNum": 0,
    "hideHardwareSpecs": false,
    "memoryGiB": 16,
    "name": "ml.c5.2xlarge",
    "vcpuNum": 8
   },
   {
    "_defaultOrder": 24,
    "_isFastLaunch": false,
    "category": "Compute optimized",
    "gpuNum": 0,
    "hideHardwareSpecs": false,
    "memoryGiB": 32,
    "name": "ml.c5.4xlarge",
    "vcpuNum": 16
   },
   {
    "_defaultOrder": 25,
    "_isFastLaunch": false,
    "category": "Compute optimized",
    "gpuNum": 0,
    "hideHardwareSpecs": false,
    "memoryGiB": 72,
    "name": "ml.c5.9xlarge",
    "vcpuNum": 36
   },
   {
    "_defaultOrder": 26,
    "_isFastLaunch": false,
    "category": "Compute optimized",
    "gpuNum": 0,
    "hideHardwareSpecs": false,
    "memoryGiB": 96,
    "name": "ml.c5.12xlarge",
    "vcpuNum": 48
   },
   {
    "_defaultOrder": 27,
    "_isFastLaunch": false,
    "category": "Compute optimized",
    "gpuNum": 0,
    "hideHardwareSpecs": false,
    "memoryGiB": 144,
    "name": "ml.c5.18xlarge",
    "vcpuNum": 72
   },
   {
    "_defaultOrder": 28,
    "_isFastLaunch": false,
    "category": "Compute optimized",
    "gpuNum": 0,
    "hideHardwareSpecs": false,
    "memoryGiB": 192,
    "name": "ml.c5.24xlarge",
    "vcpuNum": 96
   },
   {
    "_defaultOrder": 29,
    "_isFastLaunch": true,
    "category": "Accelerated computing",
    "gpuNum": 1,
    "hideHardwareSpecs": false,
    "memoryGiB": 16,
    "name": "ml.g4dn.xlarge",
    "vcpuNum": 4
   },
   {
    "_defaultOrder": 30,
    "_isFastLaunch": false,
    "category": "Accelerated computing",
    "gpuNum": 1,
    "hideHardwareSpecs": false,
    "memoryGiB": 32,
    "name": "ml.g4dn.2xlarge",
    "vcpuNum": 8
   },
   {
    "_defaultOrder": 31,
    "_isFastLaunch": false,
    "category": "Accelerated computing",
    "gpuNum": 1,
    "hideHardwareSpecs": false,
    "memoryGiB": 64,
    "name": "ml.g4dn.4xlarge",
    "vcpuNum": 16
   },
   {
    "_defaultOrder": 32,
    "_isFastLaunch": false,
    "category": "Accelerated computing",
    "gpuNum": 1,
    "hideHardwareSpecs": false,
    "memoryGiB": 128,
    "name": "ml.g4dn.8xlarge",
    "vcpuNum": 32
   },
   {
    "_defaultOrder": 33,
    "_isFastLaunch": false,
    "category": "Accelerated computing",
    "gpuNum": 4,
    "hideHardwareSpecs": false,
    "memoryGiB": 192,
    "name": "ml.g4dn.12xlarge",
    "vcpuNum": 48
   },
   {
    "_defaultOrder": 34,
    "_isFastLaunch": false,
    "category": "Accelerated computing",
    "gpuNum": 1,
    "hideHardwareSpecs": false,
    "memoryGiB": 256,
    "name": "ml.g4dn.16xlarge",
    "vcpuNum": 64
   },
   {
    "_defaultOrder": 35,
    "_isFastLaunch": false,
    "category": "Accelerated computing",
    "gpuNum": 1,
    "hideHardwareSpecs": false,
    "memoryGiB": 61,
    "name": "ml.p3.2xlarge",
    "vcpuNum": 8
   },
   {
    "_defaultOrder": 36,
    "_isFastLaunch": false,
    "category": "Accelerated computing",
    "gpuNum": 4,
    "hideHardwareSpecs": false,
    "memoryGiB": 244,
    "name": "ml.p3.8xlarge",
    "vcpuNum": 32
   },
   {
    "_defaultOrder": 37,
    "_isFastLaunch": false,
    "category": "Accelerated computing",
    "gpuNum": 8,
    "hideHardwareSpecs": false,
    "memoryGiB": 488,
    "name": "ml.p3.16xlarge",
    "vcpuNum": 64
   },
   {
    "_defaultOrder": 38,
    "_isFastLaunch": false,
    "category": "Accelerated computing",
    "gpuNum": 8,
    "hideHardwareSpecs": false,
    "memoryGiB": 768,
    "name": "ml.p3dn.24xlarge",
    "vcpuNum": 96
   },
   {
    "_defaultOrder": 39,
    "_isFastLaunch": false,
    "category": "Memory Optimized",
    "gpuNum": 0,
    "hideHardwareSpecs": false,
    "memoryGiB": 16,
    "name": "ml.r5.large",
    "vcpuNum": 2
   },
   {
    "_defaultOrder": 40,
    "_isFastLaunch": false,
    "category": "Memory Optimized",
    "gpuNum": 0,
    "hideHardwareSpecs": false,
    "memoryGiB": 32,
    "name": "ml.r5.xlarge",
    "vcpuNum": 4
   },
   {
    "_defaultOrder": 41,
    "_isFastLaunch": false,
    "category": "Memory Optimized",
    "gpuNum": 0,
    "hideHardwareSpecs": false,
    "memoryGiB": 64,
    "name": "ml.r5.2xlarge",
    "vcpuNum": 8
   },
   {
    "_defaultOrder": 42,
    "_isFastLaunch": false,
    "category": "Memory Optimized",
    "gpuNum": 0,
    "hideHardwareSpecs": false,
    "memoryGiB": 128,
    "name": "ml.r5.4xlarge",
    "vcpuNum": 16
   },
   {
    "_defaultOrder": 43,
    "_isFastLaunch": false,
    "category": "Memory Optimized",
    "gpuNum": 0,
    "hideHardwareSpecs": false,
    "memoryGiB": 256,
    "name": "ml.r5.8xlarge",
    "vcpuNum": 32
   },
   {
    "_defaultOrder": 44,
    "_isFastLaunch": false,
    "category": "Memory Optimized",
    "gpuNum": 0,
    "hideHardwareSpecs": false,
    "memoryGiB": 384,
    "name": "ml.r5.12xlarge",
    "vcpuNum": 48
   },
   {
    "_defaultOrder": 45,
    "_isFastLaunch": false,
    "category": "Memory Optimized",
    "gpuNum": 0,
    "hideHardwareSpecs": false,
    "memoryGiB": 512,
    "name": "ml.r5.16xlarge",
    "vcpuNum": 64
   },
   {
    "_defaultOrder": 46,
    "_isFastLaunch": false,
    "category": "Memory Optimized",
    "gpuNum": 0,
    "hideHardwareSpecs": false,
    "memoryGiB": 768,
    "name": "ml.r5.24xlarge",
    "vcpuNum": 96
   },
   {
    "_defaultOrder": 47,
    "_isFastLaunch": false,
    "category": "Accelerated computing",
    "gpuNum": 1,
    "hideHardwareSpecs": false,
    "memoryGiB": 16,
    "name": "ml.g5.xlarge",
    "vcpuNum": 4
   },
   {
    "_defaultOrder": 48,
    "_isFastLaunch": false,
    "category": "Accelerated computing",
    "gpuNum": 1,
    "hideHardwareSpecs": false,
    "memoryGiB": 32,
    "name": "ml.g5.2xlarge",
    "vcpuNum": 8
   },
   {
    "_defaultOrder": 49,
    "_isFastLaunch": false,
    "category": "Accelerated computing",
    "gpuNum": 1,
    "hideHardwareSpecs": false,
    "memoryGiB": 64,
    "name": "ml.g5.4xlarge",
    "vcpuNum": 16
   },
   {
    "_defaultOrder": 50,
    "_isFastLaunch": false,
    "category": "Accelerated computing",
    "gpuNum": 1,
    "hideHardwareSpecs": false,
    "memoryGiB": 128,
    "name": "ml.g5.8xlarge",
    "vcpuNum": 32
   },
   {
    "_defaultOrder": 51,
    "_isFastLaunch": false,
    "category": "Accelerated computing",
    "gpuNum": 1,
    "hideHardwareSpecs": false,
    "memoryGiB": 256,
    "name": "ml.g5.16xlarge",
    "vcpuNum": 64
   },
   {
    "_defaultOrder": 52,
    "_isFastLaunch": false,
    "category": "Accelerated computing",
    "gpuNum": 4,
    "hideHardwareSpecs": false,
    "memoryGiB": 192,
    "name": "ml.g5.12xlarge",
    "vcpuNum": 48
   },
   {
    "_defaultOrder": 53,
    "_isFastLaunch": false,
    "category": "Accelerated computing",
    "gpuNum": 4,
    "hideHardwareSpecs": false,
    "memoryGiB": 384,
    "name": "ml.g5.24xlarge",
    "vcpuNum": 96
   },
   {
    "_defaultOrder": 54,
    "_isFastLaunch": false,
    "category": "Accelerated computing",
    "gpuNum": 8,
    "hideHardwareSpecs": false,
    "memoryGiB": 768,
    "name": "ml.g5.48xlarge",
    "vcpuNum": 192
   }
  ],
  "kernelspec": {
   "display_name": "Python 3 (TensorFlow 2.6 Python 3.8 GPU Optimized)",
   "language": "python",
   "name": "python3__SAGEMAKER_INTERNAL__arn:aws:sagemaker:us-east-2:429704687514:image/tensorflow-2.6-gpu-py38-cu112-ubuntu20.04-v1"
  },
  "language_info": {
   "codemirror_mode": {
    "name": "ipython",
    "version": 3
   },
   "file_extension": ".py",
   "mimetype": "text/x-python",
   "name": "python",
   "nbconvert_exporter": "python",
   "pygments_lexer": "ipython3",
   "version": "3.8.2"
  }
 },
 "nbformat": 4,
 "nbformat_minor": 5
}
