{
 "cells": [
  {
   "cell_type": "code",
   "execution_count": 0,
   "metadata": {
    "collapsed": true
   },
   "outputs": [],
   "source": [
    "# pip install -U \"vectorbtpro[base] @ git+https://github.com/polakowo/vectorbt.pro.git\"\n",
    "\n",
    "import vectorbtpro as vbt\n",
    "from configs.featuresShiftedConfig import FeaturesShiftedConfig\n",
    "from configs.config import Config\n",
    "from services.shiftedCreator import createFeatureDataShifted\n",
    "\n",
    "%load_ext autoreload\n",
    "%autoreload 2\n",
    "\n",
    "\n",
    "from configs import config\n",
    "\n",
    "config.makeDirectoryPath(['checkpoints', Config.originalDir])\n",
    "config.makeDirectoryPath(['checkpoints', Config.secondDir])\n",
    "config.makeDirectoryPath(['checkpoints', Config.flippedDir])\n",
    "config.makeDirectoryPath(['checkpoints', Config.otherDir])\n",
    "\n"
   ]
  },
  {
   "cell_type": "code",
   "execution_count": 117,
   "outputs": [],
   "source": [
    "from configs.config import Config\n",
    "from vectorbtpro.data.custom import LocalDataT\n",
    "def createOtherShiftedData(symbol: str):\n",
    "    symbolBarData:LocalDataT =  vbt.HDFData.fetch(Config.relativeSymbolDownloadDataPath(symbol))\n",
    "    config = FeaturesShiftedConfig(\"other\", symbol)\n",
    "    featureDataShifted = createFeatureDataShifted(symbol, config, symbolBarData)\n",
    "    return featureDataShifted\n",
    "\n",
    "def createShiftedData(symbol, dirStr, downloadPath):\n",
    "    symbolBarData:LocalDataT =  vbt.HDFData.fetch(downloadPath)\n",
    "    config =FeaturesShiftedConfig(dirStr)\n",
    "    featureDataShifted = createFeatureDataShifted(symbol, config, symbolBarData)\n",
    "    return featureDataShifted"
   ],
   "metadata": {
    "collapsed": false
   }
  },
  {
   "cell_type": "code",
   "execution_count": null,
   "outputs": [],
   "source": [
    "\n",
    "btc2FeatureDataShifted = createShiftedData('X:BTCUSD', Config.originalDir, Config.relativeDownloadDataPath)\n",
    "eth2FeatureDataShifted = createShiftedData(\"X:ETHUSD\", Config.secondDir, Config.relativeDownloadDataPath)\n",
    "flipped2FeatureDataShifted = createShiftedData('X:BTCUSD', Config.flippedDir, Config.relativeFlippedDataPath)\n"
   ],
   "metadata": {
    "collapsed": false,
    "pycharm": {
     "is_executing": true
    }
   }
  },
  {
   "cell_type": "code",
   "execution_count": null,
   "outputs": [],
   "source": [
    "print(btc2FeatureDataShifted.shape)\n",
    "print(eth2FeatureDataShifted.shape)\n",
    "print(flipped2FeatureDataShifted.shape)\n",
    "btcFeatures = btc2FeatureDataShifted.loc[:, Config.featuresColumnStart:Config.featuresColumnEnd]\n",
    "ethFeatures = eth2FeatureDataShifted.loc[:, Config.featuresColumnStart:Config.featuresColumnEnd]\n",
    "flipFeatures = flipped2FeatureDataShifted.loc[:, Config.featuresColumnStart:Config.featuresColumnEnd]\n",
    "print(\"------\")\n",
    "print(btcFeatures.shape)\n",
    "print(ethFeatures.shape)\n",
    "print(flipFeatures.shape)\n",
    "# the model was trained on 178 features"
   ],
   "metadata": {
    "collapsed": false
   }
  },
  {
   "cell_type": "code",
   "execution_count": null,
   "outputs": [],
   "source": [
    "\n",
    "cnyUsdFeatureDataShifted = createOtherShiftedData(\"C:CNYUSD\")\n",
    "eurUsdFeatureDataShifted = createOtherShiftedData(\"C:EURUSD\")\n",
    "jpyUsdFeatureDataShifted = createOtherShiftedData(\"C:JPYUSD\")\n",
    "usdCnyFeatureDataShifted = createOtherShiftedData(\"C:USDCNY\")\n",
    "usdEurFeatureDataShifted = createOtherShiftedData(\"C:USDEUR\")\n",
    "usdJpyFeatureDataShifted = createOtherShiftedData(\"C:USDJPY\")\n",
    "btcFeatureDataShifted = createOtherShiftedData(\"X:BTCUSD\")\n",
    "dogeFeatureDataShifted = createOtherShiftedData(\"X:DOGEUSD\")\n",
    "ethFeatureDataShifted = createOtherShiftedData(\"X:ETHUSD\")\n",
    "xmrFeatureDataShifted = createOtherShiftedData(\"X:XMRUSD\")\n"
   ],
   "metadata": {
    "collapsed": false
   }
  },
  {
   "cell_type": "code",
   "execution_count": 112,
   "outputs": [],
   "source": [],
   "metadata": {
    "collapsed": false
   }
  },
  {
   "cell_type": "code",
   "execution_count": 95,
   "outputs": [
    {
     "data": {
      "text/plain": "                           CurrentOpen      Open      High           Low  \\\nOpen time                                                                  \n2021-06-02 00:00:00+00:00     36684.99  36439.76  36823.40  36422.294859   \n2021-06-02 01:00:00+00:00     36182.07  36684.99  36906.50  36043.990000   \n2021-06-02 02:00:00+00:00     36293.60  36182.07  36300.00  35920.000000   \n2021-06-02 03:00:00+00:00     36255.12  36293.60  36546.17  36216.500000   \n2021-06-02 04:00:00+00:00     36472.02  36255.12  36682.00  36255.120000   \n...                                ...       ...       ...           ...   \n2022-12-31 19:00:00+00:00     16566.60  16573.80  16611.00  16559.900000   \n2022-12-31 20:00:00+00:00     16559.68  16566.60  16616.00  16543.000000   \n2022-12-31 21:00:00+00:00     16555.80  16559.68  16602.00  16550.410000   \n2022-12-31 22:00:00+00:00     16537.00  16555.80  16595.00  16533.790000   \n2022-12-31 23:00:00+00:00     16510.00  16537.00  16587.00  16462.490000   \n\n                              Close       Volume  Trade count        VWAP  \\\nOpen time                                                                   \n2021-06-02 00:00:00+00:00  36685.00  1263.603101      22818.0  36633.9780   \n2021-06-02 01:00:00+00:00  36176.78  1661.570190      30239.0  36436.2128   \n2021-06-02 02:00:00+00:00  36291.65   836.048747      21076.0  36118.8145   \n2021-06-02 03:00:00+00:00  36285.00   846.501634      18957.0  36405.2695   \n2021-06-02 04:00:00+00:00  36476.15   937.614284      17867.0  36498.1451   \n...                             ...          ...          ...         ...   \n2022-12-31 19:00:00+00:00  16567.48   938.190422      17882.0  16570.7030   \n2022-12-31 20:00:00+00:00  16559.76  1103.722971      19574.0  16564.1324   \n2022-12-31 21:00:00+00:00  16556.30   768.860591      15525.0  16558.0107   \n2022-12-31 22:00:00+00:00  16539.22   992.226567      16497.0  16549.0975   \n2022-12-31 23:00:00+00:00  16510.99  1589.224957      21885.0  16520.8257   \n\n                                ad_real      add_real  ...    trima_real  \\\nOpen time                                              ...                 \n2021-06-02 00:00:00+00:00 -2.753370e+06  73245.694859  ...  36640.195862   \n2021-06-02 01:00:00+00:00 -2.754520e+06  72950.490000  ...  36604.276819   \n2021-06-02 02:00:00+00:00 -2.753720e+06  72220.000000  ...  36569.731901   \n2021-06-02 03:00:00+00:00 -2.754215e+06  72762.670000  ...  36535.773233   \n2021-06-02 04:00:00+00:00 -2.754182e+06  72937.120000  ...  36503.573690   \n...                                 ...           ...  ...           ...   \n2022-12-31 19:00:00+00:00 -3.012695e+06  33170.900000  ...  16558.688125   \n2022-12-31 20:00:00+00:00 -3.013292e+06  33159.000000  ...  16560.278458   \n2022-12-31 21:00:00+00:00 -3.013885e+06  33152.410000  ...  16561.433000   \n2022-12-31 22:00:00+00:00 -3.014701e+06  33128.790000  ...  16561.989500   \n2022-12-31 23:00:00+00:00 -3.015052e+06  33049.490000  ...  16562.414792   \n\n                           trix_real      tsf_real  typprice_real  \\\nOpen time                                                           \n2021-06-02 00:00:00+00:00   0.043214  36308.528465   36643.564953   \n2021-06-02 01:00:00+00:00   0.041214  36262.112212   36375.756667   \n2021-06-02 02:00:00+00:00   0.039191  36285.734200   36170.550000   \n2021-06-02 03:00:00+00:00   0.037158  36239.777508   36349.223333   \n2021-06-02 04:00:00+00:00   0.035272  36396.577628   36471.090000   \n...                              ...           ...            ...   \n2022-12-31 19:00:00+00:00  -0.006501  16593.512088   16579.460000   \n2022-12-31 20:00:00+00:00  -0.006036  16589.236154   16572.920000   \n2022-12-31 21:00:00+00:00  -0.005616  16580.905714   16569.570000   \n2022-12-31 22:00:00+00:00  -0.005264  16570.327253   16556.003333   \n2022-12-31 23:00:00+00:00  -0.005015  16550.257692   16520.160000   \n\n                           ultosc_real      var_real  wclprice_real  \\\nOpen time                                                             \n2021-06-02 00:00:00+00:00    61.772526  51371.089277   36653.923715   \n2021-06-02 01:00:00+00:00    51.570868  27319.145197   36326.012500   \n2021-06-02 02:00:00+00:00    55.995113  28857.238717   36200.825000   \n2021-06-02 03:00:00+00:00    55.286268  30671.030557   36333.167500   \n2021-06-02 04:00:00+00:00    49.826403  32071.279644   36472.355000   \n...                                ...           ...            ...   \n2022-12-31 19:00:00+00:00    32.735186     84.470150   16576.465000   \n2022-12-31 20:00:00+00:00    29.172963    152.873966   16569.630000   \n2022-12-31 21:00:00+00:00    22.831123    153.962926   16566.252500   \n2022-12-31 22:00:00+00:00    22.405640    135.114734   16551.807500   \n2022-12-31 23:00:00+00:00    25.992418    405.134830   16517.867500   \n\n                           willr_real      wma_real  outWQA1  \nOpen time                                                     \n2021-06-02 00:00:00+00:00  -41.676718  36503.030394     0.25  \n2021-06-02 01:00:00+00:00  -70.455562  36472.400158     0.25  \n2021-06-02 02:00:00+00:00  -63.950848  36450.331492     0.25  \n2021-06-02 03:00:00+00:00  -64.327416  36429.114439     0.25  \n2021-06-02 04:00:00+00:00  -50.820562  36421.119279     0.25  \n...                               ...           ...      ...  \n2022-12-31 19:00:00+00:00  -65.659864  16565.971183     0.50  \n2022-12-31 20:00:00+00:00  -70.911565  16566.377936     0.00  \n2022-12-31 21:00:00+00:00  -81.215595  16566.340710     0.00  \n2022-12-31 22:00:00+00:00  -94.095468  16564.880645     0.00  \n2022-12-31 23:00:00+00:00  -75.931716  16561.622043     0.00  \n\n[13872 rows x 178 columns]",
      "text/html": "<div>\n<style scoped>\n    .dataframe tbody tr th:only-of-type {\n        vertical-align: middle;\n    }\n\n    .dataframe tbody tr th {\n        vertical-align: top;\n    }\n\n    .dataframe thead th {\n        text-align: right;\n    }\n</style>\n<table border=\"1\" class=\"dataframe\">\n  <thead>\n    <tr style=\"text-align: right;\">\n      <th></th>\n      <th>CurrentOpen</th>\n      <th>Open</th>\n      <th>High</th>\n      <th>Low</th>\n      <th>Close</th>\n      <th>Volume</th>\n      <th>Trade count</th>\n      <th>VWAP</th>\n      <th>ad_real</th>\n      <th>add_real</th>\n      <th>...</th>\n      <th>trima_real</th>\n      <th>trix_real</th>\n      <th>tsf_real</th>\n      <th>typprice_real</th>\n      <th>ultosc_real</th>\n      <th>var_real</th>\n      <th>wclprice_real</th>\n      <th>willr_real</th>\n      <th>wma_real</th>\n      <th>outWQA1</th>\n    </tr>\n    <tr>\n      <th>Open time</th>\n      <th></th>\n      <th></th>\n      <th></th>\n      <th></th>\n      <th></th>\n      <th></th>\n      <th></th>\n      <th></th>\n      <th></th>\n      <th></th>\n      <th></th>\n      <th></th>\n      <th></th>\n      <th></th>\n      <th></th>\n      <th></th>\n      <th></th>\n      <th></th>\n      <th></th>\n      <th></th>\n      <th></th>\n    </tr>\n  </thead>\n  <tbody>\n    <tr>\n      <th>2021-06-02 00:00:00+00:00</th>\n      <td>36684.99</td>\n      <td>36439.76</td>\n      <td>36823.40</td>\n      <td>36422.294859</td>\n      <td>36685.00</td>\n      <td>1263.603101</td>\n      <td>22818.0</td>\n      <td>36633.9780</td>\n      <td>-2.753370e+06</td>\n      <td>73245.694859</td>\n      <td>...</td>\n      <td>36640.195862</td>\n      <td>0.043214</td>\n      <td>36308.528465</td>\n      <td>36643.564953</td>\n      <td>61.772526</td>\n      <td>51371.089277</td>\n      <td>36653.923715</td>\n      <td>-41.676718</td>\n      <td>36503.030394</td>\n      <td>0.25</td>\n    </tr>\n    <tr>\n      <th>2021-06-02 01:00:00+00:00</th>\n      <td>36182.07</td>\n      <td>36684.99</td>\n      <td>36906.50</td>\n      <td>36043.990000</td>\n      <td>36176.78</td>\n      <td>1661.570190</td>\n      <td>30239.0</td>\n      <td>36436.2128</td>\n      <td>-2.754520e+06</td>\n      <td>72950.490000</td>\n      <td>...</td>\n      <td>36604.276819</td>\n      <td>0.041214</td>\n      <td>36262.112212</td>\n      <td>36375.756667</td>\n      <td>51.570868</td>\n      <td>27319.145197</td>\n      <td>36326.012500</td>\n      <td>-70.455562</td>\n      <td>36472.400158</td>\n      <td>0.25</td>\n    </tr>\n    <tr>\n      <th>2021-06-02 02:00:00+00:00</th>\n      <td>36293.60</td>\n      <td>36182.07</td>\n      <td>36300.00</td>\n      <td>35920.000000</td>\n      <td>36291.65</td>\n      <td>836.048747</td>\n      <td>21076.0</td>\n      <td>36118.8145</td>\n      <td>-2.753720e+06</td>\n      <td>72220.000000</td>\n      <td>...</td>\n      <td>36569.731901</td>\n      <td>0.039191</td>\n      <td>36285.734200</td>\n      <td>36170.550000</td>\n      <td>55.995113</td>\n      <td>28857.238717</td>\n      <td>36200.825000</td>\n      <td>-63.950848</td>\n      <td>36450.331492</td>\n      <td>0.25</td>\n    </tr>\n    <tr>\n      <th>2021-06-02 03:00:00+00:00</th>\n      <td>36255.12</td>\n      <td>36293.60</td>\n      <td>36546.17</td>\n      <td>36216.500000</td>\n      <td>36285.00</td>\n      <td>846.501634</td>\n      <td>18957.0</td>\n      <td>36405.2695</td>\n      <td>-2.754215e+06</td>\n      <td>72762.670000</td>\n      <td>...</td>\n      <td>36535.773233</td>\n      <td>0.037158</td>\n      <td>36239.777508</td>\n      <td>36349.223333</td>\n      <td>55.286268</td>\n      <td>30671.030557</td>\n      <td>36333.167500</td>\n      <td>-64.327416</td>\n      <td>36429.114439</td>\n      <td>0.25</td>\n    </tr>\n    <tr>\n      <th>2021-06-02 04:00:00+00:00</th>\n      <td>36472.02</td>\n      <td>36255.12</td>\n      <td>36682.00</td>\n      <td>36255.120000</td>\n      <td>36476.15</td>\n      <td>937.614284</td>\n      <td>17867.0</td>\n      <td>36498.1451</td>\n      <td>-2.754182e+06</td>\n      <td>72937.120000</td>\n      <td>...</td>\n      <td>36503.573690</td>\n      <td>0.035272</td>\n      <td>36396.577628</td>\n      <td>36471.090000</td>\n      <td>49.826403</td>\n      <td>32071.279644</td>\n      <td>36472.355000</td>\n      <td>-50.820562</td>\n      <td>36421.119279</td>\n      <td>0.25</td>\n    </tr>\n    <tr>\n      <th>...</th>\n      <td>...</td>\n      <td>...</td>\n      <td>...</td>\n      <td>...</td>\n      <td>...</td>\n      <td>...</td>\n      <td>...</td>\n      <td>...</td>\n      <td>...</td>\n      <td>...</td>\n      <td>...</td>\n      <td>...</td>\n      <td>...</td>\n      <td>...</td>\n      <td>...</td>\n      <td>...</td>\n      <td>...</td>\n      <td>...</td>\n      <td>...</td>\n      <td>...</td>\n      <td>...</td>\n    </tr>\n    <tr>\n      <th>2022-12-31 19:00:00+00:00</th>\n      <td>16566.60</td>\n      <td>16573.80</td>\n      <td>16611.00</td>\n      <td>16559.900000</td>\n      <td>16567.48</td>\n      <td>938.190422</td>\n      <td>17882.0</td>\n      <td>16570.7030</td>\n      <td>-3.012695e+06</td>\n      <td>33170.900000</td>\n      <td>...</td>\n      <td>16558.688125</td>\n      <td>-0.006501</td>\n      <td>16593.512088</td>\n      <td>16579.460000</td>\n      <td>32.735186</td>\n      <td>84.470150</td>\n      <td>16576.465000</td>\n      <td>-65.659864</td>\n      <td>16565.971183</td>\n      <td>0.50</td>\n    </tr>\n    <tr>\n      <th>2022-12-31 20:00:00+00:00</th>\n      <td>16559.68</td>\n      <td>16566.60</td>\n      <td>16616.00</td>\n      <td>16543.000000</td>\n      <td>16559.76</td>\n      <td>1103.722971</td>\n      <td>19574.0</td>\n      <td>16564.1324</td>\n      <td>-3.013292e+06</td>\n      <td>33159.000000</td>\n      <td>...</td>\n      <td>16560.278458</td>\n      <td>-0.006036</td>\n      <td>16589.236154</td>\n      <td>16572.920000</td>\n      <td>29.172963</td>\n      <td>152.873966</td>\n      <td>16569.630000</td>\n      <td>-70.911565</td>\n      <td>16566.377936</td>\n      <td>0.00</td>\n    </tr>\n    <tr>\n      <th>2022-12-31 21:00:00+00:00</th>\n      <td>16555.80</td>\n      <td>16559.68</td>\n      <td>16602.00</td>\n      <td>16550.410000</td>\n      <td>16556.30</td>\n      <td>768.860591</td>\n      <td>15525.0</td>\n      <td>16558.0107</td>\n      <td>-3.013885e+06</td>\n      <td>33152.410000</td>\n      <td>...</td>\n      <td>16561.433000</td>\n      <td>-0.005616</td>\n      <td>16580.905714</td>\n      <td>16569.570000</td>\n      <td>22.831123</td>\n      <td>153.962926</td>\n      <td>16566.252500</td>\n      <td>-81.215595</td>\n      <td>16566.340710</td>\n      <td>0.00</td>\n    </tr>\n    <tr>\n      <th>2022-12-31 22:00:00+00:00</th>\n      <td>16537.00</td>\n      <td>16555.80</td>\n      <td>16595.00</td>\n      <td>16533.790000</td>\n      <td>16539.22</td>\n      <td>992.226567</td>\n      <td>16497.0</td>\n      <td>16549.0975</td>\n      <td>-3.014701e+06</td>\n      <td>33128.790000</td>\n      <td>...</td>\n      <td>16561.989500</td>\n      <td>-0.005264</td>\n      <td>16570.327253</td>\n      <td>16556.003333</td>\n      <td>22.405640</td>\n      <td>135.114734</td>\n      <td>16551.807500</td>\n      <td>-94.095468</td>\n      <td>16564.880645</td>\n      <td>0.00</td>\n    </tr>\n    <tr>\n      <th>2022-12-31 23:00:00+00:00</th>\n      <td>16510.00</td>\n      <td>16537.00</td>\n      <td>16587.00</td>\n      <td>16462.490000</td>\n      <td>16510.99</td>\n      <td>1589.224957</td>\n      <td>21885.0</td>\n      <td>16520.8257</td>\n      <td>-3.015052e+06</td>\n      <td>33049.490000</td>\n      <td>...</td>\n      <td>16562.414792</td>\n      <td>-0.005015</td>\n      <td>16550.257692</td>\n      <td>16520.160000</td>\n      <td>25.992418</td>\n      <td>405.134830</td>\n      <td>16517.867500</td>\n      <td>-75.931716</td>\n      <td>16561.622043</td>\n      <td>0.00</td>\n    </tr>\n  </tbody>\n</table>\n<p>13872 rows × 178 columns</p>\n</div>"
     },
     "execution_count": 95,
     "metadata": {},
     "output_type": "execute_result"
    }
   ],
   "source": [
    "#modelFeatures: DataFrame = vbt.HDFData.fetch(Config.relativeTestFeaturesPath).data['test_features']\n",
    "#modelFeatures"
   ],
   "metadata": {
    "collapsed": false
   }
  },
  {
   "cell_type": "code",
   "execution_count": 67,
   "outputs": [],
   "source": [],
   "metadata": {
    "collapsed": false
   }
  },
  {
   "cell_type": "code",
   "execution_count": 67,
   "outputs": [],
   "source": [],
   "metadata": {
    "collapsed": false
   }
  }
 ],
 "metadata": {
  "kernelspec": {
   "display_name": "Python 3",
   "language": "python",
   "name": "python3"
  },
  "language_info": {
   "codemirror_mode": {
    "name": "ipython",
    "version": 2
   },
   "file_extension": ".py",
   "mimetype": "text/x-python",
   "name": "python",
   "nbconvert_exporter": "python",
   "pygments_lexer": "ipython2",
   "version": "2.7.6"
  }
 },
 "nbformat": 4,
 "nbformat_minor": 0
}
