{
 "cells": [
  {
   "cell_type": "code",
   "execution_count": null,
   "metadata": {
    "collapsed": true
   },
   "outputs": [],
   "source": [
    "\n",
    "%load_ext autoreload\n",
    "%autoreload 2\n",
    "from pandas import DataFrame\n",
    "%matplotlib inline\n",
    "import vectorbtpro as vbt\n",
    "import warnings\n",
    "warnings.filterwarnings('ignore')\n",
    "%matplotlib inline\n",
    "from configs.config import Config\n",
    "from vectorbtpro.data.custom import LocalDataT\n",
    "from configs.comparisonConfig import ComparisonConfig\n",
    "from configs.testDataConfig import TestDataConfig\n",
    "import tensorflow as tf\n",
    "from services.createPortfolioWrap import createPortfolioWrap, fetchComparison\n",
    "from services.createHistogramAndComparison import createHistogram\n",
    "from services.createHistogramAndComparison import createComparison\n",
    "\n",
    "gpu = len(tf.config.list_physical_devices('GPU'))>0\n",
    "print(\"GPU is\", \"available\" if gpu else \"NOT AVAILABLE\")\n",
    "\n",
    "'''\n",
    "    This notebook creates and tests simple models and combines them with the machine learning models.\n",
    "'''\n"
   ]
  },
  {
   "cell_type": "code",
   "execution_count": 6,
   "outputs": [],
   "source": [
    "from pandas import Series\n",
    "\n",
    "def makePort(close: Series, longEntries: Series, longExits: Series, shortEntries, shortExits: Series):\n",
    "    pf: Portfolio = vbt.Portfolio.from_signals(\n",
    "        close=close,\n",
    "        short_entries=shortEntries,\n",
    "        short_exits=shortExits,\n",
    "        long_entries=longEntries,\n",
    "        long_exits=longExits,\n",
    "        size=10000,\n",
    "        size_type='value',\n",
    "        init_cash='auto',\n",
    "        tp_stop=0.3,\n",
    "        sl_stop=0.03,\n",
    "        # https://vectorbt.pro/pvt_d904e513/documentation/portfolio/from-signals/#stop-orders\n",
    "    )\n",
    "    return pf\n",
    "\n"
   ],
   "metadata": {
    "collapsed": false
   }
  },
  {
   "cell_type": "code",
   "execution_count": null,
   "outputs": [],
   "source": [
    "comparisonEthUsd50 = createComparison(TestDataConfig.symbolConfig(\"X:ETHUSD\"),\n",
    "                                      ComparisonConfig(Config.otherDir, \"50\", \"X:ETHUSD\"),\n",
    "                                      \"longEntry50\", \"shortEntry50\")"
   ],
   "metadata": {
    "collapsed": false
   }
  },
  {
   "cell_type": "code",
   "execution_count": 8,
   "outputs": [
    {
     "data": {
      "text/plain": "Start                         2017-01-06 02:00:00+00:00\nEnd                           2022-12-31 23:00:00+00:00\nPeriod                                            52448\nStart Value                                10381.942635\nMin Value                                   9881.278539\nMax Value                                  86473.097059\nEnd Value                                  83713.770211\nTotal Return [%]                             706.340135\nBenchmark Return [%]                       11936.858006\nTotal Time Exposure [%]                        65.57924\nMax Gross Exposure [%]                       102.031351\nMax Drawdown [%]                              14.852369\nMax Drawdown Duration                            7084.0\nTotal Orders                                       1311\nTotal Fees Paid                                     0.0\nTotal Trades                                        937\nWin Rate [%]                                  38.675214\nBest Trade [%]                                     30.0\nWorst Trade [%]                                    -3.0\nAvg Winning Trade [%]                          5.732872\nAvg Losing Trade [%]                          -2.337175\nAvg Winning Trade Duration                         57.0\nAvg Losing Trade Duration                     23.909408\nProfit Factor                                  1.546955\nExpectancy                                    78.393284\ndtype: object"
     },
     "execution_count": 8,
     "metadata": {},
     "output_type": "execute_result"
    }
   ],
   "source": [
    "pf50EthWrap = createPortfolioWrap(Config.otherDir, Config.relativeSymbolDownloadDataPath('X:ETHUSD'),\n",
    "                                  'X:ETHUSD', 50, .75, .6)\n",
    "pf50eth = pf50EthWrap.portfolio\n",
    "pf50eth.stats()"
   ],
   "metadata": {
    "collapsed": false
   }
  },
  {
   "cell_type": "code",
   "execution_count": 9,
   "outputs": [
    {
     "data": {
      "text/plain": "Start                         2017-01-06 22:00:00+00:00\nEnd                           2022-12-31 23:00:00+00:00\nPeriod                                            52156\nStart Value                                10659.462025\nMin Value                                   9718.838667\nMax Value                                  46464.677443\nEnd Value                                  35043.745411\nTotal Return [%]                             228.757167\nBenchmark Return [%]                         989.595376\nTotal Time Exposure [%]                       54.338906\nMax Gross Exposure [%]                       100.904923\nMax Drawdown [%]                              29.141236\nMax Drawdown Duration                           15618.0\nTotal Orders                                        990\nTotal Fees Paid                                     0.0\nTotal Trades                                        630\nWin Rate [%]                                  30.047695\nBest Trade [%]                                     30.0\nWorst Trade [%]                                    -3.0\nAvg Winning Trade [%]                          7.426083\nAvg Losing Trade [%]                          -2.642976\nAvg Winning Trade Duration                    90.201058\nAvg Losing Trade Duration                     25.238636\nProfit Factor                                  1.206912\nExpectancy                                    38.254439\ndtype: object"
     },
     "execution_count": 9,
     "metadata": {},
     "output_type": "execute_result"
    }
   ],
   "source": [
    "xmrPeriod=50\n",
    "pfXmrWrap = createPortfolioWrap(Config.otherDir, Config.relativeSymbolDownloadDataPath('X:XMRUSD'),\n",
    "                                  'X:XMRUSD', xmrPeriod, .75, .6)\n",
    "pf50xmr = pfXmrWrap.portfolio\n",
    "pf50xmr.stats()"
   ],
   "metadata": {
    "collapsed": false
   }
  },
  {
   "cell_type": "code",
   "execution_count": 10,
   "outputs": [
    {
     "data": {
      "text/plain": "Open time\n2017-01-06 22:00:00+00:00    False\n2017-01-06 23:00:00+00:00    False\n2017-01-07 00:00:00+00:00    False\n2017-01-07 01:00:00+00:00    False\n2017-01-07 02:00:00+00:00    False\n                             ...  \n2022-12-31 19:00:00+00:00    False\n2022-12-31 20:00:00+00:00    False\n2022-12-31 21:00:00+00:00    False\n2022-12-31 22:00:00+00:00    False\n2022-12-31 23:00:00+00:00    False\nLength: 52156, dtype: bool"
     },
     "execution_count": 10,
     "metadata": {},
     "output_type": "execute_result"
    }
   ],
   "source": [
    "pfXmrWrap.longEntries"
   ],
   "metadata": {
    "collapsed": false
   }
  },
  {
   "cell_type": "code",
   "execution_count": 11,
   "outputs": [
    {
     "data": {
      "text/plain": "Start                         2017-01-06 22:00:00+00:00\nEnd                           2022-12-31 23:00:00+00:00\nPeriod                                            52156\nStart Value                                10659.462025\nMin Value                                   9718.838667\nMax Value                                  46464.677443\nEnd Value                                  35043.745411\nTotal Return [%]                             228.757167\nBenchmark Return [%]                         989.595376\nTotal Time Exposure [%]                       54.338906\nMax Gross Exposure [%]                       100.904923\nMax Drawdown [%]                              29.141236\nMax Drawdown Duration                           15618.0\nTotal Orders                                        990\nTotal Fees Paid                                     0.0\nTotal Trades                                        630\nWin Rate [%]                                  30.047695\nBest Trade [%]                                     30.0\nWorst Trade [%]                                    -3.0\nAvg Winning Trade [%]                          7.426083\nAvg Losing Trade [%]                          -2.642976\nAvg Winning Trade Duration                    90.201058\nAvg Losing Trade Duration                     25.238636\nProfit Factor                                  1.206912\nExpectancy                                    38.254439\ndtype: object"
     },
     "execution_count": 11,
     "metadata": {},
     "output_type": "execute_result"
    }
   ],
   "source": [
    "# pf50XmrWrap already contains the portfolio but I am recreating it to experiment\n",
    "from vectorbtpro import Portfolio\n",
    "\n",
    "pf= makePort(pfXmrWrap.close, pfXmrWrap.longEntries, pfXmrWrap.longExits,\n",
    "         pfXmrWrap.shortEntries, pfXmrWrap.shortExits)\n",
    "\n",
    "\n",
    "pf.stats()\n"
   ],
   "metadata": {
    "collapsed": false
   }
  },
  {
   "cell_type": "code",
   "execution_count": 12,
   "outputs": [
    {
     "data": {
      "text/plain": "Start                         2017-01-06 22:00:00+00:00\nEnd                           2022-12-31 23:00:00+00:00\nPeriod                                            52156\nStart Value                                     10300.0\nMin Value                                   9997.993723\nMax Value                                 772011.355981\nEnd Value                                 771946.027966\nTotal Return [%]                            7394.621631\nBenchmark Return [%]                         989.595376\nTotal Time Exposure [%]                       95.584401\nMax Gross Exposure [%]                       100.040134\nMax Drawdown [%]                                8.88277\nMax Drawdown Duration                             282.0\nTotal Orders                                        754\nTotal Fees Paid                                     0.0\nTotal Trades                                        620\nWin Rate [%]                                   90.95315\nBest Trade [%]                                     30.0\nWorst Trade [%]                                    -3.0\nAvg Winning Trade [%]                         13.822068\nAvg Losing Trade [%]                          -2.972704\nAvg Winning Trade Duration                    86.918295\nAvg Losing Trade Duration                        16.125\nProfit Factor                                 46.745715\nExpectancy                                  1230.267067\ndtype: object"
     },
     "execution_count": 12,
     "metadata": {},
     "output_type": "execute_result"
    }
   ],
   "source": [
    "comparison = fetchComparison(Config.otherDir, xmrPeriod, 'X:XMRUSD')\n",
    "\n",
    "pf= makePort(pfXmrWrap.close, comparison.actualLongEntry.astype('bool'), comparison.actualShortEntry.astype('bool'),\n",
    "             comparison.actualShortEntry.astype('bool'), comparison.actualLongEntry.astype('bool'))\n",
    "\n",
    "pf.stats()"
   ],
   "metadata": {
    "collapsed": false
   }
  },
  {
   "cell_type": "code",
   "execution_count": 13,
   "outputs": [
    {
     "data": {
      "text/plain": "Open time\n2017-01-01 03:00:00+00:00    0.017629\n2017-01-01 07:00:00+00:00    0.017629\n2017-01-01 10:00:00+00:00    0.017629\n2017-01-01 11:00:00+00:00    0.017629\n2017-01-01 16:00:00+00:00    0.017629\n                               ...   \n2022-12-31 19:00:00+00:00    0.280314\n2022-12-31 20:00:00+00:00    0.324319\n2022-12-31 21:00:00+00:00    0.363646\n2022-12-31 22:00:00+00:00    0.401938\n2022-12-31 23:00:00+00:00    0.422778\nName: macd_signal, Length: 52277, dtype: float64"
     },
     "execution_count": 13,
     "metadata": {},
     "output_type": "execute_result"
    }
   ],
   "source": [
    "from configs.featuresShiftedConfig import FeaturesShiftedConfig\n",
    "conf = FeaturesShiftedConfig(Config.otherDir, \"X:XMRUSD\")\n",
    "hdf: LocalDataT = vbt.HDFData.fetch(conf.relativeFeaturesShiftedPath)\n",
    "features = hdf.data[conf.featuresShiftedKey]\n",
    "#https://github.com/mellertson/talib-macd-example/blob/master/talib-macd-matplotlib-example.py\n",
    "features.macd_signal"
   ],
   "metadata": {
    "collapsed": false
   }
  },
  {
   "cell_type": "code",
   "execution_count": 14,
   "outputs": [
    {
     "data": {
      "text/plain": "                           CurrentOpen     Open     High      Low   Close  \\\nOpen time                                                                   \n2017-01-01 03:00:00+00:00       13.486   13.648   13.648   13.640   13.64   \n2017-01-01 07:00:00+00:00       13.700   13.486   13.640   13.486   13.64   \n2017-01-01 10:00:00+00:00       13.500   13.700   13.700   13.700   13.70   \n2017-01-01 11:00:00+00:00       13.750   13.500   13.500   13.500   13.50   \n2017-01-01 16:00:00+00:00       13.800   13.750   13.750   13.750   13.75   \n...                                ...      ...      ...      ...     ...   \n2022-12-31 19:00:00+00:00      147.180  147.810  148.020  147.140  147.59   \n2022-12-31 20:00:00+00:00      147.690  147.180  148.610  147.140  147.75   \n2022-12-31 21:00:00+00:00      148.090  147.690  148.170  147.470  147.68   \n2022-12-31 22:00:00+00:00      147.860  148.090  148.530  147.500  147.98   \n2022-12-31 23:00:00+00:00      146.800  147.860  148.800  146.600  147.11   \n\n                               Volume  Trade count      VWAP        ad_real  \\\nOpen time                                                                     \n2017-01-01 03:00:00+00:00   13.420157          2.0   13.6404     -13.420157   \n2017-01-01 07:00:00+00:00   13.879843          3.0   13.4981       0.459686   \n2017-01-01 10:00:00+00:00    9.124068          1.0   13.7000       0.459686   \n2017-01-01 11:00:00+00:00   14.798901          3.0   13.5000       0.459686   \n2017-01-01 16:00:00+00:00   10.000000          2.0   13.7500       0.459686   \n...                               ...          ...       ...            ...   \n2022-12-31 19:00:00+00:00   74.698918         66.0  147.5846 -788116.651168   \n2022-12-31 20:00:00+00:00  808.734991        115.0  147.7793 -788254.191132   \n2022-12-31 21:00:00+00:00   94.169371         73.0  147.6603 -788291.858881   \n2022-12-31 22:00:00+00:00  766.736624        361.0  147.6860 -788343.967195   \n2022-12-31 23:00:00+00:00  355.295123        176.0  147.8602 -788534.534579   \n\n                           add_real  ...    wma_real  outWQA1  longEntry10  \\\nOpen time                            ...                                     \n2017-01-01 03:00:00+00:00    27.288  ...  134.678260      0.5            0   \n2017-01-01 07:00:00+00:00    27.126  ...  134.678260      0.5            0   \n2017-01-01 10:00:00+00:00    27.400  ...  134.678260      0.5            1   \n2017-01-01 11:00:00+00:00    27.000  ...  134.678260      0.5            0   \n2017-01-01 16:00:00+00:00    27.500  ...  134.678260      0.5            1   \n...                             ...  ...         ...      ...          ...   \n2022-12-31 19:00:00+00:00   295.160  ...  146.379290      0.5            0   \n2022-12-31 20:00:00+00:00   295.750  ...  146.484129      0.5            0   \n2022-12-31 21:00:00+00:00   295.640  ...  146.578000      0.5            0   \n2022-12-31 22:00:00+00:00   296.030  ...  146.685785      0.5            0   \n2022-12-31 23:00:00+00:00   295.400  ...  146.733312      0.5            0   \n\n                           shortEntry10  longEntry20  shortEntry20  \\\nOpen time                                                            \n2017-01-01 03:00:00+00:00             0            0             0   \n2017-01-01 07:00:00+00:00             0            0             0   \n2017-01-01 10:00:00+00:00             0            1             0   \n2017-01-01 11:00:00+00:00             0            0             0   \n2017-01-01 16:00:00+00:00             0            0             0   \n...                                 ...          ...           ...   \n2022-12-31 19:00:00+00:00             0            0             0   \n2022-12-31 20:00:00+00:00             0            0             0   \n2022-12-31 21:00:00+00:00             1            1             0   \n2022-12-31 22:00:00+00:00             0            0             0   \n2022-12-31 23:00:00+00:00             1            0             0   \n\n                           longEntry50  shortEntry50  longEntry100  \\\nOpen time                                                            \n2017-01-01 03:00:00+00:00            0             0             0   \n2017-01-01 07:00:00+00:00            0             0             0   \n2017-01-01 10:00:00+00:00            1             0             1   \n2017-01-01 11:00:00+00:00            0             0             0   \n2017-01-01 16:00:00+00:00            0             0             0   \n...                                ...           ...           ...   \n2022-12-31 19:00:00+00:00            0             0             0   \n2022-12-31 20:00:00+00:00            0             0             0   \n2022-12-31 21:00:00+00:00            1             0             1   \n2022-12-31 22:00:00+00:00            0             0             0   \n2022-12-31 23:00:00+00:00            0             0             0   \n\n                           shortEntry100  \nOpen time                                 \n2017-01-01 03:00:00+00:00              0  \n2017-01-01 07:00:00+00:00              0  \n2017-01-01 10:00:00+00:00              0  \n2017-01-01 11:00:00+00:00              0  \n2017-01-01 16:00:00+00:00              0  \n...                                  ...  \n2022-12-31 19:00:00+00:00              0  \n2022-12-31 20:00:00+00:00              0  \n2022-12-31 21:00:00+00:00              0  \n2022-12-31 22:00:00+00:00              0  \n2022-12-31 23:00:00+00:00              0  \n\n[52277 rows x 186 columns]",
      "text/html": "<div>\n<style scoped>\n    .dataframe tbody tr th:only-of-type {\n        vertical-align: middle;\n    }\n\n    .dataframe tbody tr th {\n        vertical-align: top;\n    }\n\n    .dataframe thead th {\n        text-align: right;\n    }\n</style>\n<table border=\"1\" class=\"dataframe\">\n  <thead>\n    <tr style=\"text-align: right;\">\n      <th></th>\n      <th>CurrentOpen</th>\n      <th>Open</th>\n      <th>High</th>\n      <th>Low</th>\n      <th>Close</th>\n      <th>Volume</th>\n      <th>Trade count</th>\n      <th>VWAP</th>\n      <th>ad_real</th>\n      <th>add_real</th>\n      <th>...</th>\n      <th>wma_real</th>\n      <th>outWQA1</th>\n      <th>longEntry10</th>\n      <th>shortEntry10</th>\n      <th>longEntry20</th>\n      <th>shortEntry20</th>\n      <th>longEntry50</th>\n      <th>shortEntry50</th>\n      <th>longEntry100</th>\n      <th>shortEntry100</th>\n    </tr>\n    <tr>\n      <th>Open time</th>\n      <th></th>\n      <th></th>\n      <th></th>\n      <th></th>\n      <th></th>\n      <th></th>\n      <th></th>\n      <th></th>\n      <th></th>\n      <th></th>\n      <th></th>\n      <th></th>\n      <th></th>\n      <th></th>\n      <th></th>\n      <th></th>\n      <th></th>\n      <th></th>\n      <th></th>\n      <th></th>\n      <th></th>\n    </tr>\n  </thead>\n  <tbody>\n    <tr>\n      <th>2017-01-01 03:00:00+00:00</th>\n      <td>13.486</td>\n      <td>13.648</td>\n      <td>13.648</td>\n      <td>13.640</td>\n      <td>13.64</td>\n      <td>13.420157</td>\n      <td>2.0</td>\n      <td>13.6404</td>\n      <td>-13.420157</td>\n      <td>27.288</td>\n      <td>...</td>\n      <td>134.678260</td>\n      <td>0.5</td>\n      <td>0</td>\n      <td>0</td>\n      <td>0</td>\n      <td>0</td>\n      <td>0</td>\n      <td>0</td>\n      <td>0</td>\n      <td>0</td>\n    </tr>\n    <tr>\n      <th>2017-01-01 07:00:00+00:00</th>\n      <td>13.700</td>\n      <td>13.486</td>\n      <td>13.640</td>\n      <td>13.486</td>\n      <td>13.64</td>\n      <td>13.879843</td>\n      <td>3.0</td>\n      <td>13.4981</td>\n      <td>0.459686</td>\n      <td>27.126</td>\n      <td>...</td>\n      <td>134.678260</td>\n      <td>0.5</td>\n      <td>0</td>\n      <td>0</td>\n      <td>0</td>\n      <td>0</td>\n      <td>0</td>\n      <td>0</td>\n      <td>0</td>\n      <td>0</td>\n    </tr>\n    <tr>\n      <th>2017-01-01 10:00:00+00:00</th>\n      <td>13.500</td>\n      <td>13.700</td>\n      <td>13.700</td>\n      <td>13.700</td>\n      <td>13.70</td>\n      <td>9.124068</td>\n      <td>1.0</td>\n      <td>13.7000</td>\n      <td>0.459686</td>\n      <td>27.400</td>\n      <td>...</td>\n      <td>134.678260</td>\n      <td>0.5</td>\n      <td>1</td>\n      <td>0</td>\n      <td>1</td>\n      <td>0</td>\n      <td>1</td>\n      <td>0</td>\n      <td>1</td>\n      <td>0</td>\n    </tr>\n    <tr>\n      <th>2017-01-01 11:00:00+00:00</th>\n      <td>13.750</td>\n      <td>13.500</td>\n      <td>13.500</td>\n      <td>13.500</td>\n      <td>13.50</td>\n      <td>14.798901</td>\n      <td>3.0</td>\n      <td>13.5000</td>\n      <td>0.459686</td>\n      <td>27.000</td>\n      <td>...</td>\n      <td>134.678260</td>\n      <td>0.5</td>\n      <td>0</td>\n      <td>0</td>\n      <td>0</td>\n      <td>0</td>\n      <td>0</td>\n      <td>0</td>\n      <td>0</td>\n      <td>0</td>\n    </tr>\n    <tr>\n      <th>2017-01-01 16:00:00+00:00</th>\n      <td>13.800</td>\n      <td>13.750</td>\n      <td>13.750</td>\n      <td>13.750</td>\n      <td>13.75</td>\n      <td>10.000000</td>\n      <td>2.0</td>\n      <td>13.7500</td>\n      <td>0.459686</td>\n      <td>27.500</td>\n      <td>...</td>\n      <td>134.678260</td>\n      <td>0.5</td>\n      <td>1</td>\n      <td>0</td>\n      <td>0</td>\n      <td>0</td>\n      <td>0</td>\n      <td>0</td>\n      <td>0</td>\n      <td>0</td>\n    </tr>\n    <tr>\n      <th>...</th>\n      <td>...</td>\n      <td>...</td>\n      <td>...</td>\n      <td>...</td>\n      <td>...</td>\n      <td>...</td>\n      <td>...</td>\n      <td>...</td>\n      <td>...</td>\n      <td>...</td>\n      <td>...</td>\n      <td>...</td>\n      <td>...</td>\n      <td>...</td>\n      <td>...</td>\n      <td>...</td>\n      <td>...</td>\n      <td>...</td>\n      <td>...</td>\n      <td>...</td>\n      <td>...</td>\n    </tr>\n    <tr>\n      <th>2022-12-31 19:00:00+00:00</th>\n      <td>147.180</td>\n      <td>147.810</td>\n      <td>148.020</td>\n      <td>147.140</td>\n      <td>147.59</td>\n      <td>74.698918</td>\n      <td>66.0</td>\n      <td>147.5846</td>\n      <td>-788116.651168</td>\n      <td>295.160</td>\n      <td>...</td>\n      <td>146.379290</td>\n      <td>0.5</td>\n      <td>0</td>\n      <td>0</td>\n      <td>0</td>\n      <td>0</td>\n      <td>0</td>\n      <td>0</td>\n      <td>0</td>\n      <td>0</td>\n    </tr>\n    <tr>\n      <th>2022-12-31 20:00:00+00:00</th>\n      <td>147.690</td>\n      <td>147.180</td>\n      <td>148.610</td>\n      <td>147.140</td>\n      <td>147.75</td>\n      <td>808.734991</td>\n      <td>115.0</td>\n      <td>147.7793</td>\n      <td>-788254.191132</td>\n      <td>295.750</td>\n      <td>...</td>\n      <td>146.484129</td>\n      <td>0.5</td>\n      <td>0</td>\n      <td>0</td>\n      <td>0</td>\n      <td>0</td>\n      <td>0</td>\n      <td>0</td>\n      <td>0</td>\n      <td>0</td>\n    </tr>\n    <tr>\n      <th>2022-12-31 21:00:00+00:00</th>\n      <td>148.090</td>\n      <td>147.690</td>\n      <td>148.170</td>\n      <td>147.470</td>\n      <td>147.68</td>\n      <td>94.169371</td>\n      <td>73.0</td>\n      <td>147.6603</td>\n      <td>-788291.858881</td>\n      <td>295.640</td>\n      <td>...</td>\n      <td>146.578000</td>\n      <td>0.5</td>\n      <td>0</td>\n      <td>1</td>\n      <td>1</td>\n      <td>0</td>\n      <td>1</td>\n      <td>0</td>\n      <td>1</td>\n      <td>0</td>\n    </tr>\n    <tr>\n      <th>2022-12-31 22:00:00+00:00</th>\n      <td>147.860</td>\n      <td>148.090</td>\n      <td>148.530</td>\n      <td>147.500</td>\n      <td>147.98</td>\n      <td>766.736624</td>\n      <td>361.0</td>\n      <td>147.6860</td>\n      <td>-788343.967195</td>\n      <td>296.030</td>\n      <td>...</td>\n      <td>146.685785</td>\n      <td>0.5</td>\n      <td>0</td>\n      <td>0</td>\n      <td>0</td>\n      <td>0</td>\n      <td>0</td>\n      <td>0</td>\n      <td>0</td>\n      <td>0</td>\n    </tr>\n    <tr>\n      <th>2022-12-31 23:00:00+00:00</th>\n      <td>146.800</td>\n      <td>147.860</td>\n      <td>148.800</td>\n      <td>146.600</td>\n      <td>147.11</td>\n      <td>355.295123</td>\n      <td>176.0</td>\n      <td>147.8602</td>\n      <td>-788534.534579</td>\n      <td>295.400</td>\n      <td>...</td>\n      <td>146.733312</td>\n      <td>0.5</td>\n      <td>0</td>\n      <td>1</td>\n      <td>0</td>\n      <td>0</td>\n      <td>0</td>\n      <td>0</td>\n      <td>0</td>\n      <td>0</td>\n    </tr>\n  </tbody>\n</table>\n<p>52277 rows × 186 columns</p>\n</div>"
     },
     "execution_count": 14,
     "metadata": {},
     "output_type": "execute_result"
    }
   ],
   "source": [
    "features"
   ],
   "metadata": {
    "collapsed": false
   }
  },
  {
   "cell_type": "code",
   "execution_count": 15,
   "outputs": [],
   "source": [
    "\n",
    "#https://github.com/mellertson/talib-macd-example/blob/master/talib-macd-matplotlib-example.py\n",
    "resultLongEntries = (features.macd_macd > features.macd_signal) & (features.rsi_rsi<50) #& pfXmrWrap.longEntries\n",
    "resultShortEntries = (features.macd_macd < features.macd_signal) & (features.rsi_rsi>50) #& pfXmrWrap.shortEntries\n"
   ],
   "metadata": {
    "collapsed": false
   }
  },
  {
   "cell_type": "code",
   "execution_count": 16,
   "outputs": [
    {
     "data": {
      "text/plain": "                           resultLongEntries  resultShortEntries  longEntries  \\\nOpen time                                                                       \n2017-01-07 00:00:00+00:00               True               False        False   \n2017-01-07 02:00:00+00:00               True               False        False   \n2017-01-07 10:00:00+00:00               True               False        False   \n2017-01-07 11:00:00+00:00               True               False        False   \n2017-01-07 12:00:00+00:00               True               False        False   \n...                                      ...                 ...          ...   \n2022-12-24 18:00:00+00:00               True               False        False   \n2022-12-28 04:00:00+00:00               True               False        False   \n2022-12-31 01:00:00+00:00               True               False        False   \n2022-12-31 02:00:00+00:00               True               False        False   \n2022-12-31 03:00:00+00:00               True               False        False   \n\n                           macd_macd  macd_signal    rsi_rsi  \nOpen time                                                     \n2017-01-07 00:00:00+00:00  -0.636514    -0.642999  43.722888  \n2017-01-07 02:00:00+00:00  -0.520503    -0.601197  42.416760  \n2017-01-07 10:00:00+00:00  -0.586706    -0.652092  47.434555  \n2017-01-07 11:00:00+00:00  -0.493406    -0.620355  49.972876  \n2017-01-07 12:00:00+00:00  -0.449194    -0.586123  45.987641  \n...                              ...          ...        ...  \n2022-12-24 18:00:00+00:00  -0.123687    -0.252634  49.935382  \n2022-12-28 04:00:00+00:00  -0.112406    -0.123488  46.911089  \n2022-12-31 01:00:00+00:00   0.138382     0.074444  47.852079  \n2022-12-31 02:00:00+00:00   0.111515     0.081858  49.296381  \n2022-12-31 03:00:00+00:00   0.092385     0.083964  49.757480  \n\n[6779 rows x 6 columns]",
      "text/html": "<div>\n<style scoped>\n    .dataframe tbody tr th:only-of-type {\n        vertical-align: middle;\n    }\n\n    .dataframe tbody tr th {\n        vertical-align: top;\n    }\n\n    .dataframe thead th {\n        text-align: right;\n    }\n</style>\n<table border=\"1\" class=\"dataframe\">\n  <thead>\n    <tr style=\"text-align: right;\">\n      <th></th>\n      <th>resultLongEntries</th>\n      <th>resultShortEntries</th>\n      <th>longEntries</th>\n      <th>macd_macd</th>\n      <th>macd_signal</th>\n      <th>rsi_rsi</th>\n    </tr>\n    <tr>\n      <th>Open time</th>\n      <th></th>\n      <th></th>\n      <th></th>\n      <th></th>\n      <th></th>\n      <th></th>\n    </tr>\n  </thead>\n  <tbody>\n    <tr>\n      <th>2017-01-07 00:00:00+00:00</th>\n      <td>True</td>\n      <td>False</td>\n      <td>False</td>\n      <td>-0.636514</td>\n      <td>-0.642999</td>\n      <td>43.722888</td>\n    </tr>\n    <tr>\n      <th>2017-01-07 02:00:00+00:00</th>\n      <td>True</td>\n      <td>False</td>\n      <td>False</td>\n      <td>-0.520503</td>\n      <td>-0.601197</td>\n      <td>42.416760</td>\n    </tr>\n    <tr>\n      <th>2017-01-07 10:00:00+00:00</th>\n      <td>True</td>\n      <td>False</td>\n      <td>False</td>\n      <td>-0.586706</td>\n      <td>-0.652092</td>\n      <td>47.434555</td>\n    </tr>\n    <tr>\n      <th>2017-01-07 11:00:00+00:00</th>\n      <td>True</td>\n      <td>False</td>\n      <td>False</td>\n      <td>-0.493406</td>\n      <td>-0.620355</td>\n      <td>49.972876</td>\n    </tr>\n    <tr>\n      <th>2017-01-07 12:00:00+00:00</th>\n      <td>True</td>\n      <td>False</td>\n      <td>False</td>\n      <td>-0.449194</td>\n      <td>-0.586123</td>\n      <td>45.987641</td>\n    </tr>\n    <tr>\n      <th>...</th>\n      <td>...</td>\n      <td>...</td>\n      <td>...</td>\n      <td>...</td>\n      <td>...</td>\n      <td>...</td>\n    </tr>\n    <tr>\n      <th>2022-12-24 18:00:00+00:00</th>\n      <td>True</td>\n      <td>False</td>\n      <td>False</td>\n      <td>-0.123687</td>\n      <td>-0.252634</td>\n      <td>49.935382</td>\n    </tr>\n    <tr>\n      <th>2022-12-28 04:00:00+00:00</th>\n      <td>True</td>\n      <td>False</td>\n      <td>False</td>\n      <td>-0.112406</td>\n      <td>-0.123488</td>\n      <td>46.911089</td>\n    </tr>\n    <tr>\n      <th>2022-12-31 01:00:00+00:00</th>\n      <td>True</td>\n      <td>False</td>\n      <td>False</td>\n      <td>0.138382</td>\n      <td>0.074444</td>\n      <td>47.852079</td>\n    </tr>\n    <tr>\n      <th>2022-12-31 02:00:00+00:00</th>\n      <td>True</td>\n      <td>False</td>\n      <td>False</td>\n      <td>0.111515</td>\n      <td>0.081858</td>\n      <td>49.296381</td>\n    </tr>\n    <tr>\n      <th>2022-12-31 03:00:00+00:00</th>\n      <td>True</td>\n      <td>False</td>\n      <td>False</td>\n      <td>0.092385</td>\n      <td>0.083964</td>\n      <td>49.757480</td>\n    </tr>\n  </tbody>\n</table>\n<p>6779 rows × 6 columns</p>\n</div>"
     },
     "execution_count": 16,
     "metadata": {},
     "output_type": "execute_result"
    }
   ],
   "source": [
    "a = DataFrame(index= pfXmrWrap.close.index)\n",
    "a['resultLongEntries'] = resultLongEntries\n",
    "a['resultShortEntries'] = resultShortEntries\n",
    "a['longEntries'] = pfXmrWrap.longEntries\n",
    "a['macd_macd'] = features.macd_macd\n",
    "a['macd_signal'] = features.macd_signal\n",
    "a['rsi_rsi'] = features.rsi_rsi\n",
    "\n",
    "#pf50XmrWrap.longEntries\n",
    "a.loc[a['resultLongEntries'] == True]\n"
   ],
   "metadata": {
    "collapsed": false
   }
  },
  {
   "cell_type": "code",
   "execution_count": 17,
   "outputs": [],
   "source": [
    "from vectorbtpro import Portfolio, Ranges\n",
    "from vectorbtpro._typing import SeriesFrame, MaybeTuple\n",
    "\n",
    "longs: MaybeTuple[SeriesFrame] = resultLongEntries.vbt.signals.clean(resultShortEntries)\n",
    "shorts: MaybeTuple[SeriesFrame] = resultShortEntries.vbt.signals.clean(resultLongEntries)\n",
    "cleanLongEntries: SeriesFrame = longs[0]\n",
    "cleanLongExits: SeriesFrame = longs[1]\n",
    "cleanShortEntries: SeriesFrame = shorts[0]\n",
    "cleanShortExits: SeriesFrame = shorts[1]"
   ],
   "metadata": {
    "collapsed": false
   }
  },
  {
   "cell_type": "code",
   "execution_count": 18,
   "outputs": [
    {
     "data": {
      "text/plain": "Start                         2017-01-01 03:00:00+00:00\nEnd                           2022-12-31 23:00:00+00:00\nPeriod                                            52277\nStart Value                                     10000.0\nMin Value                                   9770.198666\nMax Value                                  45494.796101\nEnd Value                                  43562.794401\nTotal Return [%]                             335.627944\nBenchmark Return [%]                         989.595376\nTotal Time Exposure [%]                       45.318209\nMax Gross Exposure [%]                       104.704128\nMax Drawdown [%]                              29.490004\nMax Drawdown Duration                           11330.0\nTotal Orders                                       1720\nTotal Fees Paid                                     0.0\nTotal Trades                                       1212\nWin Rate [%]                                  46.738233\nBest Trade [%]                                     30.0\nWorst Trade [%]                                    -3.0\nAvg Winning Trade [%]                           3.45763\nAvg Losing Trade [%]                          -2.516635\nAvg Winning Trade Duration                    24.431095\nAvg Losing Trade Duration                     15.281056\nProfit Factor                                  1.207505\nExpectancy                                     27.77092\ndtype: object"
     },
     "execution_count": 18,
     "metadata": {},
     "output_type": "execute_result"
    }
   ],
   "source": [
    "pf= makePort(pfXmrWrap.close, cleanLongEntries, cleanLongExits,\n",
    "             cleanShortEntries, cleanShortExits)\n",
    "\n",
    "pf.stats()"
   ],
   "metadata": {
    "collapsed": false
   }
  },
  {
   "cell_type": "code",
   "execution_count": null,
   "outputs": [],
   "source": [
    "comparisonEthUsd50 = createComparison(TestDataConfig.symbolConfig(\"X:ETHUSD\"),\n",
    "                                      ComparisonConfig(Config.otherDir, \"50\", \"X:ETHUSD\"),\n",
    "                                      \"longEntry50\", \"shortEntry50\")"
   ],
   "metadata": {
    "collapsed": false
   }
  },
  {
   "cell_type": "code",
   "execution_count": 20,
   "outputs": [
    {
     "data": {
      "text/plain": "Start                         2017-01-06 02:00:00+00:00\nEnd                           2022-12-31 23:00:00+00:00\nPeriod                                            52448\nStart Value                                10381.942635\nMin Value                                   9881.278539\nMax Value                                  86473.097059\nEnd Value                                  83713.770211\nTotal Return [%]                             706.340135\nBenchmark Return [%]                       11936.858006\nTotal Time Exposure [%]                        65.57924\nMax Gross Exposure [%]                       102.031351\nMax Drawdown [%]                              14.852369\nMax Drawdown Duration                            7084.0\nTotal Orders                                       1311\nTotal Fees Paid                                     0.0\nTotal Trades                                        937\nWin Rate [%]                                  38.675214\nBest Trade [%]                                     30.0\nWorst Trade [%]                                    -3.0\nAvg Winning Trade [%]                          5.732872\nAvg Losing Trade [%]                          -2.337175\nAvg Winning Trade Duration                         57.0\nAvg Losing Trade Duration                     23.909408\nProfit Factor                                  1.546955\nExpectancy                                    78.393284\ndtype: object"
     },
     "execution_count": 20,
     "metadata": {},
     "output_type": "execute_result"
    }
   ],
   "source": [
    "pf50EthWrap = createPortfolioWrap(Config.otherDir, Config.relativeSymbolDownloadDataPath('X:ETHUSD'),\n",
    "                                  'X:ETHUSD', 50, .75, .6)\n",
    "pf50eth = pf50EthWrap.portfolio\n",
    "pf50eth.stats()"
   ],
   "metadata": {
    "collapsed": false
   }
  },
  {
   "cell_type": "code",
   "execution_count": 21,
   "outputs": [
    {
     "data": {
      "text/plain": "Start                         2017-01-06 22:00:00+00:00\nEnd                           2022-12-31 23:00:00+00:00\nPeriod                                            52156\nStart Value                                13256.444767\nMin Value                                       10000.0\nMax Value                                  110558.68045\nEnd Value                                 109744.690919\nTotal Return [%]                              727.85915\nBenchmark Return [%]                         989.595376\nTotal Time Exposure [%]                       81.139274\nMax Gross Exposure [%]                            100.0\nMax Drawdown [%]                              29.469382\nMax Drawdown Duration                            5997.0\nTotal Orders                                       3482\nTotal Fees Paid                                     0.0\nTotal Trades                                       2889\nWin Rate [%]                                  41.066482\nBest Trade [%]                                     30.0\nWorst Trade [%]                                    -3.0\nAvg Winning Trade [%]                          3.249647\nAvg Losing Trade [%]                          -1.701091\nAvg Winning Trade Duration                    23.885329\nAvg Losing Trade Duration                      8.204238\nProfit Factor                                  1.333521\nExpectancy                                     33.37701\ndtype: object"
     },
     "execution_count": 21,
     "metadata": {},
     "output_type": "execute_result"
    }
   ],
   "source": [
    "xmrPeriod=10\n",
    "pfXmrWrap = createPortfolioWrap(Config.otherDir, Config.relativeSymbolDownloadDataPath('X:XMRUSD'),\n",
    "                                'X:XMRUSD', xmrPeriod, .5, .5)\n",
    "                                  #'X:XMRUSD', xmrPeriod, .75, .6) # for 50\n",
    "pfXmr = pfXmrWrap.portfolio\n",
    "pfXmr.stats()"
   ],
   "metadata": {
    "collapsed": false
   }
  },
  {
   "cell_type": "code",
   "execution_count": 22,
   "outputs": [
    {
     "data": {
      "text/plain": "<Figure size 1300x700 with 2 Axes>",
      "image/png": "[encoded data removed]"
     },
     "metadata": {},
     "output_type": "display_data"
    }
   ],
   "source": [
    "comparison = fetchComparison(Config.otherDir, 10, 'X:XMRUSD')\n",
    "comparison\n",
    "createHistogram(comparison, Config.relativeSymbolDownloadDataPath(\"X:XMRUSD\"),\n",
    "                \"X:XMRUSD\", None)"
   ],
   "metadata": {
    "collapsed": false
   }
  },
  {
   "cell_type": "code",
   "execution_count": 23,
   "outputs": [
    {
     "data": {
      "text/plain": "Open time\n2017-01-01 03:00:00+00:00    0.017629\n2017-01-01 07:00:00+00:00    0.017629\n2017-01-01 10:00:00+00:00    0.017629\n2017-01-01 11:00:00+00:00    0.017629\n2017-01-01 16:00:00+00:00    0.017629\n                               ...   \n2022-12-31 19:00:00+00:00    0.280314\n2022-12-31 20:00:00+00:00    0.324319\n2022-12-31 21:00:00+00:00    0.363646\n2022-12-31 22:00:00+00:00    0.401938\n2022-12-31 23:00:00+00:00    0.422778\nName: macd_signal, Length: 52277, dtype: float64"
     },
     "execution_count": 23,
     "metadata": {},
     "output_type": "execute_result"
    }
   ],
   "source": [
    "from configs.featuresShiftedConfig import FeaturesShiftedConfig\n",
    "conf = FeaturesShiftedConfig(Config.otherDir, \"X:XMRUSD\")\n",
    "hdf: LocalDataT = vbt.HDFData.fetch(conf.relativeFeaturesShiftedPath)\n",
    "features = hdf.data[conf.featuresShiftedKey]\n",
    "#https://github.com/mellertson/talib-macd-example/blob/master/talib-macd-matplotlib-example.py\n",
    "features.macd_signal"
   ],
   "metadata": {
    "collapsed": false
   }
  },
  {
   "cell_type": "code",
   "execution_count": 24,
   "outputs": [
    {
     "data": {
      "text/plain": "                           CurrentOpen     Open     High      Low   Close  \\\nOpen time                                                                   \n2017-01-01 03:00:00+00:00       13.486   13.648   13.648   13.640   13.64   \n2017-01-01 07:00:00+00:00       13.700   13.486   13.640   13.486   13.64   \n2017-01-01 10:00:00+00:00       13.500   13.700   13.700   13.700   13.70   \n2017-01-01 11:00:00+00:00       13.750   13.500   13.500   13.500   13.50   \n2017-01-01 16:00:00+00:00       13.800   13.750   13.750   13.750   13.75   \n...                                ...      ...      ...      ...     ...   \n2022-12-31 19:00:00+00:00      147.180  147.810  148.020  147.140  147.59   \n2022-12-31 20:00:00+00:00      147.690  147.180  148.610  147.140  147.75   \n2022-12-31 21:00:00+00:00      148.090  147.690  148.170  147.470  147.68   \n2022-12-31 22:00:00+00:00      147.860  148.090  148.530  147.500  147.98   \n2022-12-31 23:00:00+00:00      146.800  147.860  148.800  146.600  147.11   \n\n                               Volume  Trade count      VWAP        ad_real  \\\nOpen time                                                                     \n2017-01-01 03:00:00+00:00   13.420157          2.0   13.6404     -13.420157   \n2017-01-01 07:00:00+00:00   13.879843          3.0   13.4981       0.459686   \n2017-01-01 10:00:00+00:00    9.124068          1.0   13.7000       0.459686   \n2017-01-01 11:00:00+00:00   14.798901          3.0   13.5000       0.459686   \n2017-01-01 16:00:00+00:00   10.000000          2.0   13.7500       0.459686   \n...                               ...          ...       ...            ...   \n2022-12-31 19:00:00+00:00   74.698918         66.0  147.5846 -788116.651168   \n2022-12-31 20:00:00+00:00  808.734991        115.0  147.7793 -788254.191132   \n2022-12-31 21:00:00+00:00   94.169371         73.0  147.6603 -788291.858881   \n2022-12-31 22:00:00+00:00  766.736624        361.0  147.6860 -788343.967195   \n2022-12-31 23:00:00+00:00  355.295123        176.0  147.8602 -788534.534579   \n\n                           add_real  ...    wma_real  outWQA1  longEntry10  \\\nOpen time                            ...                                     \n2017-01-01 03:00:00+00:00    27.288  ...  134.678260      0.5            0   \n2017-01-01 07:00:00+00:00    27.126  ...  134.678260      0.5            0   \n2017-01-01 10:00:00+00:00    27.400  ...  134.678260      0.5            1   \n2017-01-01 11:00:00+00:00    27.000  ...  134.678260      0.5            0   \n2017-01-01 16:00:00+00:00    27.500  ...  134.678260      0.5            1   \n...                             ...  ...         ...      ...          ...   \n2022-12-31 19:00:00+00:00   295.160  ...  146.379290      0.5            0   \n2022-12-31 20:00:00+00:00   295.750  ...  146.484129      0.5            0   \n2022-12-31 21:00:00+00:00   295.640  ...  146.578000      0.5            0   \n2022-12-31 22:00:00+00:00   296.030  ...  146.685785      0.5            0   \n2022-12-31 23:00:00+00:00   295.400  ...  146.733312      0.5            0   \n\n                           shortEntry10  longEntry20  shortEntry20  \\\nOpen time                                                            \n2017-01-01 03:00:00+00:00             0            0             0   \n2017-01-01 07:00:00+00:00             0            0             0   \n2017-01-01 10:00:00+00:00             0            1             0   \n2017-01-01 11:00:00+00:00             0            0             0   \n2017-01-01 16:00:00+00:00             0            0             0   \n...                                 ...          ...           ...   \n2022-12-31 19:00:00+00:00             0            0             0   \n2022-12-31 20:00:00+00:00             0            0             0   \n2022-12-31 21:00:00+00:00             1            1             0   \n2022-12-31 22:00:00+00:00             0            0             0   \n2022-12-31 23:00:00+00:00             1            0             0   \n\n                           longEntry50  shortEntry50  longEntry100  \\\nOpen time                                                            \n2017-01-01 03:00:00+00:00            0             0             0   \n2017-01-01 07:00:00+00:00            0             0             0   \n2017-01-01 10:00:00+00:00            1             0             1   \n2017-01-01 11:00:00+00:00            0             0             0   \n2017-01-01 16:00:00+00:00            0             0             0   \n...                                ...           ...           ...   \n2022-12-31 19:00:00+00:00            0             0             0   \n2022-12-31 20:00:00+00:00            0             0             0   \n2022-12-31 21:00:00+00:00            1             0             1   \n2022-12-31 22:00:00+00:00            0             0             0   \n2022-12-31 23:00:00+00:00            0             0             0   \n\n                           shortEntry100  \nOpen time                                 \n2017-01-01 03:00:00+00:00              0  \n2017-01-01 07:00:00+00:00              0  \n2017-01-01 10:00:00+00:00              0  \n2017-01-01 11:00:00+00:00              0  \n2017-01-01 16:00:00+00:00              0  \n...                                  ...  \n2022-12-31 19:00:00+00:00              0  \n2022-12-31 20:00:00+00:00              0  \n2022-12-31 21:00:00+00:00              0  \n2022-12-31 22:00:00+00:00              0  \n2022-12-31 23:00:00+00:00              0  \n\n[52277 rows x 186 columns]",
      "text/html": "<div>\n<style scoped>\n    .dataframe tbody tr th:only-of-type {\n        vertical-align: middle;\n    }\n\n    .dataframe tbody tr th {\n        vertical-align: top;\n    }\n\n    .dataframe thead th {\n        text-align: right;\n    }\n</style>\n<table border=\"1\" class=\"dataframe\">\n  <thead>\n    <tr style=\"text-align: right;\">\n      <th></th>\n      <th>CurrentOpen</th>\n      <th>Open</th>\n      <th>High</th>\n      <th>Low</th>\n      <th>Close</th>\n      <th>Volume</th>\n      <th>Trade count</th>\n      <th>VWAP</th>\n      <th>ad_real</th>\n      <th>add_real</th>\n      <th>...</th>\n      <th>wma_real</th>\n      <th>outWQA1</th>\n      <th>longEntry10</th>\n      <th>shortEntry10</th>\n      <th>longEntry20</th>\n      <th>shortEntry20</th>\n      <th>longEntry50</th>\n      <th>shortEntry50</th>\n      <th>longEntry100</th>\n      <th>shortEntry100</th>\n    </tr>\n    <tr>\n      <th>Open time</th>\n      <th></th>\n      <th></th>\n      <th></th>\n      <th></th>\n      <th></th>\n      <th></th>\n      <th></th>\n      <th></th>\n      <th></th>\n      <th></th>\n      <th></th>\n      <th></th>\n      <th></th>\n      <th></th>\n      <th></th>\n      <th></th>\n      <th></th>\n      <th></th>\n      <th></th>\n      <th></th>\n      <th></th>\n    </tr>\n  </thead>\n  <tbody>\n    <tr>\n      <th>2017-01-01 03:00:00+00:00</th>\n      <td>13.486</td>\n      <td>13.648</td>\n      <td>13.648</td>\n      <td>13.640</td>\n      <td>13.64</td>\n      <td>13.420157</td>\n      <td>2.0</td>\n      <td>13.6404</td>\n      <td>-13.420157</td>\n      <td>27.288</td>\n      <td>...</td>\n      <td>134.678260</td>\n      <td>0.5</td>\n      <td>0</td>\n      <td>0</td>\n      <td>0</td>\n      <td>0</td>\n      <td>0</td>\n      <td>0</td>\n      <td>0</td>\n      <td>0</td>\n    </tr>\n    <tr>\n      <th>2017-01-01 07:00:00+00:00</th>\n      <td>13.700</td>\n      <td>13.486</td>\n      <td>13.640</td>\n      <td>13.486</td>\n      <td>13.64</td>\n      <td>13.879843</td>\n      <td>3.0</td>\n      <td>13.4981</td>\n      <td>0.459686</td>\n      <td>27.126</td>\n      <td>...</td>\n      <td>134.678260</td>\n      <td>0.5</td>\n      <td>0</td>\n      <td>0</td>\n      <td>0</td>\n      <td>0</td>\n      <td>0</td>\n      <td>0</td>\n      <td>0</td>\n      <td>0</td>\n    </tr>\n    <tr>\n      <th>2017-01-01 10:00:00+00:00</th>\n      <td>13.500</td>\n      <td>13.700</td>\n      <td>13.700</td>\n      <td>13.700</td>\n      <td>13.70</td>\n      <td>9.124068</td>\n      <td>1.0</td>\n      <td>13.7000</td>\n      <td>0.459686</td>\n      <td>27.400</td>\n      <td>...</td>\n      <td>134.678260</td>\n      <td>0.5</td>\n      <td>1</td>\n      <td>0</td>\n      <td>1</td>\n      <td>0</td>\n      <td>1</td>\n      <td>0</td>\n      <td>1</td>\n      <td>0</td>\n    </tr>\n    <tr>\n      <th>2017-01-01 11:00:00+00:00</th>\n      <td>13.750</td>\n      <td>13.500</td>\n      <td>13.500</td>\n      <td>13.500</td>\n      <td>13.50</td>\n      <td>14.798901</td>\n      <td>3.0</td>\n      <td>13.5000</td>\n      <td>0.459686</td>\n      <td>27.000</td>\n      <td>...</td>\n      <td>134.678260</td>\n      <td>0.5</td>\n      <td>0</td>\n      <td>0</td>\n      <td>0</td>\n      <td>0</td>\n      <td>0</td>\n      <td>0</td>\n      <td>0</td>\n      <td>0</td>\n    </tr>\n    <tr>\n      <th>2017-01-01 16:00:00+00:00</th>\n      <td>13.800</td>\n      <td>13.750</td>\n      <td>13.750</td>\n      <td>13.750</td>\n      <td>13.75</td>\n      <td>10.000000</td>\n      <td>2.0</td>\n      <td>13.7500</td>\n      <td>0.459686</td>\n      <td>27.500</td>\n      <td>...</td>\n      <td>134.678260</td>\n      <td>0.5</td>\n      <td>1</td>\n      <td>0</td>\n      <td>0</td>\n      <td>0</td>\n      <td>0</td>\n      <td>0</td>\n      <td>0</td>\n      <td>0</td>\n    </tr>\n    <tr>\n      <th>...</th>\n      <td>...</td>\n      <td>...</td>\n      <td>...</td>\n      <td>...</td>\n      <td>...</td>\n      <td>...</td>\n      <td>...</td>\n      <td>...</td>\n      <td>...</td>\n      <td>...</td>\n      <td>...</td>\n      <td>...</td>\n      <td>...</td>\n      <td>...</td>\n      <td>...</td>\n      <td>...</td>\n      <td>...</td>\n      <td>...</td>\n      <td>...</td>\n      <td>...</td>\n      <td>...</td>\n    </tr>\n    <tr>\n      <th>2022-12-31 19:00:00+00:00</th>\n      <td>147.180</td>\n      <td>147.810</td>\n      <td>148.020</td>\n      <td>147.140</td>\n      <td>147.59</td>\n      <td>74.698918</td>\n      <td>66.0</td>\n      <td>147.5846</td>\n      <td>-788116.651168</td>\n      <td>295.160</td>\n      <td>...</td>\n      <td>146.379290</td>\n      <td>0.5</td>\n      <td>0</td>\n      <td>0</td>\n      <td>0</td>\n      <td>0</td>\n      <td>0</td>\n      <td>0</td>\n      <td>0</td>\n      <td>0</td>\n    </tr>\n    <tr>\n      <th>2022-12-31 20:00:00+00:00</th>\n      <td>147.690</td>\n      <td>147.180</td>\n      <td>148.610</td>\n      <td>147.140</td>\n      <td>147.75</td>\n      <td>808.734991</td>\n      <td>115.0</td>\n      <td>147.7793</td>\n      <td>-788254.191132</td>\n      <td>295.750</td>\n      <td>...</td>\n      <td>146.484129</td>\n      <td>0.5</td>\n      <td>0</td>\n      <td>0</td>\n      <td>0</td>\n      <td>0</td>\n      <td>0</td>\n      <td>0</td>\n      <td>0</td>\n      <td>0</td>\n    </tr>\n    <tr>\n      <th>2022-12-31 21:00:00+00:00</th>\n      <td>148.090</td>\n      <td>147.690</td>\n      <td>148.170</td>\n      <td>147.470</td>\n      <td>147.68</td>\n      <td>94.169371</td>\n      <td>73.0</td>\n      <td>147.6603</td>\n      <td>-788291.858881</td>\n      <td>295.640</td>\n      <td>...</td>\n      <td>146.578000</td>\n      <td>0.5</td>\n      <td>0</td>\n      <td>1</td>\n      <td>1</td>\n      <td>0</td>\n      <td>1</td>\n      <td>0</td>\n      <td>1</td>\n      <td>0</td>\n    </tr>\n    <tr>\n      <th>2022-12-31 22:00:00+00:00</th>\n      <td>147.860</td>\n      <td>148.090</td>\n      <td>148.530</td>\n      <td>147.500</td>\n      <td>147.98</td>\n      <td>766.736624</td>\n      <td>361.0</td>\n      <td>147.6860</td>\n      <td>-788343.967195</td>\n      <td>296.030</td>\n      <td>...</td>\n      <td>146.685785</td>\n      <td>0.5</td>\n      <td>0</td>\n      <td>0</td>\n      <td>0</td>\n      <td>0</td>\n      <td>0</td>\n      <td>0</td>\n      <td>0</td>\n      <td>0</td>\n    </tr>\n    <tr>\n      <th>2022-12-31 23:00:00+00:00</th>\n      <td>146.800</td>\n      <td>147.860</td>\n      <td>148.800</td>\n      <td>146.600</td>\n      <td>147.11</td>\n      <td>355.295123</td>\n      <td>176.0</td>\n      <td>147.8602</td>\n      <td>-788534.534579</td>\n      <td>295.400</td>\n      <td>...</td>\n      <td>146.733312</td>\n      <td>0.5</td>\n      <td>0</td>\n      <td>1</td>\n      <td>0</td>\n      <td>0</td>\n      <td>0</td>\n      <td>0</td>\n      <td>0</td>\n      <td>0</td>\n    </tr>\n  </tbody>\n</table>\n<p>52277 rows × 186 columns</p>\n</div>"
     },
     "execution_count": 24,
     "metadata": {},
     "output_type": "execute_result"
    }
   ],
   "source": [
    "features"
   ],
   "metadata": {
    "collapsed": false
   }
  },
  {
   "cell_type": "code",
   "execution_count": 25,
   "outputs": [
    {
     "data": {
      "text/plain": "False    51696\nTrue       581\ndtype: int64"
     },
     "execution_count": 25,
     "metadata": {},
     "output_type": "execute_result"
    }
   ],
   "source": [
    "#https://github.com/mellertson/talib-macd-example/blob/master/talib-macd-matplotlib-example.py\n",
    "#resultLongEntries = (features.macd_macd > features.macd_signal) & (features.rsi_rsi<50) & pfXmrWrap.longEntries\n",
    "#resultShortEntries = (features.macd_macd < features.macd_signal) & (features.rsi_rsi>50) & pfXmrWrap.shortEntries\n",
    "#resultLongEntries = (features.macd_macd > features.macd_signal) &  pfXmrWrap.longEntries\n",
    "#resultShortEntries = (features.macd_macd < features.macd_signal) & pfXmrWrap.shortEntries\n",
    "resultLongEntries = (features.rsi_rsi<40) & pfXmrWrap.longEntries\n",
    "resultShortEntries =  (features.rsi_rsi>40) & pfXmrWrap.shortEntries\n",
    "resultLongEntries.value_counts()\n",
    "#pfXmrWrap.longEntries.value_counts()\n",
    "resultShortEntries.value_counts()"
   ],
   "metadata": {
    "collapsed": false
   }
  },
  {
   "cell_type": "code",
   "execution_count": 26,
   "outputs": [
    {
     "data": {
      "text/plain": "                           resultLongEntries  resultShortEntries  longEntries  \\\nOpen time                                                                       \n2017-01-06 22:00:00+00:00               True               False         True   \n2017-02-20 10:00:00+00:00               True               False         True   \n2017-02-24 07:00:00+00:00               True               False         True   \n2017-03-07 08:00:00+00:00               True               False         True   \n2017-03-07 13:00:00+00:00               True               False         True   \n...                                      ...                 ...          ...   \n2022-11-28 04:00:00+00:00               True               False         True   \n2022-12-16 13:00:00+00:00               True               False         True   \n2022-12-17 03:00:00+00:00               True               False         True   \n2022-12-22 17:00:00+00:00               True               False         True   \n2022-12-23 13:00:00+00:00               True               False         True   \n\n                           macd_macd  macd_signal    rsi_rsi  \nOpen time                                                     \n2017-01-06 22:00:00+00:00  -0.695733    -0.631860  36.106502  \n2017-02-20 10:00:00+00:00  -0.264489    -0.161833  29.217862  \n2017-02-24 07:00:00+00:00  -0.104974     0.001686  33.294638  \n2017-03-07 08:00:00+00:00  -0.029465     0.073611  36.924227  \n2017-03-07 13:00:00+00:00  -0.226738    -0.083064  29.356953  \n...                              ...          ...        ...  \n2022-11-28 04:00:00+00:00  -0.875898    -0.375412  35.293670  \n2022-12-16 13:00:00+00:00  -0.538794    -0.191616  33.995701  \n2022-12-17 03:00:00+00:00  -1.902292    -1.313362  20.277108  \n2022-12-22 17:00:00+00:00  -0.382457    -0.145270  37.593798  \n2022-12-23 13:00:00+00:00  -1.407318    -0.944355  32.230609  \n\n[624 rows x 6 columns]",
      "text/html": "<div>\n<style scoped>\n    .dataframe tbody tr th:only-of-type {\n        vertical-align: middle;\n    }\n\n    .dataframe tbody tr th {\n        vertical-align: top;\n    }\n\n    .dataframe thead th {\n        text-align: right;\n    }\n</style>\n<table border=\"1\" class=\"dataframe\">\n  <thead>\n    <tr style=\"text-align: right;\">\n      <th></th>\n      <th>resultLongEntries</th>\n      <th>resultShortEntries</th>\n      <th>longEntries</th>\n      <th>macd_macd</th>\n      <th>macd_signal</th>\n      <th>rsi_rsi</th>\n    </tr>\n    <tr>\n      <th>Open time</th>\n      <th></th>\n      <th></th>\n      <th></th>\n      <th></th>\n      <th></th>\n      <th></th>\n    </tr>\n  </thead>\n  <tbody>\n    <tr>\n      <th>2017-01-06 22:00:00+00:00</th>\n      <td>True</td>\n      <td>False</td>\n      <td>True</td>\n      <td>-0.695733</td>\n      <td>-0.631860</td>\n      <td>36.106502</td>\n    </tr>\n    <tr>\n      <th>2017-02-20 10:00:00+00:00</th>\n      <td>True</td>\n      <td>False</td>\n      <td>True</td>\n      <td>-0.264489</td>\n      <td>-0.161833</td>\n      <td>29.217862</td>\n    </tr>\n    <tr>\n      <th>2017-02-24 07:00:00+00:00</th>\n      <td>True</td>\n      <td>False</td>\n      <td>True</td>\n      <td>-0.104974</td>\n      <td>0.001686</td>\n      <td>33.294638</td>\n    </tr>\n    <tr>\n      <th>2017-03-07 08:00:00+00:00</th>\n      <td>True</td>\n      <td>False</td>\n      <td>True</td>\n      <td>-0.029465</td>\n      <td>0.073611</td>\n      <td>36.924227</td>\n    </tr>\n    <tr>\n      <th>2017-03-07 13:00:00+00:00</th>\n      <td>True</td>\n      <td>False</td>\n      <td>True</td>\n      <td>-0.226738</td>\n      <td>-0.083064</td>\n      <td>29.356953</td>\n    </tr>\n    <tr>\n      <th>...</th>\n      <td>...</td>\n      <td>...</td>\n      <td>...</td>\n      <td>...</td>\n      <td>...</td>\n      <td>...</td>\n    </tr>\n    <tr>\n      <th>2022-11-28 04:00:00+00:00</th>\n      <td>True</td>\n      <td>False</td>\n      <td>True</td>\n      <td>-0.875898</td>\n      <td>-0.375412</td>\n      <td>35.293670</td>\n    </tr>\n    <tr>\n      <th>2022-12-16 13:00:00+00:00</th>\n      <td>True</td>\n      <td>False</td>\n      <td>True</td>\n      <td>-0.538794</td>\n      <td>-0.191616</td>\n      <td>33.995701</td>\n    </tr>\n    <tr>\n      <th>2022-12-17 03:00:00+00:00</th>\n      <td>True</td>\n      <td>False</td>\n      <td>True</td>\n      <td>-1.902292</td>\n      <td>-1.313362</td>\n      <td>20.277108</td>\n    </tr>\n    <tr>\n      <th>2022-12-22 17:00:00+00:00</th>\n      <td>True</td>\n      <td>False</td>\n      <td>True</td>\n      <td>-0.382457</td>\n      <td>-0.145270</td>\n      <td>37.593798</td>\n    </tr>\n    <tr>\n      <th>2022-12-23 13:00:00+00:00</th>\n      <td>True</td>\n      <td>False</td>\n      <td>True</td>\n      <td>-1.407318</td>\n      <td>-0.944355</td>\n      <td>32.230609</td>\n    </tr>\n  </tbody>\n</table>\n<p>624 rows × 6 columns</p>\n</div>"
     },
     "execution_count": 26,
     "metadata": {},
     "output_type": "execute_result"
    }
   ],
   "source": [
    "a = DataFrame(index= pfXmrWrap.close.index)\n",
    "a['resultLongEntries'] = resultLongEntries\n",
    "a['resultShortEntries'] = resultShortEntries\n",
    "a['longEntries'] = pfXmrWrap.longEntries\n",
    "a['macd_macd'] = features.macd_macd\n",
    "a['macd_signal'] = features.macd_signal\n",
    "a['rsi_rsi'] = features.rsi_rsi\n",
    "\n",
    "#pf50XmrWrap.longEntries\n",
    "a.loc[a['resultLongEntries'] == True]\n"
   ],
   "metadata": {
    "collapsed": false
   }
  },
  {
   "cell_type": "code",
   "execution_count": 27,
   "outputs": [],
   "source": [
    "from vectorbtpro import Portfolio, Ranges\n",
    "from vectorbtpro._typing import SeriesFrame, MaybeTuple\n",
    "\n",
    "longs: MaybeTuple[SeriesFrame] = resultLongEntries.vbt.signals.clean(resultShortEntries)\n",
    "shorts: MaybeTuple[SeriesFrame] = resultShortEntries.vbt.signals.clean(resultLongEntries)\n",
    "cleanLongEntries: SeriesFrame = longs[0]\n",
    "cleanLongExits: SeriesFrame = longs[1]\n",
    "cleanShortEntries: SeriesFrame = shorts[0]\n",
    "cleanShortExits: SeriesFrame = shorts[1]"
   ],
   "metadata": {
    "collapsed": false
   }
  },
  {
   "cell_type": "code",
   "execution_count": 28,
   "outputs": [
    {
     "data": {
      "text/plain": "Start                         2017-01-01 03:00:00+00:00\nEnd                           2022-12-31 23:00:00+00:00\nPeriod                                            52277\nStart Value                                17858.811576\nMin Value                                       10000.0\nMax Value                                  58498.116704\nEnd Value                                  56019.497032\nTotal Return [%]                             213.679871\nBenchmark Return [%]                         989.595376\nTotal Time Exposure [%]                       30.401515\nMax Gross Exposure [%]                        101.11932\nMax Drawdown [%]                              46.753583\nMax Drawdown Duration                           14262.0\nTotal Orders                                        700\nTotal Fees Paid                                     0.0\nTotal Trades                                        446\nWin Rate [%]                                       40.0\nBest Trade [%]                                     30.0\nWorst Trade [%]                                    -3.0\nAvg Winning Trade [%]                           6.37959\nAvg Losing Trade [%]                          -2.821385\nAvg Winning Trade Duration                    55.123596\nAvg Losing Trade Duration                     22.588015\nProfit Factor                                  1.507437\nExpectancy                                    85.900491\ndtype: object"
     },
     "execution_count": 28,
     "metadata": {},
     "output_type": "execute_result"
    }
   ],
   "source": [
    "pf= makePort(pfXmrWrap.close, cleanLongEntries, cleanLongExits,\n",
    "             cleanShortEntries, cleanShortExits)\n",
    "\n",
    "pf.stats()"
   ],
   "metadata": {
    "collapsed": false
   }
  },
  {
   "cell_type": "code",
   "execution_count": null,
   "outputs": [],
   "source": [],
   "metadata": {
    "collapsed": false,
    "pycharm": {
     "is_executing": true
    }
   }
  }
 ],
 "metadata": {
  "kernelspec": {
   "display_name": "Python 3",
   "language": "python",
   "name": "python3"
  },
  "language_info": {
   "codemirror_mode": {
    "name": "ipython",
    "version": 2
   },
   "file_extension": ".py",
   "mimetype": "text/x-python",
   "name": "python",
   "nbconvert_exporter": "python",
   "pygments_lexer": "ipython2",
   "version": "2.7.6"
  }
 },
 "nbformat": 4,
 "nbformat_minor": 0
}
