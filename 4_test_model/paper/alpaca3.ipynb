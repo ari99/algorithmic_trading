{
 "cells": [
  {
   "cell_type": "code",
   "execution_count": 3,
   "metadata": {
    "collapsed": true
   },
   "outputs": [],
   "source": [
    "from configs.configSecrets import ConfigSecrets\n",
    "# https://github.com/alpacahq/alpaca-py#data-api-example\n",
    "# https://alpaca.markets/docs/python-sdk/index.html\n",
    "# seperate, maybe try https://python-poetry.org/\n",
    "%load_ext autoreload\n",
    "%autoreload 2\n",
    "API_KEY = ConfigSecrets.ALPACA_API_KEY #os.environ['API_KEY']\n",
    "API_SECRET = ConfigSecrets.ALPACA_API_SECRET #os.environ['API_SECRET']\n",
    "BASE_URL = \"https://paper-api.alpaca.markets\"\n",
    "from alpaca.data import CryptoHistoricalDataClient, StockHistoricalDataClient\n",
    "from alpaca.data import CryptoLatestQuoteRequest\n",
    "from alpaca.data.historical import CryptoHistoricalDataClient\n",
    "from alpaca.data.requests import CryptoBarsRequest\n",
    "from alpaca.data.timeframe import TimeFrame\n",
    "from datetime import datetime\n",
    "from alpaca.trading import GetAssetsRequest, AssetClass\n",
    "from alpaca.trading.client import TradingClient\n",
    "import datetime\n",
    "import dateutil.relativedelta\n",
    "from configs.config import Config\n"
   ]
  },
  {
   "cell_type": "code",
   "execution_count": 37,
   "outputs": [
    {
     "data": {
      "text/plain": "  0%|          | 0/1 [00:00<?, ?it/s]",
      "application/vnd.jupyter.widget-view+json": {
       "version_major": 2,
       "version_minor": 0,
       "model_id": "5ef2b3c670384ca1bcef869603b24b31"
      }
     },
     "metadata": {},
     "output_type": "display_data"
    },
    {
     "data": {
      "text/plain": "0it [00:00, ?it/s]",
      "application/vnd.jupyter.widget-view+json": {
       "version_major": 2,
       "version_minor": 0,
       "model_id": "c9d8623b1b9046f09d2137f22597eb2b"
      }
     },
     "metadata": {},
     "output_type": "display_data"
    }
   ],
   "source": [
    "from common.polygonDownloader import downloadMonthHourly\n",
    "\n",
    "latest = downloadMonthHourly(['X:BTCUSD'])"
   ],
   "metadata": {
    "collapsed": false
   }
  },
  {
   "cell_type": "code",
   "execution_count": 4,
   "outputs": [
    {
     "data": {
      "text/plain": "                               Open      High       Low     Close  \\\nOpen time                                                           \n2023-04-20 00:00:00+00:00  28809.00  28973.00  28728.90  28931.09   \n2023-04-20 01:00:00+00:00  28931.09  29009.33  28847.72  28946.24   \n2023-04-20 02:00:00+00:00  28940.20  28973.74  28729.83  28759.72   \n2023-04-20 03:00:00+00:00  28759.71  28897.70  28556.87  28878.61   \n2023-04-20 04:00:00+00:00  28861.30  28972.33  28858.54  28882.89   \n...                             ...       ...       ...       ...   \n2023-05-20 21:00:00+00:00  27024.15  27077.00  26974.40  27045.41   \n2023-05-20 22:00:00+00:00  27045.67  27087.00  27017.00  27079.82   \n2023-05-20 23:00:00+00:00  27077.40  27154.00  27055.20  27140.00   \n2023-05-21 00:00:00+00:00  27111.10  27297.00  27067.20  27251.70   \n2023-05-21 01:00:00+00:00  27253.14  27272.00  27189.70  27195.19   \n\n                                Volume  Trade count        VWAP  \nOpen time                                                        \n2023-04-20 00:00:00+00:00   897.921806        25613  28853.7015  \n2023-04-20 01:00:00+00:00   837.807899        17536  28934.6702  \n2023-04-20 02:00:00+00:00   667.655451        15736  28871.6728  \n2023-04-20 03:00:00+00:00   864.289727        17601  28763.5041  \n2023-04-20 04:00:00+00:00   587.568587        13258  28923.7955  \n...                                ...          ...         ...  \n2023-05-20 21:00:00+00:00   295.752932        10489  27022.9200  \n2023-05-20 22:00:00+00:00   149.672387         8032  27050.3677  \n2023-05-20 23:00:00+00:00   452.158818         9400  27101.5233  \n2023-05-21 00:00:00+00:00  1114.216356        14550  27215.1965  \n2023-05-21 01:00:00+00:00   406.313421         7862  27227.0896  \n\n[746 rows x 7 columns]",
      "text/html": "<div>\n<style scoped>\n    .dataframe tbody tr th:only-of-type {\n        vertical-align: middle;\n    }\n\n    .dataframe tbody tr th {\n        vertical-align: top;\n    }\n\n    .dataframe thead th {\n        text-align: right;\n    }\n</style>\n<table border=\"1\" class=\"dataframe\">\n  <thead>\n    <tr style=\"text-align: right;\">\n      <th></th>\n      <th>Open</th>\n      <th>High</th>\n      <th>Low</th>\n      <th>Close</th>\n      <th>Volume</th>\n      <th>Trade count</th>\n      <th>VWAP</th>\n    </tr>\n    <tr>\n      <th>Open time</th>\n      <th></th>\n      <th></th>\n      <th></th>\n      <th></th>\n      <th></th>\n      <th></th>\n      <th></th>\n    </tr>\n  </thead>\n  <tbody>\n    <tr>\n      <th>2023-04-20 00:00:00+00:00</th>\n      <td>28809.00</td>\n      <td>28973.00</td>\n      <td>28728.90</td>\n      <td>28931.09</td>\n      <td>897.921806</td>\n      <td>25613</td>\n      <td>28853.7015</td>\n    </tr>\n    <tr>\n      <th>2023-04-20 01:00:00+00:00</th>\n      <td>28931.09</td>\n      <td>29009.33</td>\n      <td>28847.72</td>\n      <td>28946.24</td>\n      <td>837.807899</td>\n      <td>17536</td>\n      <td>28934.6702</td>\n    </tr>\n    <tr>\n      <th>2023-04-20 02:00:00+00:00</th>\n      <td>28940.20</td>\n      <td>28973.74</td>\n      <td>28729.83</td>\n      <td>28759.72</td>\n      <td>667.655451</td>\n      <td>15736</td>\n      <td>28871.6728</td>\n    </tr>\n    <tr>\n      <th>2023-04-20 03:00:00+00:00</th>\n      <td>28759.71</td>\n      <td>28897.70</td>\n      <td>28556.87</td>\n      <td>28878.61</td>\n      <td>864.289727</td>\n      <td>17601</td>\n      <td>28763.5041</td>\n    </tr>\n    <tr>\n      <th>2023-04-20 04:00:00+00:00</th>\n      <td>28861.30</td>\n      <td>28972.33</td>\n      <td>28858.54</td>\n      <td>28882.89</td>\n      <td>587.568587</td>\n      <td>13258</td>\n      <td>28923.7955</td>\n    </tr>\n    <tr>\n      <th>...</th>\n      <td>...</td>\n      <td>...</td>\n      <td>...</td>\n      <td>...</td>\n      <td>...</td>\n      <td>...</td>\n      <td>...</td>\n    </tr>\n    <tr>\n      <th>2023-05-20 21:00:00+00:00</th>\n      <td>27024.15</td>\n      <td>27077.00</td>\n      <td>26974.40</td>\n      <td>27045.41</td>\n      <td>295.752932</td>\n      <td>10489</td>\n      <td>27022.9200</td>\n    </tr>\n    <tr>\n      <th>2023-05-20 22:00:00+00:00</th>\n      <td>27045.67</td>\n      <td>27087.00</td>\n      <td>27017.00</td>\n      <td>27079.82</td>\n      <td>149.672387</td>\n      <td>8032</td>\n      <td>27050.3677</td>\n    </tr>\n    <tr>\n      <th>2023-05-20 23:00:00+00:00</th>\n      <td>27077.40</td>\n      <td>27154.00</td>\n      <td>27055.20</td>\n      <td>27140.00</td>\n      <td>452.158818</td>\n      <td>9400</td>\n      <td>27101.5233</td>\n    </tr>\n    <tr>\n      <th>2023-05-21 00:00:00+00:00</th>\n      <td>27111.10</td>\n      <td>27297.00</td>\n      <td>27067.20</td>\n      <td>27251.70</td>\n      <td>1114.216356</td>\n      <td>14550</td>\n      <td>27215.1965</td>\n    </tr>\n    <tr>\n      <th>2023-05-21 01:00:00+00:00</th>\n      <td>27253.14</td>\n      <td>27272.00</td>\n      <td>27189.70</td>\n      <td>27195.19</td>\n      <td>406.313421</td>\n      <td>7862</td>\n      <td>27227.0896</td>\n    </tr>\n  </tbody>\n</table>\n<p>746 rows × 7 columns</p>\n</div>"
     },
     "execution_count": 4,
     "metadata": {},
     "output_type": "execute_result"
    }
   ],
   "source": [
    "latest.data['X:BTCUSD']"
   ],
   "metadata": {
    "collapsed": false
   }
  },
  {
   "cell_type": "code",
   "execution_count": 5,
   "outputs": [
    {
     "name": "stdout",
     "output_type": "stream",
     "text": [
      "DATA SHAPE (746,)\n",
      "DATA type <class 'tuple'>\n",
      "taData shape (746, 179)\n"
     ]
    },
    {
     "data": {
      "text/plain": "                               Open      High       Low     Close  \\\nOpen time                                                           \n2023-04-20 00:00:00+00:00  28809.00  28973.00  28728.90  28931.09   \n2023-04-20 01:00:00+00:00  28931.09  29009.33  28847.72  28946.24   \n2023-04-20 02:00:00+00:00  28940.20  28973.74  28729.83  28759.72   \n2023-04-20 03:00:00+00:00  28759.71  28897.70  28556.87  28878.61   \n2023-04-20 04:00:00+00:00  28861.30  28972.33  28858.54  28882.89   \n...                             ...       ...       ...       ...   \n2023-05-20 21:00:00+00:00  27024.15  27077.00  26974.40  27045.41   \n2023-05-20 22:00:00+00:00  27045.67  27087.00  27017.00  27079.82   \n2023-05-20 23:00:00+00:00  27077.40  27154.00  27055.20  27140.00   \n2023-05-21 00:00:00+00:00  27111.10  27297.00  27067.20  27251.70   \n2023-05-21 01:00:00+00:00  27253.14  27272.00  27189.70  27195.19   \n\n                                Volume  Trade count        VWAP      ad_real  \\\nOpen time                                                                      \n2023-04-20 00:00:00+00:00   897.921806        25613  28853.7015   589.589951   \n2023-04-20 01:00:00+00:00   837.807899        17536  28934.6702   773.263819   \n2023-04-20 02:00:00+00:00   667.655451        15736  28871.6728   269.244311   \n2023-04-20 03:00:00+00:00   864.289727        17601  28763.5041  1036.715737   \n2023-04-20 04:00:00+00:00   587.568587        13258  28923.7955   700.615558   \n...                                ...          ...         ...          ...   \n2023-05-20 21:00:00+00:00   295.752932        10489  27022.9200 -4532.401393   \n2023-05-20 22:00:00+00:00   149.672387         8032  27050.3677 -4413.433227   \n2023-05-20 23:00:00+00:00   452.158818         9400  27101.5233 -4089.416584   \n2023-05-21 00:00:00+00:00  1114.216356        14550  27215.1965 -3414.486572   \n2023-05-21 01:00:00+00:00   406.313421         7862  27227.0896 -3766.591957   \n\n                           add_real  adosc_real  ...  outWQA99  outWQA101  \\\nOpen time                                        ...                        \n2023-04-20 00:00:00+00:00  57701.90         NaN  ...         0   0.500162   \n2023-04-20 01:00:00+00:00  57857.05         NaN  ...         0   0.093744   \n2023-04-20 02:00:00+00:00  57703.57         NaN  ...         0  -0.739942   \n2023-04-20 03:00:00+00:00  57454.57         NaN  ...         0   0.348853   \n2023-04-20 04:00:00+00:00  57830.87         NaN  ...         0   0.189734   \n...                             ...         ...  ...       ...        ...   \n2023-05-20 21:00:00+00:00  54051.40   39.309704  ...         0   0.207210   \n2023-05-20 22:00:00+00:00  54104.00   81.087900  ...         0   0.487850   \n2023-05-20 23:00:00+00:00  54209.20  193.903557  ...         0   0.633597   \n2023-05-21 00:00:00+00:00  54364.20  437.178279  ...         0   0.611834   \n2023-05-21 01:00:00+00:00  54461.70  384.922745  ...         0  -0.704123   \n\n                           longEntry10  shortEntry10  longEntry20  \\\nOpen time                                                           \n2023-04-20 00:00:00+00:00        False         False        False   \n2023-04-20 01:00:00+00:00        False          True        False   \n2023-04-20 02:00:00+00:00        False          True        False   \n2023-04-20 03:00:00+00:00        False         False        False   \n2023-04-20 04:00:00+00:00        False         False        False   \n...                                ...           ...          ...   \n2023-05-20 21:00:00+00:00        False         False        False   \n2023-05-20 22:00:00+00:00        False         False        False   \n2023-05-20 23:00:00+00:00        False         False        False   \n2023-05-21 00:00:00+00:00         True         False         True   \n2023-05-21 01:00:00+00:00        False         False        False   \n\n                           shortEntry20  longEntry50  shortEntry50  \\\nOpen time                                                            \n2023-04-20 00:00:00+00:00         False        False         False   \n2023-04-20 01:00:00+00:00          True        False          True   \n2023-04-20 02:00:00+00:00         False        False         False   \n2023-04-20 03:00:00+00:00         False        False         False   \n2023-04-20 04:00:00+00:00         False        False         False   \n...                                 ...          ...           ...   \n2023-05-20 21:00:00+00:00         False        False         False   \n2023-05-20 22:00:00+00:00         False        False         False   \n2023-05-20 23:00:00+00:00         False        False         False   \n2023-05-21 00:00:00+00:00         False         True         False   \n2023-05-21 01:00:00+00:00         False        False         False   \n\n                           longEntry100  shortEntry100  \nOpen time                                               \n2023-04-20 00:00:00+00:00         False          False  \n2023-04-20 01:00:00+00:00         False           True  \n2023-04-20 02:00:00+00:00         False          False  \n2023-04-20 03:00:00+00:00         False          False  \n2023-04-20 04:00:00+00:00         False          False  \n...                                 ...            ...  \n2023-05-20 21:00:00+00:00         False          False  \n2023-05-20 22:00:00+00:00         False          False  \n2023-05-20 23:00:00+00:00         False          False  \n2023-05-21 00:00:00+00:00          True          False  \n2023-05-21 01:00:00+00:00         False          False  \n\n[746 rows x 262 columns]",
      "text/html": "<div>\n<style scoped>\n    .dataframe tbody tr th:only-of-type {\n        vertical-align: middle;\n    }\n\n    .dataframe tbody tr th {\n        vertical-align: top;\n    }\n\n    .dataframe thead th {\n        text-align: right;\n    }\n</style>\n<table border=\"1\" class=\"dataframe\">\n  <thead>\n    <tr style=\"text-align: right;\">\n      <th></th>\n      <th>Open</th>\n      <th>High</th>\n      <th>Low</th>\n      <th>Close</th>\n      <th>Volume</th>\n      <th>Trade count</th>\n      <th>VWAP</th>\n      <th>ad_real</th>\n      <th>add_real</th>\n      <th>adosc_real</th>\n      <th>...</th>\n      <th>outWQA99</th>\n      <th>outWQA101</th>\n      <th>longEntry10</th>\n      <th>shortEntry10</th>\n      <th>longEntry20</th>\n      <th>shortEntry20</th>\n      <th>longEntry50</th>\n      <th>shortEntry50</th>\n      <th>longEntry100</th>\n      <th>shortEntry100</th>\n    </tr>\n    <tr>\n      <th>Open time</th>\n      <th></th>\n      <th></th>\n      <th></th>\n      <th></th>\n      <th></th>\n      <th></th>\n      <th></th>\n      <th></th>\n      <th></th>\n      <th></th>\n      <th></th>\n      <th></th>\n      <th></th>\n      <th></th>\n      <th></th>\n      <th></th>\n      <th></th>\n      <th></th>\n      <th></th>\n      <th></th>\n      <th></th>\n    </tr>\n  </thead>\n  <tbody>\n    <tr>\n      <th>2023-04-20 00:00:00+00:00</th>\n      <td>28809.00</td>\n      <td>28973.00</td>\n      <td>28728.90</td>\n      <td>28931.09</td>\n      <td>897.921806</td>\n      <td>25613</td>\n      <td>28853.7015</td>\n      <td>589.589951</td>\n      <td>57701.90</td>\n      <td>NaN</td>\n      <td>...</td>\n      <td>0</td>\n      <td>0.500162</td>\n      <td>False</td>\n      <td>False</td>\n      <td>False</td>\n      <td>False</td>\n      <td>False</td>\n      <td>False</td>\n      <td>False</td>\n      <td>False</td>\n    </tr>\n    <tr>\n      <th>2023-04-20 01:00:00+00:00</th>\n      <td>28931.09</td>\n      <td>29009.33</td>\n      <td>28847.72</td>\n      <td>28946.24</td>\n      <td>837.807899</td>\n      <td>17536</td>\n      <td>28934.6702</td>\n      <td>773.263819</td>\n      <td>57857.05</td>\n      <td>NaN</td>\n      <td>...</td>\n      <td>0</td>\n      <td>0.093744</td>\n      <td>False</td>\n      <td>True</td>\n      <td>False</td>\n      <td>True</td>\n      <td>False</td>\n      <td>True</td>\n      <td>False</td>\n      <td>True</td>\n    </tr>\n    <tr>\n      <th>2023-04-20 02:00:00+00:00</th>\n      <td>28940.20</td>\n      <td>28973.74</td>\n      <td>28729.83</td>\n      <td>28759.72</td>\n      <td>667.655451</td>\n      <td>15736</td>\n      <td>28871.6728</td>\n      <td>269.244311</td>\n      <td>57703.57</td>\n      <td>NaN</td>\n      <td>...</td>\n      <td>0</td>\n      <td>-0.739942</td>\n      <td>False</td>\n      <td>True</td>\n      <td>False</td>\n      <td>False</td>\n      <td>False</td>\n      <td>False</td>\n      <td>False</td>\n      <td>False</td>\n    </tr>\n    <tr>\n      <th>2023-04-20 03:00:00+00:00</th>\n      <td>28759.71</td>\n      <td>28897.70</td>\n      <td>28556.87</td>\n      <td>28878.61</td>\n      <td>864.289727</td>\n      <td>17601</td>\n      <td>28763.5041</td>\n      <td>1036.715737</td>\n      <td>57454.57</td>\n      <td>NaN</td>\n      <td>...</td>\n      <td>0</td>\n      <td>0.348853</td>\n      <td>False</td>\n      <td>False</td>\n      <td>False</td>\n      <td>False</td>\n      <td>False</td>\n      <td>False</td>\n      <td>False</td>\n      <td>False</td>\n    </tr>\n    <tr>\n      <th>2023-04-20 04:00:00+00:00</th>\n      <td>28861.30</td>\n      <td>28972.33</td>\n      <td>28858.54</td>\n      <td>28882.89</td>\n      <td>587.568587</td>\n      <td>13258</td>\n      <td>28923.7955</td>\n      <td>700.615558</td>\n      <td>57830.87</td>\n      <td>NaN</td>\n      <td>...</td>\n      <td>0</td>\n      <td>0.189734</td>\n      <td>False</td>\n      <td>False</td>\n      <td>False</td>\n      <td>False</td>\n      <td>False</td>\n      <td>False</td>\n      <td>False</td>\n      <td>False</td>\n    </tr>\n    <tr>\n      <th>...</th>\n      <td>...</td>\n      <td>...</td>\n      <td>...</td>\n      <td>...</td>\n      <td>...</td>\n      <td>...</td>\n      <td>...</td>\n      <td>...</td>\n      <td>...</td>\n      <td>...</td>\n      <td>...</td>\n      <td>...</td>\n      <td>...</td>\n      <td>...</td>\n      <td>...</td>\n      <td>...</td>\n      <td>...</td>\n      <td>...</td>\n      <td>...</td>\n      <td>...</td>\n      <td>...</td>\n    </tr>\n    <tr>\n      <th>2023-05-20 21:00:00+00:00</th>\n      <td>27024.15</td>\n      <td>27077.00</td>\n      <td>26974.40</td>\n      <td>27045.41</td>\n      <td>295.752932</td>\n      <td>10489</td>\n      <td>27022.9200</td>\n      <td>-4532.401393</td>\n      <td>54051.40</td>\n      <td>39.309704</td>\n      <td>...</td>\n      <td>0</td>\n      <td>0.207210</td>\n      <td>False</td>\n      <td>False</td>\n      <td>False</td>\n      <td>False</td>\n      <td>False</td>\n      <td>False</td>\n      <td>False</td>\n      <td>False</td>\n    </tr>\n    <tr>\n      <th>2023-05-20 22:00:00+00:00</th>\n      <td>27045.67</td>\n      <td>27087.00</td>\n      <td>27017.00</td>\n      <td>27079.82</td>\n      <td>149.672387</td>\n      <td>8032</td>\n      <td>27050.3677</td>\n      <td>-4413.433227</td>\n      <td>54104.00</td>\n      <td>81.087900</td>\n      <td>...</td>\n      <td>0</td>\n      <td>0.487850</td>\n      <td>False</td>\n      <td>False</td>\n      <td>False</td>\n      <td>False</td>\n      <td>False</td>\n      <td>False</td>\n      <td>False</td>\n      <td>False</td>\n    </tr>\n    <tr>\n      <th>2023-05-20 23:00:00+00:00</th>\n      <td>27077.40</td>\n      <td>27154.00</td>\n      <td>27055.20</td>\n      <td>27140.00</td>\n      <td>452.158818</td>\n      <td>9400</td>\n      <td>27101.5233</td>\n      <td>-4089.416584</td>\n      <td>54209.20</td>\n      <td>193.903557</td>\n      <td>...</td>\n      <td>0</td>\n      <td>0.633597</td>\n      <td>False</td>\n      <td>False</td>\n      <td>False</td>\n      <td>False</td>\n      <td>False</td>\n      <td>False</td>\n      <td>False</td>\n      <td>False</td>\n    </tr>\n    <tr>\n      <th>2023-05-21 00:00:00+00:00</th>\n      <td>27111.10</td>\n      <td>27297.00</td>\n      <td>27067.20</td>\n      <td>27251.70</td>\n      <td>1114.216356</td>\n      <td>14550</td>\n      <td>27215.1965</td>\n      <td>-3414.486572</td>\n      <td>54364.20</td>\n      <td>437.178279</td>\n      <td>...</td>\n      <td>0</td>\n      <td>0.611834</td>\n      <td>True</td>\n      <td>False</td>\n      <td>True</td>\n      <td>False</td>\n      <td>True</td>\n      <td>False</td>\n      <td>True</td>\n      <td>False</td>\n    </tr>\n    <tr>\n      <th>2023-05-21 01:00:00+00:00</th>\n      <td>27253.14</td>\n      <td>27272.00</td>\n      <td>27189.70</td>\n      <td>27195.19</td>\n      <td>406.313421</td>\n      <td>7862</td>\n      <td>27227.0896</td>\n      <td>-3766.591957</td>\n      <td>54461.70</td>\n      <td>384.922745</td>\n      <td>...</td>\n      <td>0</td>\n      <td>-0.704123</td>\n      <td>False</td>\n      <td>False</td>\n      <td>False</td>\n      <td>False</td>\n      <td>False</td>\n      <td>False</td>\n      <td>False</td>\n      <td>False</td>\n    </tr>\n  </tbody>\n</table>\n<p>746 rows × 262 columns</p>\n</div>"
     },
     "execution_count": 5,
     "metadata": {},
     "output_type": "execute_result"
    }
   ],
   "source": [
    "from common.featuresTargetsUnshiftedMaker import FeaturesTargetsUnshiftedMaker\n",
    "from pandas import DataFrame\n",
    "from configs.featuresShiftedConfig import FeaturesShiftedConfig\n",
    "\n",
    "#symbolBarData:LocalDataT =  vbt.HDFData.fetch(downloadPath)\n",
    "#config =FeaturesShiftedConfig(dirStr)\n",
    "#featureDataShifted = createFeatureDataShifted(symbol, config, symbolBarData)\n",
    "featuresTargetsMaker: FeaturesTargetsUnshiftedMaker = FeaturesTargetsUnshiftedMaker()\n",
    "featuresTargetsUnshifted: DataFrame = featuresTargetsMaker.loadData(latest, 'X:BTCUSD')\n",
    "featuresTargetsUnshifted"
   ],
   "metadata": {
    "collapsed": false
   }
  },
  {
   "cell_type": "code",
   "execution_count": 6,
   "outputs": [
    {
     "name": "stdout",
     "output_type": "stream",
     "text": [
      "cols to shift 254 soemthing 254 shape (746, 263)\n",
      "Index([], dtype='object')\n",
      "ZErOS\n",
      "['cdl2crows_integer', 'cdl3blackcrows_integer', 'cdl3starsinsouth_integer', 'cdl3whitesoldiers_integer', 'cdlabandonedbaby_integer', 'cdlbreakaway_integer', 'cdlconcealbabyswall_integer', 'cdlcounterattack_integer', 'cdldarkcloudcover_integer', 'cdlidentical3crows_integer', 'cdlinneck_integer', 'cdlkicking_integer', 'cdlkickingbylength_integer', 'cdlladderbottom_integer', 'cdlmathold_integer', 'cdlmorningdojistar_integer', 'cdlonneck_integer', 'cdlpiercing_integer', 'cdlrisefall3methods_integer', 'cdlstalledpattern_integer', 'cdlsticksandwich_integer', 'cdlthrusting_integer', 'cdltristar_integer', 'cdlunique3river_integer', 'cdlupsidegap2crows_integer', 'outWQA61', 'outWQA62', 'outWQA64', 'outWQA65', 'outWQA68', 'outWQA74', 'outWQA75', 'outWQA81', 'outWQA95', 'outWQA99']\n",
      "Zeros length 35\n",
      "TO REMOVE\n",
      "['cdl3starsinsouth_integer', 'cdlabandonedbaby_integer', 'cdlconcealbabyswall_integer', 'cdlkicking_integer', 'cdlkickingbylength_integer', 'outWQA61', 'outWQA62', 'outWQA64', 'outWQA65', 'outWQA68', 'outWQA74', 'outWQA75', 'outWQA81', 'outWQA95', 'outWQA99']\n",
      "toRemove length 15\n"
     ]
    }
   ],
   "source": [
    "from common.featurePreparer import FeaturePreparer\n",
    "\n",
    "featureMaker = FeaturePreparer()\n",
    "featureDataShifted = featureMaker.makeFeatureDf(featuresTargetsUnshifted)\n"
   ],
   "metadata": {
    "collapsed": false
   }
  },
  {
   "cell_type": "code",
   "execution_count": 7,
   "outputs": [
    {
     "data": {
      "text/plain": "                           CurrentOpen      Open      High       Low  \\\nOpen time                                                              \n2023-04-20 01:00:00+00:00     28931.09  28809.00  28973.00  28728.90   \n2023-04-20 02:00:00+00:00     28940.20  28931.09  29009.33  28847.72   \n2023-04-20 03:00:00+00:00     28759.71  28940.20  28973.74  28729.83   \n2023-04-20 04:00:00+00:00     28861.30  28759.71  28897.70  28556.87   \n2023-04-20 05:00:00+00:00     28883.90  28861.30  28972.33  28858.54   \n...                                ...       ...       ...       ...   \n2023-05-20 21:00:00+00:00     27024.15  27075.38  27106.00  27006.60   \n2023-05-20 22:00:00+00:00     27045.67  27024.15  27077.00  26974.40   \n2023-05-20 23:00:00+00:00     27077.40  27045.67  27087.00  27017.00   \n2023-05-21 00:00:00+00:00     27111.10  27077.40  27154.00  27055.20   \n2023-05-21 01:00:00+00:00     27253.14  27111.10  27297.00  27067.20   \n\n                              Close       Volume  Trade count        VWAP  \\\nOpen time                                                                   \n2023-04-20 01:00:00+00:00  28931.09   897.921806      25613.0  28853.7015   \n2023-04-20 02:00:00+00:00  28946.24   837.807899      17536.0  28934.6702   \n2023-04-20 03:00:00+00:00  28759.72   667.655451      15736.0  28871.6728   \n2023-04-20 04:00:00+00:00  28878.61   864.289727      17601.0  28763.5041   \n2023-04-20 05:00:00+00:00  28882.89   587.568587      13258.0  28923.7955   \n...                             ...          ...          ...         ...   \n2023-05-20 21:00:00+00:00  27025.00   197.956593       9404.0  27057.9654   \n2023-05-20 22:00:00+00:00  27045.41   295.752932      10489.0  27022.9200   \n2023-05-20 23:00:00+00:00  27079.82   149.672387       8032.0  27050.3677   \n2023-05-21 00:00:00+00:00  27140.00   452.158818       9400.0  27101.5233   \n2023-05-21 01:00:00+00:00  27251.70  1114.216356      14550.0  27215.1965   \n\n                               ad_real  add_real  ...      wma_real  outWQA1  \\\nOpen time                                         ...                          \n2023-04-20 01:00:00+00:00   589.589951  57701.90  ...  27973.035700      0.5   \n2023-04-20 02:00:00+00:00   773.263819  57857.05  ...  27973.035700      0.5   \n2023-04-20 03:00:00+00:00   269.244311  57703.57  ...  27973.035700      0.5   \n2023-04-20 04:00:00+00:00  1036.715737  57454.57  ...  27973.035700      0.5   \n2023-04-20 05:00:00+00:00   700.615558  57830.87  ...  27973.035700      0.5   \n...                                ...       ...  ...           ...      ...   \n2023-05-20 21:00:00+00:00 -4646.032783  54112.60  ...  26938.956366      0.5   \n2023-05-20 22:00:00+00:00 -4532.401393  54051.40  ...  26947.556301      0.5   \n2023-05-20 23:00:00+00:00 -4413.433227  54104.00  ...  26958.040430      0.5   \n2023-05-21 00:00:00+00:00 -4089.416584  54209.20  ...  26971.897699      0.5   \n2023-05-21 01:00:00+00:00 -3414.486572  54364.20  ...  26992.498215      0.5   \n\n                           longEntry10  shortEntry10  longEntry20  \\\nOpen time                                                           \n2023-04-20 01:00:00+00:00            0             1            0   \n2023-04-20 02:00:00+00:00            0             1            0   \n2023-04-20 03:00:00+00:00            0             0            0   \n2023-04-20 04:00:00+00:00            0             0            0   \n2023-04-20 05:00:00+00:00            0             0            0   \n...                                ...           ...          ...   \n2023-05-20 21:00:00+00:00            0             0            0   \n2023-05-20 22:00:00+00:00            0             0            0   \n2023-05-20 23:00:00+00:00            0             0            0   \n2023-05-21 00:00:00+00:00            1             0            1   \n2023-05-21 01:00:00+00:00            0             0            0   \n\n                           shortEntry20  longEntry50  shortEntry50  \\\nOpen time                                                            \n2023-04-20 01:00:00+00:00             1            0             1   \n2023-04-20 02:00:00+00:00             0            0             0   \n2023-04-20 03:00:00+00:00             0            0             0   \n2023-04-20 04:00:00+00:00             0            0             0   \n2023-04-20 05:00:00+00:00             0            0             0   \n...                                 ...          ...           ...   \n2023-05-20 21:00:00+00:00             0            0             0   \n2023-05-20 22:00:00+00:00             0            0             0   \n2023-05-20 23:00:00+00:00             0            0             0   \n2023-05-21 00:00:00+00:00             0            1             0   \n2023-05-21 01:00:00+00:00             0            0             0   \n\n                           longEntry100  shortEntry100  \nOpen time                                               \n2023-04-20 01:00:00+00:00             0              1  \n2023-04-20 02:00:00+00:00             0              0  \n2023-04-20 03:00:00+00:00             0              0  \n2023-04-20 04:00:00+00:00             0              0  \n2023-04-20 05:00:00+00:00             0              0  \n...                                 ...            ...  \n2023-05-20 21:00:00+00:00             0              0  \n2023-05-20 22:00:00+00:00             0              0  \n2023-05-20 23:00:00+00:00             0              0  \n2023-05-21 00:00:00+00:00             1              0  \n2023-05-21 01:00:00+00:00             0              0  \n\n[745 rows x 186 columns]",
      "text/html": "<div>\n<style scoped>\n    .dataframe tbody tr th:only-of-type {\n        vertical-align: middle;\n    }\n\n    .dataframe tbody tr th {\n        vertical-align: top;\n    }\n\n    .dataframe thead th {\n        text-align: right;\n    }\n</style>\n<table border=\"1\" class=\"dataframe\">\n  <thead>\n    <tr style=\"text-align: right;\">\n      <th></th>\n      <th>CurrentOpen</th>\n      <th>Open</th>\n      <th>High</th>\n      <th>Low</th>\n      <th>Close</th>\n      <th>Volume</th>\n      <th>Trade count</th>\n      <th>VWAP</th>\n      <th>ad_real</th>\n      <th>add_real</th>\n      <th>...</th>\n      <th>wma_real</th>\n      <th>outWQA1</th>\n      <th>longEntry10</th>\n      <th>shortEntry10</th>\n      <th>longEntry20</th>\n      <th>shortEntry20</th>\n      <th>longEntry50</th>\n      <th>shortEntry50</th>\n      <th>longEntry100</th>\n      <th>shortEntry100</th>\n    </tr>\n    <tr>\n      <th>Open time</th>\n      <th></th>\n      <th></th>\n      <th></th>\n      <th></th>\n      <th></th>\n      <th></th>\n      <th></th>\n      <th></th>\n      <th></th>\n      <th></th>\n      <th></th>\n      <th></th>\n      <th></th>\n      <th></th>\n      <th></th>\n      <th></th>\n      <th></th>\n      <th></th>\n      <th></th>\n      <th></th>\n      <th></th>\n    </tr>\n  </thead>\n  <tbody>\n    <tr>\n      <th>2023-04-20 01:00:00+00:00</th>\n      <td>28931.09</td>\n      <td>28809.00</td>\n      <td>28973.00</td>\n      <td>28728.90</td>\n      <td>28931.09</td>\n      <td>897.921806</td>\n      <td>25613.0</td>\n      <td>28853.7015</td>\n      <td>589.589951</td>\n      <td>57701.90</td>\n      <td>...</td>\n      <td>27973.035700</td>\n      <td>0.5</td>\n      <td>0</td>\n      <td>1</td>\n      <td>0</td>\n      <td>1</td>\n      <td>0</td>\n      <td>1</td>\n      <td>0</td>\n      <td>1</td>\n    </tr>\n    <tr>\n      <th>2023-04-20 02:00:00+00:00</th>\n      <td>28940.20</td>\n      <td>28931.09</td>\n      <td>29009.33</td>\n      <td>28847.72</td>\n      <td>28946.24</td>\n      <td>837.807899</td>\n      <td>17536.0</td>\n      <td>28934.6702</td>\n      <td>773.263819</td>\n      <td>57857.05</td>\n      <td>...</td>\n      <td>27973.035700</td>\n      <td>0.5</td>\n      <td>0</td>\n      <td>1</td>\n      <td>0</td>\n      <td>0</td>\n      <td>0</td>\n      <td>0</td>\n      <td>0</td>\n      <td>0</td>\n    </tr>\n    <tr>\n      <th>2023-04-20 03:00:00+00:00</th>\n      <td>28759.71</td>\n      <td>28940.20</td>\n      <td>28973.74</td>\n      <td>28729.83</td>\n      <td>28759.72</td>\n      <td>667.655451</td>\n      <td>15736.0</td>\n      <td>28871.6728</td>\n      <td>269.244311</td>\n      <td>57703.57</td>\n      <td>...</td>\n      <td>27973.035700</td>\n      <td>0.5</td>\n      <td>0</td>\n      <td>0</td>\n      <td>0</td>\n      <td>0</td>\n      <td>0</td>\n      <td>0</td>\n      <td>0</td>\n      <td>0</td>\n    </tr>\n    <tr>\n      <th>2023-04-20 04:00:00+00:00</th>\n      <td>28861.30</td>\n      <td>28759.71</td>\n      <td>28897.70</td>\n      <td>28556.87</td>\n      <td>28878.61</td>\n      <td>864.289727</td>\n      <td>17601.0</td>\n      <td>28763.5041</td>\n      <td>1036.715737</td>\n      <td>57454.57</td>\n      <td>...</td>\n      <td>27973.035700</td>\n      <td>0.5</td>\n      <td>0</td>\n      <td>0</td>\n      <td>0</td>\n      <td>0</td>\n      <td>0</td>\n      <td>0</td>\n      <td>0</td>\n      <td>0</td>\n    </tr>\n    <tr>\n      <th>2023-04-20 05:00:00+00:00</th>\n      <td>28883.90</td>\n      <td>28861.30</td>\n      <td>28972.33</td>\n      <td>28858.54</td>\n      <td>28882.89</td>\n      <td>587.568587</td>\n      <td>13258.0</td>\n      <td>28923.7955</td>\n      <td>700.615558</td>\n      <td>57830.87</td>\n      <td>...</td>\n      <td>27973.035700</td>\n      <td>0.5</td>\n      <td>0</td>\n      <td>0</td>\n      <td>0</td>\n      <td>0</td>\n      <td>0</td>\n      <td>0</td>\n      <td>0</td>\n      <td>0</td>\n    </tr>\n    <tr>\n      <th>...</th>\n      <td>...</td>\n      <td>...</td>\n      <td>...</td>\n      <td>...</td>\n      <td>...</td>\n      <td>...</td>\n      <td>...</td>\n      <td>...</td>\n      <td>...</td>\n      <td>...</td>\n      <td>...</td>\n      <td>...</td>\n      <td>...</td>\n      <td>...</td>\n      <td>...</td>\n      <td>...</td>\n      <td>...</td>\n      <td>...</td>\n      <td>...</td>\n      <td>...</td>\n      <td>...</td>\n    </tr>\n    <tr>\n      <th>2023-05-20 21:00:00+00:00</th>\n      <td>27024.15</td>\n      <td>27075.38</td>\n      <td>27106.00</td>\n      <td>27006.60</td>\n      <td>27025.00</td>\n      <td>197.956593</td>\n      <td>9404.0</td>\n      <td>27057.9654</td>\n      <td>-4646.032783</td>\n      <td>54112.60</td>\n      <td>...</td>\n      <td>26938.956366</td>\n      <td>0.5</td>\n      <td>0</td>\n      <td>0</td>\n      <td>0</td>\n      <td>0</td>\n      <td>0</td>\n      <td>0</td>\n      <td>0</td>\n      <td>0</td>\n    </tr>\n    <tr>\n      <th>2023-05-20 22:00:00+00:00</th>\n      <td>27045.67</td>\n      <td>27024.15</td>\n      <td>27077.00</td>\n      <td>26974.40</td>\n      <td>27045.41</td>\n      <td>295.752932</td>\n      <td>10489.0</td>\n      <td>27022.9200</td>\n      <td>-4532.401393</td>\n      <td>54051.40</td>\n      <td>...</td>\n      <td>26947.556301</td>\n      <td>0.5</td>\n      <td>0</td>\n      <td>0</td>\n      <td>0</td>\n      <td>0</td>\n      <td>0</td>\n      <td>0</td>\n      <td>0</td>\n      <td>0</td>\n    </tr>\n    <tr>\n      <th>2023-05-20 23:00:00+00:00</th>\n      <td>27077.40</td>\n      <td>27045.67</td>\n      <td>27087.00</td>\n      <td>27017.00</td>\n      <td>27079.82</td>\n      <td>149.672387</td>\n      <td>8032.0</td>\n      <td>27050.3677</td>\n      <td>-4413.433227</td>\n      <td>54104.00</td>\n      <td>...</td>\n      <td>26958.040430</td>\n      <td>0.5</td>\n      <td>0</td>\n      <td>0</td>\n      <td>0</td>\n      <td>0</td>\n      <td>0</td>\n      <td>0</td>\n      <td>0</td>\n      <td>0</td>\n    </tr>\n    <tr>\n      <th>2023-05-21 00:00:00+00:00</th>\n      <td>27111.10</td>\n      <td>27077.40</td>\n      <td>27154.00</td>\n      <td>27055.20</td>\n      <td>27140.00</td>\n      <td>452.158818</td>\n      <td>9400.0</td>\n      <td>27101.5233</td>\n      <td>-4089.416584</td>\n      <td>54209.20</td>\n      <td>...</td>\n      <td>26971.897699</td>\n      <td>0.5</td>\n      <td>1</td>\n      <td>0</td>\n      <td>1</td>\n      <td>0</td>\n      <td>1</td>\n      <td>0</td>\n      <td>1</td>\n      <td>0</td>\n    </tr>\n    <tr>\n      <th>2023-05-21 01:00:00+00:00</th>\n      <td>27253.14</td>\n      <td>27111.10</td>\n      <td>27297.00</td>\n      <td>27067.20</td>\n      <td>27251.70</td>\n      <td>1114.216356</td>\n      <td>14550.0</td>\n      <td>27215.1965</td>\n      <td>-3414.486572</td>\n      <td>54364.20</td>\n      <td>...</td>\n      <td>26992.498215</td>\n      <td>0.5</td>\n      <td>0</td>\n      <td>0</td>\n      <td>0</td>\n      <td>0</td>\n      <td>0</td>\n      <td>0</td>\n      <td>0</td>\n      <td>0</td>\n    </tr>\n  </tbody>\n</table>\n<p>745 rows × 186 columns</p>\n</div>"
     },
     "execution_count": 7,
     "metadata": {},
     "output_type": "execute_result"
    }
   ],
   "source": [
    "featureDataShifted"
   ],
   "metadata": {
    "collapsed": false
   }
  },
  {
   "cell_type": "code",
   "execution_count": 8,
   "outputs": [],
   "source": [
    "closeSeries = featureDataShifted.Close\n",
    "from common.hourlyReturns import HourlyReturns\n",
    "returnMaker = HourlyReturns(closeSeries)\n",
    "returns = returnMaker.createHourlyReturns()\n",
    "sequence = list(range(1, Config.hourlyReturnsWindowSize+1))\n",
    "\n",
    "npReturns = returns.loc[:, sequence].values.reshape(-1, Config.hourlyReturnsWindowSize , 1)"
   ],
   "metadata": {
    "collapsed": false
   }
  },
  {
   "cell_type": "code",
   "execution_count": 9,
   "outputs": [
    {
     "name": "stdout",
     "output_type": "stream",
     "text": [
      "<class 'pandas.core.frame.DataFrame'>\n",
      "<class 'pandas.core.frame.DataFrame'>\n"
     ]
    }
   ],
   "source": [
    "import pandas as pd\n",
    "from common.predict import Predict\n",
    "testFeatures = featureDataShifted.loc[:, Config.featuresColumnStart:Config.featuresColumnEnd]\n",
    "testTargets = featureDataShifted.loc[:, Config.targetsColumnStart:Config.targetsColumnEnd]\n",
    "#testTargets['fwd_returns_label'] = featureDataShifted['fwd_returns_label']\n",
    "print(type(testFeatures))\n",
    "print(type(returns))\n",
    "testFeatures= testFeatures[testFeatures.index.isin(returns.index)]\n",
    "testTargets= testTargets[testTargets.index.isin(returns.index)]\n",
    "\n",
    "#result = pd.merge(left, right, on=\"B\", how=\"outer\")\n",
    "#testFeatures\n",
    "#returns"
   ],
   "metadata": {
    "collapsed": false
   }
  },
  {
   "cell_type": "code",
   "execution_count": null,
   "outputs": [],
   "source": [
    "\n",
    "predictor = Predict(\"longEntry50\", \"shortEntry50\",\n",
    "                    npReturns, testFeatures, testTargets)\n",
    "predictor.runPredicts()\n",
    "comparison = predictor.createComparisonDf()\n"
   ],
   "metadata": {
    "collapsed": false
   }
  },
  {
   "cell_type": "code",
   "execution_count": 132,
   "outputs": [
    {
     "data": {
      "text/plain": "<Figure size 1300x700 with 2 Axes>",
      "image/png": "[encoded data removed]"
     },
     "metadata": {},
     "output_type": "display_data"
    }
   ],
   "source": [
    "from common.modelTester import ModelTester\n",
    "closes = latest.data['X:BTCUSD'].Close\n",
    "modelTester = ModelTester()\n",
    "portfolioStats = modelTester.createPortfolioComparisonDf(closes, comparison, 50)\n",
    "modelTester.createMinScoreHistogram(portfolioStats, 'TotalReturn')"
   ],
   "metadata": {
    "collapsed": false
   }
  },
  {
   "cell_type": "code",
   "execution_count": 133,
   "outputs": [
    {
     "data": {
      "text/plain": "                           predictedLongEntry  predictedShortEntry  \\\nOpen time                                                            \n2023-04-25 02:00:00+00:00            0.376911             0.275245   \n2023-04-25 03:00:00+00:00            0.441434             0.357340   \n2023-04-25 04:00:00+00:00            0.464558             0.308808   \n2023-04-25 05:00:00+00:00            0.444817             0.322424   \n2023-04-25 06:00:00+00:00            0.549323             0.313354   \n...                                       ...                  ...   \n2023-05-20 21:00:00+00:00            0.534752             0.523475   \n2023-05-20 22:00:00+00:00            0.560564             0.433030   \n2023-05-20 23:00:00+00:00            0.615910             0.431967   \n2023-05-21 00:00:00+00:00            0.647775             0.395658   \n2023-05-21 01:00:00+00:00            0.692644             0.462128   \n\n                           actualLongEntry  actualShortEntry  \\\nOpen time                                                      \n2023-04-25 02:00:00+00:00                0                 0   \n2023-04-25 03:00:00+00:00                0                 0   \n2023-04-25 04:00:00+00:00                0                 0   \n2023-04-25 05:00:00+00:00                0                 0   \n2023-04-25 06:00:00+00:00                0                 0   \n...                                    ...               ...   \n2023-05-20 21:00:00+00:00                0                 0   \n2023-05-20 22:00:00+00:00                0                 0   \n2023-05-20 23:00:00+00:00                0                 0   \n2023-05-21 00:00:00+00:00                1                 0   \n2023-05-21 01:00:00+00:00                0                 0   \n\n                           predictedLongEntry_0.0  predictedShortEntry_0.0  \\\nOpen time                                                                    \n2023-04-25 02:00:00+00:00                       1                        1   \n2023-04-25 03:00:00+00:00                       1                        1   \n2023-04-25 04:00:00+00:00                       1                        1   \n2023-04-25 05:00:00+00:00                       1                        1   \n2023-04-25 06:00:00+00:00                       1                        1   \n...                                           ...                      ...   \n2023-05-20 21:00:00+00:00                       1                        1   \n2023-05-20 22:00:00+00:00                       1                        1   \n2023-05-20 23:00:00+00:00                       1                        1   \n2023-05-21 00:00:00+00:00                       1                        1   \n2023-05-21 01:00:00+00:00                       1                        1   \n\n                           predictedLongEntry_0.05  predictedShortEntry_0.05  \\\nOpen time                                                                      \n2023-04-25 02:00:00+00:00                        1                         1   \n2023-04-25 03:00:00+00:00                        1                         1   \n2023-04-25 04:00:00+00:00                        1                         1   \n2023-04-25 05:00:00+00:00                        1                         1   \n2023-04-25 06:00:00+00:00                        1                         1   \n...                                            ...                       ...   \n2023-05-20 21:00:00+00:00                        1                         1   \n2023-05-20 22:00:00+00:00                        1                         1   \n2023-05-20 23:00:00+00:00                        1                         1   \n2023-05-21 00:00:00+00:00                        1                         1   \n2023-05-21 01:00:00+00:00                        1                         1   \n\n                           predictedLongEntry_0.1  predictedShortEntry_0.1  \\\nOpen time                                                                    \n2023-04-25 02:00:00+00:00                       1                        1   \n2023-04-25 03:00:00+00:00                       1                        1   \n2023-04-25 04:00:00+00:00                       1                        1   \n2023-04-25 05:00:00+00:00                       1                        1   \n2023-04-25 06:00:00+00:00                       1                        1   \n...                                           ...                      ...   \n2023-05-20 21:00:00+00:00                       1                        1   \n2023-05-20 22:00:00+00:00                       1                        1   \n2023-05-20 23:00:00+00:00                       1                        1   \n2023-05-21 00:00:00+00:00                       1                        1   \n2023-05-21 01:00:00+00:00                       1                        1   \n\n                           ...  predictedLongEntry_0.75  \\\nOpen time                  ...                            \n2023-04-25 02:00:00+00:00  ...                        0   \n2023-04-25 03:00:00+00:00  ...                        0   \n2023-04-25 04:00:00+00:00  ...                        0   \n2023-04-25 05:00:00+00:00  ...                        0   \n2023-04-25 06:00:00+00:00  ...                        0   \n...                        ...                      ...   \n2023-05-20 21:00:00+00:00  ...                        0   \n2023-05-20 22:00:00+00:00  ...                        0   \n2023-05-20 23:00:00+00:00  ...                        0   \n2023-05-21 00:00:00+00:00  ...                        0   \n2023-05-21 01:00:00+00:00  ...                        0   \n\n                           predictedShortEntry_0.75  predictedLongEntry_0.8  \\\nOpen time                                                                     \n2023-04-25 02:00:00+00:00                         0                       0   \n2023-04-25 03:00:00+00:00                         0                       0   \n2023-04-25 04:00:00+00:00                         0                       0   \n2023-04-25 05:00:00+00:00                         0                       0   \n2023-04-25 06:00:00+00:00                         0                       0   \n...                                             ...                     ...   \n2023-05-20 21:00:00+00:00                         0                       0   \n2023-05-20 22:00:00+00:00                         0                       0   \n2023-05-20 23:00:00+00:00                         0                       0   \n2023-05-21 00:00:00+00:00                         0                       0   \n2023-05-21 01:00:00+00:00                         0                       0   \n\n                           predictedShortEntry_0.8  predictedLongEntry_0.85  \\\nOpen time                                                                     \n2023-04-25 02:00:00+00:00                        0                        0   \n2023-04-25 03:00:00+00:00                        0                        0   \n2023-04-25 04:00:00+00:00                        0                        0   \n2023-04-25 05:00:00+00:00                        0                        0   \n2023-04-25 06:00:00+00:00                        0                        0   \n...                                            ...                      ...   \n2023-05-20 21:00:00+00:00                        0                        0   \n2023-05-20 22:00:00+00:00                        0                        0   \n2023-05-20 23:00:00+00:00                        0                        0   \n2023-05-21 00:00:00+00:00                        0                        0   \n2023-05-21 01:00:00+00:00                        0                        0   \n\n                           predictedShortEntry_0.85  predictedLongEntry_0.9  \\\nOpen time                                                                     \n2023-04-25 02:00:00+00:00                         0                       0   \n2023-04-25 03:00:00+00:00                         0                       0   \n2023-04-25 04:00:00+00:00                         0                       0   \n2023-04-25 05:00:00+00:00                         0                       0   \n2023-04-25 06:00:00+00:00                         0                       0   \n...                                             ...                     ...   \n2023-05-20 21:00:00+00:00                         0                       0   \n2023-05-20 22:00:00+00:00                         0                       0   \n2023-05-20 23:00:00+00:00                         0                       0   \n2023-05-21 00:00:00+00:00                         0                       0   \n2023-05-21 01:00:00+00:00                         0                       0   \n\n                           predictedShortEntry_0.9  predictedLongEntry_0.95  \\\nOpen time                                                                     \n2023-04-25 02:00:00+00:00                        0                        0   \n2023-04-25 03:00:00+00:00                        0                        0   \n2023-04-25 04:00:00+00:00                        0                        0   \n2023-04-25 05:00:00+00:00                        0                        0   \n2023-04-25 06:00:00+00:00                        0                        0   \n...                                            ...                      ...   \n2023-05-20 21:00:00+00:00                        0                        0   \n2023-05-20 22:00:00+00:00                        0                        0   \n2023-05-20 23:00:00+00:00                        0                        0   \n2023-05-21 00:00:00+00:00                        0                        0   \n2023-05-21 01:00:00+00:00                        0                        0   \n\n                           predictedShortEntry_0.95  \nOpen time                                            \n2023-04-25 02:00:00+00:00                         0  \n2023-04-25 03:00:00+00:00                         0  \n2023-04-25 04:00:00+00:00                         0  \n2023-04-25 05:00:00+00:00                         0  \n2023-04-25 06:00:00+00:00                         0  \n...                                             ...  \n2023-05-20 21:00:00+00:00                         0  \n2023-05-20 22:00:00+00:00                         0  \n2023-05-20 23:00:00+00:00                         0  \n2023-05-21 00:00:00+00:00                         0  \n2023-05-21 01:00:00+00:00                         0  \n\n[624 rows x 44 columns]",
      "text/html": "<div>\n<style scoped>\n    .dataframe tbody tr th:only-of-type {\n        vertical-align: middle;\n    }\n\n    .dataframe tbody tr th {\n        vertical-align: top;\n    }\n\n    .dataframe thead th {\n        text-align: right;\n    }\n</style>\n<table border=\"1\" class=\"dataframe\">\n  <thead>\n    <tr style=\"text-align: right;\">\n      <th></th>\n      <th>predictedLongEntry</th>\n      <th>predictedShortEntry</th>\n      <th>actualLongEntry</th>\n      <th>actualShortEntry</th>\n      <th>predictedLongEntry_0.0</th>\n      <th>predictedShortEntry_0.0</th>\n      <th>predictedLongEntry_0.05</th>\n      <th>predictedShortEntry_0.05</th>\n      <th>predictedLongEntry_0.1</th>\n      <th>predictedShortEntry_0.1</th>\n      <th>...</th>\n      <th>predictedLongEntry_0.75</th>\n      <th>predictedShortEntry_0.75</th>\n      <th>predictedLongEntry_0.8</th>\n      <th>predictedShortEntry_0.8</th>\n      <th>predictedLongEntry_0.85</th>\n      <th>predictedShortEntry_0.85</th>\n      <th>predictedLongEntry_0.9</th>\n      <th>predictedShortEntry_0.9</th>\n      <th>predictedLongEntry_0.95</th>\n      <th>predictedShortEntry_0.95</th>\n    </tr>\n    <tr>\n      <th>Open time</th>\n      <th></th>\n      <th></th>\n      <th></th>\n      <th></th>\n      <th></th>\n      <th></th>\n      <th></th>\n      <th></th>\n      <th></th>\n      <th></th>\n      <th></th>\n      <th></th>\n      <th></th>\n      <th></th>\n      <th></th>\n      <th></th>\n      <th></th>\n      <th></th>\n      <th></th>\n      <th></th>\n      <th></th>\n    </tr>\n  </thead>\n  <tbody>\n    <tr>\n      <th>2023-04-25 02:00:00+00:00</th>\n      <td>0.376911</td>\n      <td>0.275245</td>\n      <td>0</td>\n      <td>0</td>\n      <td>1</td>\n      <td>1</td>\n      <td>1</td>\n      <td>1</td>\n      <td>1</td>\n      <td>1</td>\n      <td>...</td>\n      <td>0</td>\n      <td>0</td>\n      <td>0</td>\n      <td>0</td>\n      <td>0</td>\n      <td>0</td>\n      <td>0</td>\n      <td>0</td>\n      <td>0</td>\n      <td>0</td>\n    </tr>\n    <tr>\n      <th>2023-04-25 03:00:00+00:00</th>\n      <td>0.441434</td>\n      <td>0.357340</td>\n      <td>0</td>\n      <td>0</td>\n      <td>1</td>\n      <td>1</td>\n      <td>1</td>\n      <td>1</td>\n      <td>1</td>\n      <td>1</td>\n      <td>...</td>\n      <td>0</td>\n      <td>0</td>\n      <td>0</td>\n      <td>0</td>\n      <td>0</td>\n      <td>0</td>\n      <td>0</td>\n      <td>0</td>\n      <td>0</td>\n      <td>0</td>\n    </tr>\n    <tr>\n      <th>2023-04-25 04:00:00+00:00</th>\n      <td>0.464558</td>\n      <td>0.308808</td>\n      <td>0</td>\n      <td>0</td>\n      <td>1</td>\n      <td>1</td>\n      <td>1</td>\n      <td>1</td>\n      <td>1</td>\n      <td>1</td>\n      <td>...</td>\n      <td>0</td>\n      <td>0</td>\n      <td>0</td>\n      <td>0</td>\n      <td>0</td>\n      <td>0</td>\n      <td>0</td>\n      <td>0</td>\n      <td>0</td>\n      <td>0</td>\n    </tr>\n    <tr>\n      <th>2023-04-25 05:00:00+00:00</th>\n      <td>0.444817</td>\n      <td>0.322424</td>\n      <td>0</td>\n      <td>0</td>\n      <td>1</td>\n      <td>1</td>\n      <td>1</td>\n      <td>1</td>\n      <td>1</td>\n      <td>1</td>\n      <td>...</td>\n      <td>0</td>\n      <td>0</td>\n      <td>0</td>\n      <td>0</td>\n      <td>0</td>\n      <td>0</td>\n      <td>0</td>\n      <td>0</td>\n      <td>0</td>\n      <td>0</td>\n    </tr>\n    <tr>\n      <th>2023-04-25 06:00:00+00:00</th>\n      <td>0.549323</td>\n      <td>0.313354</td>\n      <td>0</td>\n      <td>0</td>\n      <td>1</td>\n      <td>1</td>\n      <td>1</td>\n      <td>1</td>\n      <td>1</td>\n      <td>1</td>\n      <td>...</td>\n      <td>0</td>\n      <td>0</td>\n      <td>0</td>\n      <td>0</td>\n      <td>0</td>\n      <td>0</td>\n      <td>0</td>\n      <td>0</td>\n      <td>0</td>\n      <td>0</td>\n    </tr>\n    <tr>\n      <th>...</th>\n      <td>...</td>\n      <td>...</td>\n      <td>...</td>\n      <td>...</td>\n      <td>...</td>\n      <td>...</td>\n      <td>...</td>\n      <td>...</td>\n      <td>...</td>\n      <td>...</td>\n      <td>...</td>\n      <td>...</td>\n      <td>...</td>\n      <td>...</td>\n      <td>...</td>\n      <td>...</td>\n      <td>...</td>\n      <td>...</td>\n      <td>...</td>\n      <td>...</td>\n      <td>...</td>\n    </tr>\n    <tr>\n      <th>2023-05-20 21:00:00+00:00</th>\n      <td>0.534752</td>\n      <td>0.523475</td>\n      <td>0</td>\n      <td>0</td>\n      <td>1</td>\n      <td>1</td>\n      <td>1</td>\n      <td>1</td>\n      <td>1</td>\n      <td>1</td>\n      <td>...</td>\n      <td>0</td>\n      <td>0</td>\n      <td>0</td>\n      <td>0</td>\n      <td>0</td>\n      <td>0</td>\n      <td>0</td>\n      <td>0</td>\n      <td>0</td>\n      <td>0</td>\n    </tr>\n    <tr>\n      <th>2023-05-20 22:00:00+00:00</th>\n      <td>0.560564</td>\n      <td>0.433030</td>\n      <td>0</td>\n      <td>0</td>\n      <td>1</td>\n      <td>1</td>\n      <td>1</td>\n      <td>1</td>\n      <td>1</td>\n      <td>1</td>\n      <td>...</td>\n      <td>0</td>\n      <td>0</td>\n      <td>0</td>\n      <td>0</td>\n      <td>0</td>\n      <td>0</td>\n      <td>0</td>\n      <td>0</td>\n      <td>0</td>\n      <td>0</td>\n    </tr>\n    <tr>\n      <th>2023-05-20 23:00:00+00:00</th>\n      <td>0.615910</td>\n      <td>0.431967</td>\n      <td>0</td>\n      <td>0</td>\n      <td>1</td>\n      <td>1</td>\n      <td>1</td>\n      <td>1</td>\n      <td>1</td>\n      <td>1</td>\n      <td>...</td>\n      <td>0</td>\n      <td>0</td>\n      <td>0</td>\n      <td>0</td>\n      <td>0</td>\n      <td>0</td>\n      <td>0</td>\n      <td>0</td>\n      <td>0</td>\n      <td>0</td>\n    </tr>\n    <tr>\n      <th>2023-05-21 00:00:00+00:00</th>\n      <td>0.647775</td>\n      <td>0.395658</td>\n      <td>1</td>\n      <td>0</td>\n      <td>1</td>\n      <td>1</td>\n      <td>1</td>\n      <td>1</td>\n      <td>1</td>\n      <td>1</td>\n      <td>...</td>\n      <td>0</td>\n      <td>0</td>\n      <td>0</td>\n      <td>0</td>\n      <td>0</td>\n      <td>0</td>\n      <td>0</td>\n      <td>0</td>\n      <td>0</td>\n      <td>0</td>\n    </tr>\n    <tr>\n      <th>2023-05-21 01:00:00+00:00</th>\n      <td>0.692644</td>\n      <td>0.462128</td>\n      <td>0</td>\n      <td>0</td>\n      <td>1</td>\n      <td>1</td>\n      <td>1</td>\n      <td>1</td>\n      <td>1</td>\n      <td>1</td>\n      <td>...</td>\n      <td>0</td>\n      <td>0</td>\n      <td>0</td>\n      <td>0</td>\n      <td>0</td>\n      <td>0</td>\n      <td>0</td>\n      <td>0</td>\n      <td>0</td>\n      <td>0</td>\n    </tr>\n  </tbody>\n</table>\n<p>624 rows × 44 columns</p>\n</div>"
     },
     "execution_count": 133,
     "metadata": {},
     "output_type": "execute_result"
    }
   ],
   "source": [
    "comparison"
   ],
   "metadata": {
    "collapsed": false
   }
  },
  {
   "cell_type": "code",
   "execution_count": 135,
   "outputs": [
    {
     "name": "stdout",
     "output_type": "stream",
     "text": [
      "0.5\n",
      "0.55\n"
     ]
    }
   ],
   "source": [
    "\n",
    "portfolioStats\n",
    "best=portfolioStats.loc[portfolioStats['TotalReturn'].idxmax()]\n",
    "#df2=df.loc[df['Fee'].idxmax()]\n",
    "longMin=best['LongMin']\n",
    "shortMin=best['ShortMin']\n",
    "print(longMin)\n",
    "print(shortMin)"
   ],
   "metadata": {
    "collapsed": false
   }
  },
  {
   "cell_type": "code",
   "execution_count": 41,
   "outputs": [],
   "source": [
    "\n",
    "#pd.concat([testFeatures.head(10), testFeatures.tail(10)])\n",
    "#pd.concat([returns.head(10), returns.tail(10)])\n"
   ],
   "metadata": {
    "collapsed": false
   }
  },
  {
   "cell_type": "code",
   "execution_count": 28,
   "outputs": [
    {
     "data": {
      "text/plain": "                           predictedLongEntry  predictedShortEntry  \\\nOpen time                                                            \n2023-05-21 01:00:00+00:00            0.692644             0.462128   \n\n                           actualLongEntry  actualShortEntry  \\\nOpen time                                                      \n2023-05-21 01:00:00+00:00                0                 0   \n\n                           predictedLongEntry_0.0  predictedShortEntry_0.0  \\\nOpen time                                                                    \n2023-05-21 01:00:00+00:00                       1                        1   \n\n                           predictedLongEntry_0.05  predictedShortEntry_0.05  \\\nOpen time                                                                      \n2023-05-21 01:00:00+00:00                        1                         1   \n\n                           predictedLongEntry_0.1  predictedShortEntry_0.1  \\\nOpen time                                                                    \n2023-05-21 01:00:00+00:00                       1                        1   \n\n                           ...  predictedLongEntry_0.75  \\\nOpen time                  ...                            \n2023-05-21 01:00:00+00:00  ...                        0   \n\n                           predictedShortEntry_0.75  predictedLongEntry_0.8  \\\nOpen time                                                                     \n2023-05-21 01:00:00+00:00                         0                       0   \n\n                           predictedShortEntry_0.8  predictedLongEntry_0.85  \\\nOpen time                                                                     \n2023-05-21 01:00:00+00:00                        0                        0   \n\n                           predictedShortEntry_0.85  predictedLongEntry_0.9  \\\nOpen time                                                                     \n2023-05-21 01:00:00+00:00                         0                       0   \n\n                           predictedShortEntry_0.9  predictedLongEntry_0.95  \\\nOpen time                                                                     \n2023-05-21 01:00:00+00:00                        0                        0   \n\n                           predictedShortEntry_0.95  \nOpen time                                            \n2023-05-21 01:00:00+00:00                         0  \n\n[1 rows x 44 columns]",
      "text/html": "<div>\n<style scoped>\n    .dataframe tbody tr th:only-of-type {\n        vertical-align: middle;\n    }\n\n    .dataframe tbody tr th {\n        vertical-align: top;\n    }\n\n    .dataframe thead th {\n        text-align: right;\n    }\n</style>\n<table border=\"1\" class=\"dataframe\">\n  <thead>\n    <tr style=\"text-align: right;\">\n      <th></th>\n      <th>predictedLongEntry</th>\n      <th>predictedShortEntry</th>\n      <th>actualLongEntry</th>\n      <th>actualShortEntry</th>\n      <th>predictedLongEntry_0.0</th>\n      <th>predictedShortEntry_0.0</th>\n      <th>predictedLongEntry_0.05</th>\n      <th>predictedShortEntry_0.05</th>\n      <th>predictedLongEntry_0.1</th>\n      <th>predictedShortEntry_0.1</th>\n      <th>...</th>\n      <th>predictedLongEntry_0.75</th>\n      <th>predictedShortEntry_0.75</th>\n      <th>predictedLongEntry_0.8</th>\n      <th>predictedShortEntry_0.8</th>\n      <th>predictedLongEntry_0.85</th>\n      <th>predictedShortEntry_0.85</th>\n      <th>predictedLongEntry_0.9</th>\n      <th>predictedShortEntry_0.9</th>\n      <th>predictedLongEntry_0.95</th>\n      <th>predictedShortEntry_0.95</th>\n    </tr>\n    <tr>\n      <th>Open time</th>\n      <th></th>\n      <th></th>\n      <th></th>\n      <th></th>\n      <th></th>\n      <th></th>\n      <th></th>\n      <th></th>\n      <th></th>\n      <th></th>\n      <th></th>\n      <th></th>\n      <th></th>\n      <th></th>\n      <th></th>\n      <th></th>\n      <th></th>\n      <th></th>\n      <th></th>\n      <th></th>\n      <th></th>\n    </tr>\n  </thead>\n  <tbody>\n    <tr>\n      <th>2023-05-21 01:00:00+00:00</th>\n      <td>0.692644</td>\n      <td>0.462128</td>\n      <td>0</td>\n      <td>0</td>\n      <td>1</td>\n      <td>1</td>\n      <td>1</td>\n      <td>1</td>\n      <td>1</td>\n      <td>1</td>\n      <td>...</td>\n      <td>0</td>\n      <td>0</td>\n      <td>0</td>\n      <td>0</td>\n      <td>0</td>\n      <td>0</td>\n      <td>0</td>\n      <td>0</td>\n      <td>0</td>\n      <td>0</td>\n    </tr>\n  </tbody>\n</table>\n<p>1 rows × 44 columns</p>\n</div>"
     },
     "execution_count": 28,
     "metadata": {},
     "output_type": "execute_result"
    }
   ],
   "source": [
    "recentHour = comparison.iloc[-1:, :]\n",
    "recentHour"
   ],
   "metadata": {
    "collapsed": false
   }
  },
  {
   "cell_type": "code",
   "execution_count": 33,
   "outputs": [
    {
     "name": "stdout",
     "output_type": "stream",
     "text": [
      "should buy\n"
     ]
    }
   ],
   "source": [
    "if recentHour.iloc[0]['predictedLongEntry']> longMin:\n",
    "    print(\"should buy\")\n",
    "\n",
    "if recentHour.iloc[0]['predictedShortEntry'] > shortMin:\n",
    "    print(\"should short\")\n",
    "#comparison.tail()"
   ],
   "metadata": {
    "collapsed": false
   }
  },
  {
   "cell_type": "code",
   "execution_count": 31,
   "outputs": [
    {
     "data": {
      "text/plain": "0.6926440000534058"
     },
     "execution_count": 31,
     "metadata": {},
     "output_type": "execute_result"
    }
   ],
   "source": [
    "recentHour.iloc[0]['predictedLongEntry']"
   ],
   "metadata": {
    "collapsed": false
   }
  },
  {
   "cell_type": "code",
   "execution_count": 34,
   "outputs": [
    {
     "data": {
      "text/plain": "(38590, 120, 1)"
     },
     "execution_count": 34,
     "metadata": {},
     "output_type": "execute_result"
    }
   ],
   "source": [
    "import numpy as np\n",
    "\n",
    "trainLaggedReturns = np.load(Config.relativeTrainLaggedReturnsPath)\n",
    "trainLaggedReturns.shape"
   ],
   "metadata": {
    "collapsed": false
   }
  },
  {
   "cell_type": "code",
   "execution_count": 42,
   "outputs": [
    {
     "data": {
      "text/plain": "                                       open          high       low     close  \\\nsymbol  timestamp                                                               \nBTC/USD 2023-05-21 11:00:00+00:00  26972.67  26972.670000  26805.00  26852.24   \n        2023-05-21 12:00:00+00:00  26850.97  26971.190000  26827.50  26955.00   \n        2023-05-21 13:00:00+00:00  26954.99  26974.810886  26910.07  26910.07   \n        2023-05-21 14:00:00+00:00  26910.90  27005.149580  26907.59  26927.99   \n        2023-05-21 15:00:00+00:00  26926.25  27006.050000  26829.59  26919.29   \n        2023-05-21 16:00:00+00:00  26918.53  26944.530000  26875.00  26907.28   \n        2023-05-21 17:00:00+00:00  26905.41  26956.400000  26850.10  26893.99   \n        2023-05-21 18:00:00+00:00  26893.99  26919.600000  26864.42  26893.00   \n        2023-05-21 19:00:00+00:00  26890.65  26943.280000  26882.98  26933.92   \n        2023-05-21 20:00:00+00:00  26932.72  26954.420000  26919.61  26932.64   \n\n                                       volume  trade_count          vwap  \nsymbol  timestamp                                                         \nBTC/USD 2023-05-21 11:00:00+00:00  123.066332       5408.0  26893.880677  \n        2023-05-21 12:00:00+00:00   75.294329       3203.0  26887.620607  \n        2023-05-21 13:00:00+00:00   29.891345       1208.0  26937.180366  \n        2023-05-21 14:00:00+00:00   54.215263       2202.0  26964.514882  \n        2023-05-21 15:00:00+00:00   85.681270       2752.0  26914.752825  \n        2023-05-21 16:00:00+00:00   53.514350       1839.0  26908.221386  \n        2023-05-21 17:00:00+00:00   60.256400       2125.0  26897.574990  \n        2023-05-21 18:00:00+00:00   43.945426       1454.0  26889.169609  \n        2023-05-21 19:00:00+00:00   34.869548       1099.0  26913.667848  \n        2023-05-21 20:00:00+00:00   10.317760        593.0  26935.029606  ",
      "text/html": "<div>\n<style scoped>\n    .dataframe tbody tr th:only-of-type {\n        vertical-align: middle;\n    }\n\n    .dataframe tbody tr th {\n        vertical-align: top;\n    }\n\n    .dataframe thead th {\n        text-align: right;\n    }\n</style>\n<table border=\"1\" class=\"dataframe\">\n  <thead>\n    <tr style=\"text-align: right;\">\n      <th></th>\n      <th></th>\n      <th>open</th>\n      <th>high</th>\n      <th>low</th>\n      <th>close</th>\n      <th>volume</th>\n      <th>trade_count</th>\n      <th>vwap</th>\n    </tr>\n    <tr>\n      <th>symbol</th>\n      <th>timestamp</th>\n      <th></th>\n      <th></th>\n      <th></th>\n      <th></th>\n      <th></th>\n      <th></th>\n      <th></th>\n    </tr>\n  </thead>\n  <tbody>\n    <tr>\n      <th rowspan=\"10\" valign=\"top\">BTC/USD</th>\n      <th>2023-05-21 11:00:00+00:00</th>\n      <td>26972.67</td>\n      <td>26972.670000</td>\n      <td>26805.00</td>\n      <td>26852.24</td>\n      <td>123.066332</td>\n      <td>5408.0</td>\n      <td>26893.880677</td>\n    </tr>\n    <tr>\n      <th>2023-05-21 12:00:00+00:00</th>\n      <td>26850.97</td>\n      <td>26971.190000</td>\n      <td>26827.50</td>\n      <td>26955.00</td>\n      <td>75.294329</td>\n      <td>3203.0</td>\n      <td>26887.620607</td>\n    </tr>\n    <tr>\n      <th>2023-05-21 13:00:00+00:00</th>\n      <td>26954.99</td>\n      <td>26974.810886</td>\n      <td>26910.07</td>\n      <td>26910.07</td>\n      <td>29.891345</td>\n      <td>1208.0</td>\n      <td>26937.180366</td>\n    </tr>\n    <tr>\n      <th>2023-05-21 14:00:00+00:00</th>\n      <td>26910.90</td>\n      <td>27005.149580</td>\n      <td>26907.59</td>\n      <td>26927.99</td>\n      <td>54.215263</td>\n      <td>2202.0</td>\n      <td>26964.514882</td>\n    </tr>\n    <tr>\n      <th>2023-05-21 15:00:00+00:00</th>\n      <td>26926.25</td>\n      <td>27006.050000</td>\n      <td>26829.59</td>\n      <td>26919.29</td>\n      <td>85.681270</td>\n      <td>2752.0</td>\n      <td>26914.752825</td>\n    </tr>\n    <tr>\n      <th>2023-05-21 16:00:00+00:00</th>\n      <td>26918.53</td>\n      <td>26944.530000</td>\n      <td>26875.00</td>\n      <td>26907.28</td>\n      <td>53.514350</td>\n      <td>1839.0</td>\n      <td>26908.221386</td>\n    </tr>\n    <tr>\n      <th>2023-05-21 17:00:00+00:00</th>\n      <td>26905.41</td>\n      <td>26956.400000</td>\n      <td>26850.10</td>\n      <td>26893.99</td>\n      <td>60.256400</td>\n      <td>2125.0</td>\n      <td>26897.574990</td>\n    </tr>\n    <tr>\n      <th>2023-05-21 18:00:00+00:00</th>\n      <td>26893.99</td>\n      <td>26919.600000</td>\n      <td>26864.42</td>\n      <td>26893.00</td>\n      <td>43.945426</td>\n      <td>1454.0</td>\n      <td>26889.169609</td>\n    </tr>\n    <tr>\n      <th>2023-05-21 19:00:00+00:00</th>\n      <td>26890.65</td>\n      <td>26943.280000</td>\n      <td>26882.98</td>\n      <td>26933.92</td>\n      <td>34.869548</td>\n      <td>1099.0</td>\n      <td>26913.667848</td>\n    </tr>\n    <tr>\n      <th>2023-05-21 20:00:00+00:00</th>\n      <td>26932.72</td>\n      <td>26954.420000</td>\n      <td>26919.61</td>\n      <td>26932.64</td>\n      <td>10.317760</td>\n      <td>593.0</td>\n      <td>26935.029606</td>\n    </tr>\n  </tbody>\n</table>\n</div>"
     },
     "execution_count": 42,
     "metadata": {},
     "output_type": "execute_result"
    }
   ],
   "source": [
    "from alpaca.data.historical import CryptoHistoricalDataClient\n",
    "from alpaca.data.requests import CryptoBarsRequest\n",
    "from alpaca.data.timeframe import TimeFrame\n",
    "from datetime import datetime\n",
    "\n",
    "# no keys required for crypto data\n",
    "client = CryptoHistoricalDataClient()\n",
    "\n",
    "request_params = CryptoBarsRequest(\n",
    "    symbol_or_symbols=[\"BTC/USD\"],\n",
    "    timeframe=TimeFrame.Hour,\n",
    "    start=datetime(2023, 5, 1)\n",
    ")\n",
    "\n",
    "bars = client.get_crypto_bars(request_params)\n",
    "bars.df.tail(10)"
   ],
   "metadata": {
    "collapsed": false
   }
  },
  {
   "cell_type": "code",
   "execution_count": 43,
   "outputs": [
    {
     "data": {
      "text/plain": "                               Open      High       Low     Close      Volume  \\\nOpen time                                                                       \n2023-05-21 11:00:00+00:00  26963.64  26963.64  26792.54  26843.00  968.372835   \n2023-05-21 12:00:00+00:00  26836.30  26962.00  26812.00  26943.26  440.873330   \n2023-05-21 13:00:00+00:00  26942.41  26956.00  26896.90  26901.21  138.497653   \n2023-05-21 14:00:00+00:00  26901.19  26985.35  26887.30  26910.55  211.438020   \n2023-05-21 15:00:00+00:00  26910.25  26992.16  26815.50  26909.10  409.912773   \n2023-05-21 16:00:00+00:00  26913.51  26939.00  26848.80  26896.23  268.466702   \n2023-05-21 17:00:00+00:00  26890.00  26951.00  26840.60  26880.65  326.104102   \n2023-05-21 18:00:00+00:00  26880.56  26909.00  26847.50  26880.37  181.864546   \n2023-05-21 19:00:00+00:00  26879.70  26934.00  26869.80  26909.63  270.195894   \n2023-05-21 20:00:00+00:00  26909.64  26941.00  26899.20  26908.43  166.905991   \n\n                           Trade count        VWAP  \nOpen time                                           \n2023-05-21 11:00:00+00:00        13203  26888.4742  \n2023-05-21 12:00:00+00:00         9939  26876.1132  \n2023-05-21 13:00:00+00:00         5819  26929.7756  \n2023-05-21 14:00:00+00:00         7677  26939.0207  \n2023-05-21 15:00:00+00:00        10673  26903.1353  \n2023-05-21 16:00:00+00:00         9487  26898.8323  \n2023-05-21 17:00:00+00:00        10335  26892.9005  \n2023-05-21 18:00:00+00:00         8298  26878.7731  \n2023-05-21 19:00:00+00:00         9161  26900.3450  \n2023-05-21 20:00:00+00:00         3357  26912.2593  ",
      "text/html": "<div>\n<style scoped>\n    .dataframe tbody tr th:only-of-type {\n        vertical-align: middle;\n    }\n\n    .dataframe tbody tr th {\n        vertical-align: top;\n    }\n\n    .dataframe thead th {\n        text-align: right;\n    }\n</style>\n<table border=\"1\" class=\"dataframe\">\n  <thead>\n    <tr style=\"text-align: right;\">\n      <th></th>\n      <th>Open</th>\n      <th>High</th>\n      <th>Low</th>\n      <th>Close</th>\n      <th>Volume</th>\n      <th>Trade count</th>\n      <th>VWAP</th>\n    </tr>\n    <tr>\n      <th>Open time</th>\n      <th></th>\n      <th></th>\n      <th></th>\n      <th></th>\n      <th></th>\n      <th></th>\n      <th></th>\n    </tr>\n  </thead>\n  <tbody>\n    <tr>\n      <th>2023-05-21 11:00:00+00:00</th>\n      <td>26963.64</td>\n      <td>26963.64</td>\n      <td>26792.54</td>\n      <td>26843.00</td>\n      <td>968.372835</td>\n      <td>13203</td>\n      <td>26888.4742</td>\n    </tr>\n    <tr>\n      <th>2023-05-21 12:00:00+00:00</th>\n      <td>26836.30</td>\n      <td>26962.00</td>\n      <td>26812.00</td>\n      <td>26943.26</td>\n      <td>440.873330</td>\n      <td>9939</td>\n      <td>26876.1132</td>\n    </tr>\n    <tr>\n      <th>2023-05-21 13:00:00+00:00</th>\n      <td>26942.41</td>\n      <td>26956.00</td>\n      <td>26896.90</td>\n      <td>26901.21</td>\n      <td>138.497653</td>\n      <td>5819</td>\n      <td>26929.7756</td>\n    </tr>\n    <tr>\n      <th>2023-05-21 14:00:00+00:00</th>\n      <td>26901.19</td>\n      <td>26985.35</td>\n      <td>26887.30</td>\n      <td>26910.55</td>\n      <td>211.438020</td>\n      <td>7677</td>\n      <td>26939.0207</td>\n    </tr>\n    <tr>\n      <th>2023-05-21 15:00:00+00:00</th>\n      <td>26910.25</td>\n      <td>26992.16</td>\n      <td>26815.50</td>\n      <td>26909.10</td>\n      <td>409.912773</td>\n      <td>10673</td>\n      <td>26903.1353</td>\n    </tr>\n    <tr>\n      <th>2023-05-21 16:00:00+00:00</th>\n      <td>26913.51</td>\n      <td>26939.00</td>\n      <td>26848.80</td>\n      <td>26896.23</td>\n      <td>268.466702</td>\n      <td>9487</td>\n      <td>26898.8323</td>\n    </tr>\n    <tr>\n      <th>2023-05-21 17:00:00+00:00</th>\n      <td>26890.00</td>\n      <td>26951.00</td>\n      <td>26840.60</td>\n      <td>26880.65</td>\n      <td>326.104102</td>\n      <td>10335</td>\n      <td>26892.9005</td>\n    </tr>\n    <tr>\n      <th>2023-05-21 18:00:00+00:00</th>\n      <td>26880.56</td>\n      <td>26909.00</td>\n      <td>26847.50</td>\n      <td>26880.37</td>\n      <td>181.864546</td>\n      <td>8298</td>\n      <td>26878.7731</td>\n    </tr>\n    <tr>\n      <th>2023-05-21 19:00:00+00:00</th>\n      <td>26879.70</td>\n      <td>26934.00</td>\n      <td>26869.80</td>\n      <td>26909.63</td>\n      <td>270.195894</td>\n      <td>9161</td>\n      <td>26900.3450</td>\n    </tr>\n    <tr>\n      <th>2023-05-21 20:00:00+00:00</th>\n      <td>26909.64</td>\n      <td>26941.00</td>\n      <td>26899.20</td>\n      <td>26908.43</td>\n      <td>166.905991</td>\n      <td>3357</td>\n      <td>26912.2593</td>\n    </tr>\n  </tbody>\n</table>\n</div>"
     },
     "execution_count": 43,
     "metadata": {},
     "output_type": "execute_result"
    }
   ],
   "source": [
    "latest.data['X:BTCUSD'].tail(10)\n"
   ],
   "metadata": {
    "collapsed": false
   }
  },
  {
   "cell_type": "code",
   "execution_count": 4,
   "outputs": [
    {
     "data": {
      "text/plain": "[{   'asset_class': <AssetClass.CRYPTO: 'crypto'>,\n     'asset_id': UUID('64bbff51-59d6-4b3c-9351-13ad85e3c752'),\n     'asset_marginable': False,\n     'avg_entry_price': '26911.625279138',\n     'avg_entry_swap_rate': None,\n     'change_today': '0.0115353320847914',\n     'cost_basis': '9497.716565526',\n     'current_price': '26741.12',\n     'exchange': <AssetExchange.CRYPTO: 'CRYPTO'>,\n     'lastday_price': '26436.17',\n     'market_value': '9437.54142569728',\n     'qty': '0.352922444',\n     'qty_available': '0',\n     'side': <PositionSide.LONG: 'long'>,\n     'swap_rate': None,\n     'symbol': 'BTCUSD',\n     'unrealized_intraday_pl': '107.6236992978',\n     'unrealized_intraday_plpc': '0.0115353320847914',\n     'unrealized_pl': '-60.17513982872',\n     'unrealized_plpc': '-0.0063357481151984',\n     'usd': None}]"
     },
     "execution_count": 4,
     "metadata": {},
     "output_type": "execute_result"
    }
   ],
   "source": [
    "from alpaca.broker import TradeAccount\n",
    "from alpaca.trading.client import TradingClient\n",
    "trading_client = TradingClient(API_KEY, API_SECRET, paper=True)\n",
    "account: TradeAccount = trading_client.get_account()\n",
    "# https://alpaca.markets/docs/python-sdk/trading.html#getting-all-positions\n",
    "trading_client.get_all_positions()"
   ],
   "metadata": {
    "collapsed": false
   }
  },
  {
   "cell_type": "code",
   "execution_count": 57,
   "outputs": [
    {
     "data": {
      "text/plain": "26753.54"
     },
     "execution_count": 57,
     "metadata": {},
     "output_type": "execute_result"
    }
   ],
   "source": [
    "from alpaca.data import CryptoSnapshotRequest, Snapshot\n",
    "from alpaca.trading.requests import MarketOrderRequest, StopLossRequest, TakeProfitRequest\n",
    "from alpaca.trading.enums import OrderSide, TimeInForce, OrderClass, OrderType\n",
    "\n",
    "#https://alpaca.markets/docs/trading/getting_started/how-to-orders/\n",
    "symbol= \"BTC/USD\"\n",
    "#symbol = 'AAPL'\n",
    "#symbol_bars = api.get_barset(symbol, 'minute', 1).df.iloc[0]\n",
    "#symbol_price = symbol_bars[symbol]['close']\n",
    "client = CryptoHistoricalDataClient()\n",
    "\n",
    "snapshot:Snapshot = client.get_crypto_snapshot(CryptoSnapshotRequest(symbol_or_symbols=\"BTC/USD\"))\n"
   ],
   "metadata": {
    "collapsed": false
   }
  },
  {
   "cell_type": "code",
   "execution_count": 111,
   "outputs": [],
   "source": [
    "\n",
    "symbol_price = snapshot[symbol].minute_bar.close\n",
    "\n",
    "stopLossRequest = StopLossRequest(stop_price= symbol_price * .97)\n",
    "takeProfitRequest = TakeProfitRequest(limit_price= symbol_price * 1.3)\n",
    "\n",
    "market_order_data = MarketOrderRequest(\n",
    "    symbol='BTC/USD',\n",
    "    #qty=0.023,\n",
    "    notional=10000,\n",
    "    side=OrderSide.BUY,\n",
    "    time_in_force=TimeInForce.GTC,\n",
    "    #order_class=OrderClass.,\n",
    "    type=OrderType.MARKET,\n",
    "    #stop_loss=stopLossRequest,\n",
    "    #take_profit=takeProfitRequest,\n",
    "    #client_order_id=\"first_algo\"\n",
    ")\n",
    "\n",
    "market_order = trading_client.submit_order(\n",
    "    order_data=market_order_data\n",
    ")"
   ],
   "metadata": {
    "collapsed": false
   }
  },
  {
   "cell_type": "code",
   "execution_count": 112,
   "outputs": [
    {
     "data": {
      "text/plain": "{   'asset_class': <AssetClass.CRYPTO: 'crypto'>,\n    'asset_id': UUID('276e2673-764b-4ab6-a611-caf665ca6340'),\n    'canceled_at': None,\n    'client_order_id': '347ab07a-afd8-4582-9c90-30910e4dc3dc',\n    'created_at': datetime.datetime(2023, 5, 22, 21, 56, 38, 110133, tzinfo=datetime.timezone.utc),\n    'expired_at': None,\n    'extended_hours': False,\n    'failed_at': None,\n    'filled_at': None,\n    'filled_avg_price': None,\n    'filled_qty': '0',\n    'hwm': None,\n    'id': UUID('bffe1443-a7ca-463e-b44f-0c4a1d3890cf'),\n    'legs': None,\n    'limit_price': None,\n    'notional': '10000',\n    'order_class': <OrderClass.SIMPLE: 'simple'>,\n    'order_type': <OrderType.MARKET: 'market'>,\n    'qty': None,\n    'replaced_at': None,\n    'replaced_by': None,\n    'replaces': None,\n    'side': <OrderSide.BUY: 'buy'>,\n    'status': <OrderStatus.PENDING_NEW: 'pending_new'>,\n    'stop_price': None,\n    'submitted_at': datetime.datetime(2023, 5, 22, 21, 56, 38, 109581, tzinfo=datetime.timezone.utc),\n    'symbol': 'BTC/USD',\n    'time_in_force': <TimeInForce.GTC: 'gtc'>,\n    'trail_percent': None,\n    'trail_price': None,\n    'type': <OrderType.MARKET: 'market'>,\n    'updated_at': datetime.datetime(2023, 5, 22, 21, 56, 38, 110183, tzinfo=datetime.timezone.utc)}"
     },
     "execution_count": 112,
     "metadata": {},
     "output_type": "execute_result"
    }
   ],
   "source": [
    "market_order"
   ],
   "metadata": {
    "collapsed": false
   }
  },
  {
   "cell_type": "code",
   "execution_count": 113,
   "outputs": [
    {
     "data": {
      "text/plain": "{   'asset_class': <AssetClass.CRYPTO: 'crypto'>,\n    'asset_id': UUID('276e2673-764b-4ab6-a611-caf665ca6340'),\n    'canceled_at': None,\n    'client_order_id': '347ab07a-afd8-4582-9c90-30910e4dc3dc',\n    'created_at': datetime.datetime(2023, 5, 22, 21, 56, 38, 110133, tzinfo=datetime.timezone.utc),\n    'expired_at': None,\n    'extended_hours': False,\n    'failed_at': None,\n    'filled_at': datetime.datetime(2023, 5, 22, 21, 56, 38, 111351, tzinfo=datetime.timezone.utc),\n    'filled_avg_price': '26911.625279162',\n    'filled_qty': '0.353806962',\n    'hwm': None,\n    'id': UUID('bffe1443-a7ca-463e-b44f-0c4a1d3890cf'),\n    'legs': None,\n    'limit_price': None,\n    'notional': '10000',\n    'order_class': <OrderClass.SIMPLE: 'simple'>,\n    'order_type': <OrderType.MARKET: 'market'>,\n    'qty': None,\n    'replaced_at': None,\n    'replaced_by': None,\n    'replaces': None,\n    'side': <OrderSide.BUY: 'buy'>,\n    'status': <OrderStatus.FILLED: 'filled'>,\n    'stop_price': None,\n    'submitted_at': datetime.datetime(2023, 5, 22, 21, 56, 38, 109581, tzinfo=datetime.timezone.utc),\n    'symbol': 'BTC/USD',\n    'time_in_force': <TimeInForce.GTC: 'gtc'>,\n    'trail_percent': None,\n    'trail_price': None,\n    'type': <OrderType.MARKET: 'market'>,\n    'updated_at': datetime.datetime(2023, 5, 22, 21, 56, 38, 132723, tzinfo=datetime.timezone.utc)}"
     },
     "execution_count": 113,
     "metadata": {},
     "output_type": "execute_result"
    }
   ],
   "source": [
    "filled = trading_client.get_order_by_id(market_order.id)\n",
    "filled"
   ],
   "metadata": {
    "collapsed": false
   }
  },
  {
   "cell_type": "code",
   "execution_count": 114,
   "outputs": [
    {
     "data": {
      "text/plain": "'0.353806962'"
     },
     "execution_count": 114,
     "metadata": {},
     "output_type": "execute_result"
    }
   ],
   "source": [
    "filled.filled_qty\n"
   ],
   "metadata": {
    "collapsed": false
   }
  },
  {
   "cell_type": "code",
   "execution_count": 95,
   "outputs": [
    {
     "ename": "APIError",
     "evalue": "{\"code\":40010001,\"message\":\"invalid order type for crypto order\"}",
     "output_type": "error",
     "traceback": [
      "\u001B[0;31m---------------------------------------------------------------------------\u001B[0m",
      "\u001B[0;31mHTTPError\u001B[0m                                 Traceback (most recent call last)",
      "File \u001B[0;32m~/opt/anaconda3/lib/python3.9/site-packages/alpaca/common/rest.py:196\u001B[0m, in \u001B[0;36mRESTClient._one_request\u001B[0;34m(self, method, url, opts, retry)\u001B[0m\n\u001B[1;32m    195\u001B[0m \u001B[38;5;28;01mtry\u001B[39;00m:\n\u001B[0;32m--> 196\u001B[0m     \u001B[43mresponse\u001B[49m\u001B[38;5;241;43m.\u001B[39;49m\u001B[43mraise_for_status\u001B[49m\u001B[43m(\u001B[49m\u001B[43m)\u001B[49m\n\u001B[1;32m    197\u001B[0m \u001B[38;5;28;01mexcept\u001B[39;00m HTTPError \u001B[38;5;28;01mas\u001B[39;00m http_error:\n\u001B[1;32m    198\u001B[0m     \u001B[38;5;66;03m# retry if we hit Rate Limit\u001B[39;00m\n",
      "File \u001B[0;32m~/opt/anaconda3/lib/python3.9/site-packages/requests/models.py:1021\u001B[0m, in \u001B[0;36mResponse.raise_for_status\u001B[0;34m(self)\u001B[0m\n\u001B[1;32m   1020\u001B[0m \u001B[38;5;28;01mif\u001B[39;00m http_error_msg:\n\u001B[0;32m-> 1021\u001B[0m     \u001B[38;5;28;01mraise\u001B[39;00m HTTPError(http_error_msg, response\u001B[38;5;241m=\u001B[39m\u001B[38;5;28mself\u001B[39m)\n",
      "\u001B[0;31mHTTPError\u001B[0m: 422 Client Error: Unprocessable Entity for url: https://paper-api.alpaca.markets/v2/orders",
      "\nDuring handling of the above exception, another exception occurred:\n",
      "\u001B[0;31mAPIError\u001B[0m                                  Traceback (most recent call last)",
      "Cell \u001B[0;32mIn[95], line 9\u001B[0m\n\u001B[1;32m      3\u001B[0m \u001B[38;5;66;03m#https://alpaca.markets/docs/python-sdk/api_reference/trading/requests.html#stoporderrequest\u001B[39;00m\n\u001B[1;32m      4\u001B[0m stopOrderRequest: StopOrderRequest  \u001B[38;5;241m=\u001B[39mStopOrderRequest(symbol\u001B[38;5;241m=\u001B[39msymbol, qty\u001B[38;5;241m=\u001B[39mfilled\u001B[38;5;241m.\u001B[39mfilled_qty,\n\u001B[1;32m      5\u001B[0m                                                       side\u001B[38;5;241m=\u001B[39mOrderSide\u001B[38;5;241m.\u001B[39mSELL,\n\u001B[1;32m      6\u001B[0m                                                       \u001B[38;5;28mtype\u001B[39m\u001B[38;5;241m=\u001B[39mOrderType\u001B[38;5;241m.\u001B[39mSTOP,\n\u001B[1;32m      7\u001B[0m                                                       time_in_force\u001B[38;5;241m=\u001B[39mTimeInForce\u001B[38;5;241m.\u001B[39mGTC,\n\u001B[1;32m      8\u001B[0m                                                       stop_price\u001B[38;5;241m=\u001B[39m symbol_price \u001B[38;5;241m*\u001B[39m \u001B[38;5;241m.97\u001B[39m)\n\u001B[0;32m----> 9\u001B[0m stopOrder \u001B[38;5;241m=\u001B[39m \u001B[43mtrading_client\u001B[49m\u001B[38;5;241;43m.\u001B[39;49m\u001B[43msubmit_order\u001B[49m\u001B[43m(\u001B[49m\n\u001B[1;32m     10\u001B[0m \u001B[43m    \u001B[49m\u001B[43morder_data\u001B[49m\u001B[38;5;241;43m=\u001B[39;49m\u001B[43mstopOrderRequest\u001B[49m\n\u001B[1;32m     11\u001B[0m \u001B[43m)\u001B[49m\n",
      "File \u001B[0;32m~/opt/anaconda3/lib/python3.9/site-packages/alpaca/trading/client.py:91\u001B[0m, in \u001B[0;36mTradingClient.submit_order\u001B[0;34m(self, order_data)\u001B[0m\n\u001B[1;32m     82\u001B[0m \u001B[38;5;124;03m\"\"\"Creates an order to buy or sell an asset.\u001B[39;00m\n\u001B[1;32m     83\u001B[0m \n\u001B[1;32m     84\u001B[0m \u001B[38;5;124;03mArgs:\u001B[39;00m\n\u001B[0;32m   (...)\u001B[0m\n\u001B[1;32m     88\u001B[0m \u001B[38;5;124;03m    alpaca.trading.models.Order: The resulting submitted order.\u001B[39;00m\n\u001B[1;32m     89\u001B[0m \u001B[38;5;124;03m\"\"\"\u001B[39;00m\n\u001B[1;32m     90\u001B[0m data \u001B[38;5;241m=\u001B[39m order_data\u001B[38;5;241m.\u001B[39mto_request_fields()\n\u001B[0;32m---> 91\u001B[0m response \u001B[38;5;241m=\u001B[39m \u001B[38;5;28;43mself\u001B[39;49m\u001B[38;5;241;43m.\u001B[39;49m\u001B[43mpost\u001B[49m\u001B[43m(\u001B[49m\u001B[38;5;124;43m\"\u001B[39;49m\u001B[38;5;124;43m/orders\u001B[39;49m\u001B[38;5;124;43m\"\u001B[39;49m\u001B[43m,\u001B[49m\u001B[43m \u001B[49m\u001B[43mdata\u001B[49m\u001B[43m)\u001B[49m\n\u001B[1;32m     93\u001B[0m \u001B[38;5;28;01mif\u001B[39;00m \u001B[38;5;28mself\u001B[39m\u001B[38;5;241m.\u001B[39m_use_raw_data:\n\u001B[1;32m     94\u001B[0m     \u001B[38;5;28;01mreturn\u001B[39;00m response\n",
      "File \u001B[0;32m~/opt/anaconda3/lib/python3.9/site-packages/alpaca/common/rest.py:234\u001B[0m, in \u001B[0;36mRESTClient.post\u001B[0;34m(self, path, data)\u001B[0m\n\u001B[1;32m    223\u001B[0m \u001B[38;5;28;01mdef\u001B[39;00m \u001B[38;5;21mpost\u001B[39m(\u001B[38;5;28mself\u001B[39m, path: \u001B[38;5;28mstr\u001B[39m, data: Union[\u001B[38;5;28mdict\u001B[39m, List[\u001B[38;5;28mdict\u001B[39m], \u001B[38;5;28mstr\u001B[39m] \u001B[38;5;241m=\u001B[39m \u001B[38;5;28;01mNone\u001B[39;00m) \u001B[38;5;241m-\u001B[39m\u001B[38;5;241m>\u001B[39m HTTPResult:\n\u001B[1;32m    224\u001B[0m     \u001B[38;5;124;03m\"\"\"Performs a single POST request\u001B[39;00m\n\u001B[1;32m    225\u001B[0m \n\u001B[1;32m    226\u001B[0m \u001B[38;5;124;03m    Args:\u001B[39;00m\n\u001B[0;32m   (...)\u001B[0m\n\u001B[1;32m    232\u001B[0m \u001B[38;5;124;03m        dict: The response\u001B[39;00m\n\u001B[1;32m    233\u001B[0m \u001B[38;5;124;03m    \"\"\"\u001B[39;00m\n\u001B[0;32m--> 234\u001B[0m     \u001B[38;5;28;01mreturn\u001B[39;00m \u001B[38;5;28;43mself\u001B[39;49m\u001B[38;5;241;43m.\u001B[39;49m\u001B[43m_request\u001B[49m\u001B[43m(\u001B[49m\u001B[38;5;124;43m\"\u001B[39;49m\u001B[38;5;124;43mPOST\u001B[39;49m\u001B[38;5;124;43m\"\u001B[39;49m\u001B[43m,\u001B[49m\u001B[43m \u001B[49m\u001B[43mpath\u001B[49m\u001B[43m,\u001B[49m\u001B[43m \u001B[49m\u001B[43mdata\u001B[49m\u001B[43m)\u001B[49m\n",
      "File \u001B[0;32m~/opt/anaconda3/lib/python3.9/site-packages/alpaca/common/rest.py:129\u001B[0m, in \u001B[0;36mRESTClient._request\u001B[0;34m(self, method, path, data, base_url, api_version)\u001B[0m\n\u001B[1;32m    127\u001B[0m \u001B[38;5;28;01mwhile\u001B[39;00m retry \u001B[38;5;241m>\u001B[39m\u001B[38;5;241m=\u001B[39m \u001B[38;5;241m0\u001B[39m:\n\u001B[1;32m    128\u001B[0m     \u001B[38;5;28;01mtry\u001B[39;00m:\n\u001B[0;32m--> 129\u001B[0m         \u001B[38;5;28;01mreturn\u001B[39;00m \u001B[38;5;28;43mself\u001B[39;49m\u001B[38;5;241;43m.\u001B[39;49m\u001B[43m_one_request\u001B[49m\u001B[43m(\u001B[49m\u001B[43mmethod\u001B[49m\u001B[43m,\u001B[49m\u001B[43m \u001B[49m\u001B[43murl\u001B[49m\u001B[43m,\u001B[49m\u001B[43m \u001B[49m\u001B[43mopts\u001B[49m\u001B[43m,\u001B[49m\u001B[43m \u001B[49m\u001B[43mretry\u001B[49m\u001B[43m)\u001B[49m\n\u001B[1;32m    130\u001B[0m     \u001B[38;5;28;01mexcept\u001B[39;00m RetryException:\n\u001B[1;32m    131\u001B[0m         time\u001B[38;5;241m.\u001B[39msleep(\u001B[38;5;28mself\u001B[39m\u001B[38;5;241m.\u001B[39m_retry_wait)\n",
      "File \u001B[0;32m~/opt/anaconda3/lib/python3.9/site-packages/alpaca/common/rest.py:205\u001B[0m, in \u001B[0;36mRESTClient._one_request\u001B[0;34m(self, method, url, opts, retry)\u001B[0m\n\u001B[1;32m    202\u001B[0m     \u001B[38;5;66;03m# raise API error for all other errors\u001B[39;00m\n\u001B[1;32m    203\u001B[0m     error \u001B[38;5;241m=\u001B[39m response\u001B[38;5;241m.\u001B[39mtext\n\u001B[0;32m--> 205\u001B[0m     \u001B[38;5;28;01mraise\u001B[39;00m APIError(error, http_error)\n\u001B[1;32m    207\u001B[0m \u001B[38;5;28;01mif\u001B[39;00m response\u001B[38;5;241m.\u001B[39mtext \u001B[38;5;241m!=\u001B[39m \u001B[38;5;124m\"\u001B[39m\u001B[38;5;124m\"\u001B[39m:\n\u001B[1;32m    208\u001B[0m     \u001B[38;5;28;01mreturn\u001B[39;00m response\u001B[38;5;241m.\u001B[39mjson()\n",
      "\u001B[0;31mAPIError\u001B[0m: {\"code\":40010001,\"message\":\"invalid order type for crypto order\"}"
     ]
    }
   ],
   "source": [
    "'''from alpaca.trading import StopOrderRequest\n",
    "\n",
    "#https://alpaca.markets/docs/python-sdk/api_reference/trading/requests.html#stoporderrequest\n",
    "stopOrderRequest: StopOrderRequest  =StopOrderRequest(symbol=symbol, qty=filled.filled_qty,\n",
    "                                                      side=OrderSide.SELL,\n",
    "                                                      type=OrderType.STOP,\n",
    "                                                      time_in_force=TimeInForce.GTC,\n",
    "                                                      stop_price= symbol_price * .97)\n",
    "stopOrder = trading_client.submit_order(\n",
    "    order_data=stopOrderRequest\n",
    ")'''"
   ],
   "metadata": {
    "collapsed": false
   }
  },
  {
   "cell_type": "code",
   "execution_count": 129,
   "outputs": [],
   "source": [
    "from alpaca.trading import StopLimitOrderRequest\n",
    "qty = trading_client.get_open_position(\"BTCUSD\").qty\n",
    "stopOrderRequest: StopLimitOrderRequest  =StopLimitOrderRequest(symbol=symbol, qty=qty,\n",
    "                                                      side=OrderSide.SELL,\n",
    "                                                      type=OrderType.STOP,\n",
    "                                                      time_in_force=TimeInForce.GTC,\n",
    "                                                      stop_price= symbol_price * .97,\n",
    "                                                        limit_price = symbol_price *1.05)\n",
    "stopOrder = trading_client.submit_order(\n",
    "    order_data=stopOrderRequest\n",
    ")"
   ],
   "metadata": {
    "collapsed": false
   }
  },
  {
   "cell_type": "code",
   "execution_count": 130,
   "outputs": [
    {
     "data": {
      "text/plain": "{   'asset_class': <AssetClass.CRYPTO: 'crypto'>,\n    'asset_id': UUID('276e2673-764b-4ab6-a611-caf665ca6340'),\n    'canceled_at': None,\n    'client_order_id': '4f6241f2-7fc5-4251-81a6-def26672d0e9',\n    'created_at': datetime.datetime(2023, 5, 22, 22, 2, 12, 717750, tzinfo=datetime.timezone.utc),\n    'expired_at': None,\n    'extended_hours': False,\n    'failed_at': None,\n    'filled_at': None,\n    'filled_avg_price': None,\n    'filled_qty': '0',\n    'hwm': None,\n    'id': UUID('4c837941-0da3-4a7b-97ca-1dece2974724'),\n    'legs': None,\n    'limit_price': '28091.217',\n    'notional': None,\n    'order_class': <OrderClass.SIMPLE: 'simple'>,\n    'order_type': <OrderType.STOP_LIMIT: 'stop_limit'>,\n    'qty': '0.352922444',\n    'replaced_at': None,\n    'replaced_by': None,\n    'replaces': None,\n    'side': <OrderSide.SELL: 'sell'>,\n    'status': <OrderStatus.NEW: 'new'>,\n    'stop_price': '25950.9338',\n    'submitted_at': datetime.datetime(2023, 5, 22, 22, 2, 12, 716674, tzinfo=datetime.timezone.utc),\n    'symbol': 'BTC/USD',\n    'time_in_force': <TimeInForce.GTC: 'gtc'>,\n    'trail_percent': None,\n    'trail_price': None,\n    'type': <OrderType.STOP_LIMIT: 'stop_limit'>,\n    'updated_at': datetime.datetime(2023, 5, 22, 22, 2, 12, 717750, tzinfo=datetime.timezone.utc)}"
     },
     "execution_count": 130,
     "metadata": {},
     "output_type": "execute_result"
    }
   ],
   "source": [
    "stopOrder"
   ],
   "metadata": {
    "collapsed": false
   }
  },
  {
   "cell_type": "code",
   "execution_count": 131,
   "outputs": [
    {
     "data": {
      "text/plain": "26753.54"
     },
     "execution_count": 131,
     "metadata": {},
     "output_type": "execute_result"
    }
   ],
   "source": [
    "symbol_price = snapshot[symbol].minute_bar.close\n",
    "symbol_price"
   ],
   "metadata": {
    "collapsed": false
   }
  },
  {
   "cell_type": "code",
   "execution_count": 122,
   "outputs": [
    {
     "name": "stdout",
     "output_type": "stream",
     "text": [
      " symbol: BTCUSD long 0.352922444\n"
     ]
    }
   ],
   "source": [
    "from alpaca.trading import Position\n",
    "from typing import List\n",
    "\n",
    "positions: List[Position] = trading_client.get_all_positions()\n",
    "for position in positions:\n",
    "    print(\" symbol: \" + position.symbol +  \" \" + position.side + \" \" + position.qty)\n"
   ],
   "metadata": {
    "collapsed": false
   }
  },
  {
   "cell_type": "code",
   "execution_count": 123,
   "outputs": [],
   "source": [
    "#trading_client.close_all_positions(cancel_orders=True)\n"
   ],
   "metadata": {
    "collapsed": false
   }
  },
  {
   "cell_type": "code",
   "execution_count": 124,
   "outputs": [
    {
     "data": {
      "text/plain": "26753.54"
     },
     "execution_count": 124,
     "metadata": {},
     "output_type": "execute_result"
    }
   ],
   "source": [
    "symbol_price = snapshot[symbol].minute_bar.close\n",
    "symbol_price"
   ],
   "metadata": {
    "collapsed": false
   }
  },
  {
   "cell_type": "code",
   "execution_count": null,
   "outputs": [],
   "source": [
    "\n",
    "''''\n",
    "limit_order_data = LimitOrderRequest(\n",
    "    symbol=\"BTC/USD\",\n",
    "    limit_price=symbol_price,\n",
    "    notional=4000,\n",
    "    side=OrderSide.SELL,\n",
    "    time_in_force=TimeInForce.FOK\n",
    ")\n",
    "\n",
    "# Limit order\n",
    "limit_order = trading_client.submit_order(\n",
    "    order_data=limit_order_data\n",
    ")'''\n"
   ],
   "metadata": {
    "collapsed": false
   }
  },
  {
   "cell_type": "code",
   "execution_count": 128,
   "outputs": [
    {
     "data": {
      "text/plain": "'0.352922444'"
     },
     "execution_count": 128,
     "metadata": {},
     "output_type": "execute_result"
    }
   ],
   "source": [
    "qty = trading_client.get_open_position(\"BTCUSD\").qty\n"
   ],
   "metadata": {
    "collapsed": false
   }
  },
  {
   "cell_type": "code",
   "execution_count": 6,
   "outputs": [],
   "source": [
    "from alpaca.trading import AssetExchange, PositionSide, Position\n",
    "\n",
    "currentPosition: Position = trading_client.get_open_position('BTCUSD')#.qty\n",
    "unrealizedPnlPercent: str = currentPosition.unrealized_plpc\n",
    "exchange: AssetExchange = currentPosition.exchange\n",
    "positionSymbol: str = currentPosition.symbol\n",
    "side: PositionSide = currentPosition.side\n",
    "quantity: str = currentPosition.qty\n"
   ],
   "metadata": {
    "collapsed": false
   }
  },
  {
   "cell_type": "code",
   "execution_count": 11,
   "outputs": [
    {
     "data": {
      "text/plain": "<PositionSide.LONG: 'long'>"
     },
     "execution_count": 11,
     "metadata": {},
     "output_type": "execute_result"
    }
   ],
   "source": [
    "side"
   ],
   "metadata": {
    "collapsed": false
   }
  },
  {
   "cell_type": "code",
   "execution_count": null,
   "outputs": [],
   "source": [],
   "metadata": {
    "collapsed": false
   }
  }
 ],
 "metadata": {
  "kernelspec": {
   "display_name": "Python 3",
   "language": "python",
   "name": "python3"
  },
  "language_info": {
   "codemirror_mode": {
    "name": "ipython",
    "version": 2
   },
   "file_extension": ".py",
   "mimetype": "text/x-python",
   "name": "python",
   "nbconvert_exporter": "python",
   "pygments_lexer": "ipython2",
   "version": "2.7.6"
  }
 },
 "nbformat": 4,
 "nbformat_minor": 0
}
