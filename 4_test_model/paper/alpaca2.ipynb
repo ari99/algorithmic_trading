{
 "cells": [
  {
   "cell_type": "code",
   "execution_count": 3,
   "metadata": {
    "collapsed": true
   },
   "outputs": [],
   "source": [
    "from configs.configSecrets import ConfigSecrets\n",
    "\n",
    "# https://github.com/alpacahq/alpaca-py#data-api-example\n",
    "# https://alpaca.markets/docs/python-sdk/index.html\n",
    "# seperate, maybe try https://python-poetry.org/\n",
    "\n",
    "API_KEY= ConfigSecrets.ALPACA_API_KEY #os.environ['API_KEY']\n",
    "API_SECRET = ConfigSecrets.ALPACA_API_SECRET  #os.environ['API_SECRET']\n",
    "BASE_URL = \"https://paper-api.alpaca.markets\"\n",
    "\n"
   ]
  },
  {
   "cell_type": "code",
   "execution_count": 5,
   "outputs": [],
   "source": [
    "from alpaca.data import CryptoHistoricalDataClient, StockHistoricalDataClient\n",
    "\n",
    "# no keys required.\n",
    "crypto_client = CryptoHistoricalDataClient()\n",
    "\n",
    "# keys required\n",
    "#stock_client = StockHistoricalDataClient(\"api-key\",  \"secret-key\")\n"
   ],
   "metadata": {
    "collapsed": false
   }
  },
  {
   "cell_type": "code",
   "execution_count": 6,
   "outputs": [
    {
     "data": {
      "text/plain": "1819.0"
     },
     "execution_count": 6,
     "metadata": {},
     "output_type": "execute_result"
    }
   ],
   "source": [
    "from alpaca.data import CryptoLatestQuoteRequest\n",
    "\n",
    "request_params = CryptoLatestQuoteRequest(symbol_or_symbols=\"ETH/USD\")\n",
    "\n",
    "latest_quote = crypto_client.get_crypto_latest_quote(request_params)\n",
    "\n",
    "# must use symbol to access even though it is single symbol\n",
    "latest_quote[\"ETH/USD\"].ask_price"
   ],
   "metadata": {
    "collapsed": false
   }
  },
  {
   "cell_type": "code",
   "execution_count": null,
   "outputs": [],
   "source": [
    "from alpaca.data.historical import CryptoHistoricalDataClient\n",
    "from alpaca.data.requests import CryptoBarsRequest\n",
    "from alpaca.data.timeframe import TimeFrame\n",
    "from datetime import datetime\n",
    "\n",
    "# no keys required for crypto data\n",
    "client = CryptoHistoricalDataClient()\n",
    "\n",
    "request_params = CryptoBarsRequest(\n",
    "    symbol_or_symbols=[\"BTC/USD\", \"ETH/USD\"],\n",
    "    timeframe= TimeFrame.Hour, #TimeFrame.Day,\n",
    "    start=datetime(2023, 4, 1),\n",
    "    #end=datetime(2022, 9, 1)\n",
    ")\n",
    "\n",
    "bars = client.get_crypto_bars(request_params)\n",
    "\n",
    "# convert to dataframe\n",
    "bars.df\n",
    "\n",
    "# access bars as list - important to note that you must access by symbol key\n",
    "# even for a single symbol request - models are agnostic to number of symbols\n",
    "bars[\"BTC/USD\"]"
   ],
   "metadata": {
    "collapsed": false
   }
  },
  {
   "cell_type": "code",
   "execution_count": 14,
   "outputs": [
    {
     "data": {
      "text/plain": "                                       open          high         low  \\\nsymbol  timestamp                                                       \nBTC/USD 2023-04-01 00:00:00+00:00  28477.43  28559.260000  28420.1600   \n        2023-04-01 01:00:00+00:00  28453.98  28634.530000  28416.4100   \n        2023-04-01 02:00:00+00:00  28616.70  28824.800000  28475.7200   \n        2023-04-01 03:00:00+00:00  28602.35  28624.010000  28514.2100   \n        2023-04-01 04:00:00+00:00  28553.58  28639.690000  28536.2100   \n...                                     ...           ...         ...   \nETH/USD 2023-05-15 20:00:00+00:00   1828.13   1829.450000   1823.2153   \n        2023-05-15 21:00:00+00:00   1825.53   1826.529456   1823.7700   \n        2023-05-15 22:00:00+00:00   1824.69   1826.040000   1819.4800   \n        2023-05-15 23:00:00+00:00   1823.32   1823.360000   1813.6600   \n        2023-05-16 00:00:00+00:00   1816.77   1824.380000   1814.1300   \n\n                                      close      volume  trade_count  \\\nsymbol  timestamp                                                      \nBTC/USD 2023-04-01 00:00:00+00:00  28453.98  239.051503       5115.0   \n        2023-04-01 01:00:00+00:00  28612.78  216.488178       6250.0   \n        2023-04-01 02:00:00+00:00  28599.07  601.756776      12885.0   \n        2023-04-01 03:00:00+00:00  28555.50  185.141147       4228.0   \n        2023-04-01 04:00:00+00:00  28588.44  175.609390       5935.0   \n...                                     ...         ...          ...   \nETH/USD 2023-05-15 20:00:00+00:00   1825.21  489.397420        801.0   \n        2023-05-15 21:00:00+00:00   1824.83  291.883676        657.0   \n        2023-05-15 22:00:00+00:00   1823.26  612.113048       1107.0   \n        2023-05-15 23:00:00+00:00   1817.40  527.454316        846.0   \n        2023-05-16 00:00:00+00:00   1818.50  470.141500        827.0   \n\n                                           vwap  \nsymbol  timestamp                                \nBTC/USD 2023-04-01 00:00:00+00:00  28483.589877  \n        2023-04-01 01:00:00+00:00  28517.290765  \n        2023-04-01 02:00:00+00:00  28649.460470  \n        2023-04-01 03:00:00+00:00  28561.795952  \n        2023-04-01 04:00:00+00:00  28590.766516  \n...                                         ...  \nETH/USD 2023-05-15 20:00:00+00:00   1826.013824  \n        2023-05-15 21:00:00+00:00   1825.220776  \n        2023-05-15 22:00:00+00:00   1823.304605  \n        2023-05-15 23:00:00+00:00   1819.540212  \n        2023-05-16 00:00:00+00:00   1818.738009  \n\n[2162 rows x 7 columns]",
      "text/html": "<div>\n<style scoped>\n    .dataframe tbody tr th:only-of-type {\n        vertical-align: middle;\n    }\n\n    .dataframe tbody tr th {\n        vertical-align: top;\n    }\n\n    .dataframe thead th {\n        text-align: right;\n    }\n</style>\n<table border=\"1\" class=\"dataframe\">\n  <thead>\n    <tr style=\"text-align: right;\">\n      <th></th>\n      <th></th>\n      <th>open</th>\n      <th>high</th>\n      <th>low</th>\n      <th>close</th>\n      <th>volume</th>\n      <th>trade_count</th>\n      <th>vwap</th>\n    </tr>\n    <tr>\n      <th>symbol</th>\n      <th>timestamp</th>\n      <th></th>\n      <th></th>\n      <th></th>\n      <th></th>\n      <th></th>\n      <th></th>\n      <th></th>\n    </tr>\n  </thead>\n  <tbody>\n    <tr>\n      <th rowspan=\"5\" valign=\"top\">BTC/USD</th>\n      <th>2023-04-01 00:00:00+00:00</th>\n      <td>28477.43</td>\n      <td>28559.260000</td>\n      <td>28420.1600</td>\n      <td>28453.98</td>\n      <td>239.051503</td>\n      <td>5115.0</td>\n      <td>28483.589877</td>\n    </tr>\n    <tr>\n      <th>2023-04-01 01:00:00+00:00</th>\n      <td>28453.98</td>\n      <td>28634.530000</td>\n      <td>28416.4100</td>\n      <td>28612.78</td>\n      <td>216.488178</td>\n      <td>6250.0</td>\n      <td>28517.290765</td>\n    </tr>\n    <tr>\n      <th>2023-04-01 02:00:00+00:00</th>\n      <td>28616.70</td>\n      <td>28824.800000</td>\n      <td>28475.7200</td>\n      <td>28599.07</td>\n      <td>601.756776</td>\n      <td>12885.0</td>\n      <td>28649.460470</td>\n    </tr>\n    <tr>\n      <th>2023-04-01 03:00:00+00:00</th>\n      <td>28602.35</td>\n      <td>28624.010000</td>\n      <td>28514.2100</td>\n      <td>28555.50</td>\n      <td>185.141147</td>\n      <td>4228.0</td>\n      <td>28561.795952</td>\n    </tr>\n    <tr>\n      <th>2023-04-01 04:00:00+00:00</th>\n      <td>28553.58</td>\n      <td>28639.690000</td>\n      <td>28536.2100</td>\n      <td>28588.44</td>\n      <td>175.609390</td>\n      <td>5935.0</td>\n      <td>28590.766516</td>\n    </tr>\n    <tr>\n      <th>...</th>\n      <th>...</th>\n      <td>...</td>\n      <td>...</td>\n      <td>...</td>\n      <td>...</td>\n      <td>...</td>\n      <td>...</td>\n      <td>...</td>\n    </tr>\n    <tr>\n      <th rowspan=\"5\" valign=\"top\">ETH/USD</th>\n      <th>2023-05-15 20:00:00+00:00</th>\n      <td>1828.13</td>\n      <td>1829.450000</td>\n      <td>1823.2153</td>\n      <td>1825.21</td>\n      <td>489.397420</td>\n      <td>801.0</td>\n      <td>1826.013824</td>\n    </tr>\n    <tr>\n      <th>2023-05-15 21:00:00+00:00</th>\n      <td>1825.53</td>\n      <td>1826.529456</td>\n      <td>1823.7700</td>\n      <td>1824.83</td>\n      <td>291.883676</td>\n      <td>657.0</td>\n      <td>1825.220776</td>\n    </tr>\n    <tr>\n      <th>2023-05-15 22:00:00+00:00</th>\n      <td>1824.69</td>\n      <td>1826.040000</td>\n      <td>1819.4800</td>\n      <td>1823.26</td>\n      <td>612.113048</td>\n      <td>1107.0</td>\n      <td>1823.304605</td>\n    </tr>\n    <tr>\n      <th>2023-05-15 23:00:00+00:00</th>\n      <td>1823.32</td>\n      <td>1823.360000</td>\n      <td>1813.6600</td>\n      <td>1817.40</td>\n      <td>527.454316</td>\n      <td>846.0</td>\n      <td>1819.540212</td>\n    </tr>\n    <tr>\n      <th>2023-05-16 00:00:00+00:00</th>\n      <td>1816.77</td>\n      <td>1824.380000</td>\n      <td>1814.1300</td>\n      <td>1818.50</td>\n      <td>470.141500</td>\n      <td>827.0</td>\n      <td>1818.738009</td>\n    </tr>\n  </tbody>\n</table>\n<p>2162 rows × 7 columns</p>\n</div>"
     },
     "execution_count": 14,
     "metadata": {},
     "output_type": "execute_result"
    }
   ],
   "source": [
    "bars.df"
   ],
   "metadata": {
    "collapsed": false
   }
  },
  {
   "cell_type": "code",
   "execution_count": null,
   "outputs": [],
   "source": [
    "from alpaca.trading import GetAssetsRequest, AssetClass\n",
    "from alpaca.trading.client import TradingClient\n",
    "\n",
    "# paper=True enables paper trading\n",
    "trading_client = TradingClient(API_KEY, API_SECRET, paper=True)\n",
    "account = trading_client.get_account()\n",
    "# search for crypto assets\n",
    "search_params = GetAssetsRequest(asset_class=AssetClass.CRYPTO)\n",
    "\n",
    "assets = trading_client.get_all_assets(search_params)\n",
    "assets"
   ],
   "metadata": {
    "collapsed": false
   }
  },
  {
   "cell_type": "code",
   "execution_count": 16,
   "outputs": [
    {
     "data": {
      "text/plain": "[]"
     },
     "execution_count": 16,
     "metadata": {},
     "output_type": "execute_result"
    }
   ],
   "source": [
    "trading_client.get_all_positions()\n"
   ],
   "metadata": {
    "collapsed": false
   }
  },
  {
   "cell_type": "code",
   "execution_count": 18,
   "outputs": [
    {
     "data": {
      "text/plain": "'100000'"
     },
     "execution_count": 18,
     "metadata": {},
     "output_type": "execute_result"
    }
   ],
   "source": [
    "account.cash\n"
   ],
   "metadata": {
    "collapsed": false
   }
  },
  {
   "cell_type": "code",
   "execution_count": null,
   "outputs": [],
   "source": [],
   "metadata": {
    "collapsed": false
   }
  }
 ],
 "metadata": {
  "kernelspec": {
   "display_name": "Python 3",
   "language": "python",
   "name": "python3"
  },
  "language_info": {
   "codemirror_mode": {
    "name": "ipython",
    "version": 2
   },
   "file_extension": ".py",
   "mimetype": "text/x-python",
   "name": "python",
   "nbconvert_exporter": "python",
   "pygments_lexer": "ipython2",
   "version": "2.7.6"
  }
 },
 "nbformat": 4,
 "nbformat_minor": 0
}
