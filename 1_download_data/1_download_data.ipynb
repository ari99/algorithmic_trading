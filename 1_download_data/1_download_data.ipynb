{
 "cells": [
  {
   "cell_type": "code",
   "execution_count": 21,
   "metadata": {
    "collapsed": true
   },
   "outputs": [
    {
     "name": "stdout",
     "output_type": "stream",
     "text": [
      "The autoreload extension is already loaded. To reload it, use:\n",
      "  %reload_ext autoreload\n"
     ]
    }
   ],
   "source": [
    "from services.downloadDataCheckpointHandler  import DownloadDataHandler\n",
    "\n",
    "%load_ext autoreload\n",
    "%autoreload 2"
   ]
  },
  {
   "cell_type": "code",
   "execution_count": null,
   "outputs": [],
   "source": [
    "\n",
    "from configs.config import Config\n",
    "from vectorbtpro import PolygonData\n",
    "\n",
    "Config.createDownloadDataPath()\n",
    "dataDownloader = DownloadDataHandler([\"X:DOTUSD\"])\n",
    "#df: PolygonData = dataDownloader.fetchOrCreateSave(Config.downloadDataPath)\n",
    "df: PolygonData = dataDownloader.fetchOrCreateSave(Config.symbolDownloadDataPath(\"X:DOTUSD\"))"
   ],
   "metadata": {
    "collapsed": false
   }
  },
  {
   "cell_type": "code",
   "execution_count": 67,
   "outputs": [
    {
     "data": {
      "text/plain": "                               Open      High      Low     Close  \\\nOpen time                                                          \n2020-08-18 21:00:00+00:00  354.7400  356.8200  307.540  328.0000   \n2020-08-18 22:00:00+00:00  327.0000  327.0000  310.000  316.2000   \n2020-08-18 23:00:00+00:00  324.2400  327.5000  324.230  327.5000   \n2020-08-19 00:00:00+00:00  312.4900  312.4900  312.490  312.4900   \n2020-08-19 01:00:00+00:00  312.5000  315.0000  312.500  314.9900   \n...                             ...       ...      ...       ...   \n2022-12-31 19:00:00+00:00    4.3350    4.3588    4.330    4.3400   \n2022-12-31 20:00:00+00:00    4.3390    4.3520    4.331    4.3370   \n2022-12-31 21:00:00+00:00    4.3380    4.3528    4.310    4.3200   \n2022-12-31 22:00:00+00:00    4.3200    4.3324    4.301    4.3244   \n2022-12-31 23:00:00+00:00    4.3244    4.3264    4.297    4.3050   \n\n                                 Volume  Trade count      VWAP  \nOpen time                                                       \n2020-08-18 21:00:00+00:00     32.281604           43  331.3905  \n2020-08-18 22:00:00+00:00     11.355435           88  316.8249  \n2020-08-18 23:00:00+00:00      6.390480            6  327.4720  \n2020-08-19 00:00:00+00:00      0.539852            3  312.4900  \n2020-08-19 01:00:00+00:00      1.506293            5  312.9563  \n...                                 ...          ...       ...  \n2022-12-31 19:00:00+00:00  23446.511347          431    4.3391  \n2022-12-31 20:00:00+00:00  41446.077445          486    4.3388  \n2022-12-31 21:00:00+00:00  51243.877762          612    4.3314  \n2022-12-31 22:00:00+00:00  42912.262591          521    4.3158  \n2022-12-31 23:00:00+00:00  48232.219444          580    4.3094  \n\n[20702 rows x 7 columns]",
      "text/html": "<div>\n<style scoped>\n    .dataframe tbody tr th:only-of-type {\n        vertical-align: middle;\n    }\n\n    .dataframe tbody tr th {\n        vertical-align: top;\n    }\n\n    .dataframe thead th {\n        text-align: right;\n    }\n</style>\n<table border=\"1\" class=\"dataframe\">\n  <thead>\n    <tr style=\"text-align: right;\">\n      <th></th>\n      <th>Open</th>\n      <th>High</th>\n      <th>Low</th>\n      <th>Close</th>\n      <th>Volume</th>\n      <th>Trade count</th>\n      <th>VWAP</th>\n    </tr>\n    <tr>\n      <th>Open time</th>\n      <th></th>\n      <th></th>\n      <th></th>\n      <th></th>\n      <th></th>\n      <th></th>\n      <th></th>\n    </tr>\n  </thead>\n  <tbody>\n    <tr>\n      <th>2020-08-18 21:00:00+00:00</th>\n      <td>354.7400</td>\n      <td>356.8200</td>\n      <td>307.540</td>\n      <td>328.0000</td>\n      <td>32.281604</td>\n      <td>43</td>\n      <td>331.3905</td>\n    </tr>\n    <tr>\n      <th>2020-08-18 22:00:00+00:00</th>\n      <td>327.0000</td>\n      <td>327.0000</td>\n      <td>310.000</td>\n      <td>316.2000</td>\n      <td>11.355435</td>\n      <td>88</td>\n      <td>316.8249</td>\n    </tr>\n    <tr>\n      <th>2020-08-18 23:00:00+00:00</th>\n      <td>324.2400</td>\n      <td>327.5000</td>\n      <td>324.230</td>\n      <td>327.5000</td>\n      <td>6.390480</td>\n      <td>6</td>\n      <td>327.4720</td>\n    </tr>\n    <tr>\n      <th>2020-08-19 00:00:00+00:00</th>\n      <td>312.4900</td>\n      <td>312.4900</td>\n      <td>312.490</td>\n      <td>312.4900</td>\n      <td>0.539852</td>\n      <td>3</td>\n      <td>312.4900</td>\n    </tr>\n    <tr>\n      <th>2020-08-19 01:00:00+00:00</th>\n      <td>312.5000</td>\n      <td>315.0000</td>\n      <td>312.500</td>\n      <td>314.9900</td>\n      <td>1.506293</td>\n      <td>5</td>\n      <td>312.9563</td>\n    </tr>\n    <tr>\n      <th>...</th>\n      <td>...</td>\n      <td>...</td>\n      <td>...</td>\n      <td>...</td>\n      <td>...</td>\n      <td>...</td>\n      <td>...</td>\n    </tr>\n    <tr>\n      <th>2022-12-31 19:00:00+00:00</th>\n      <td>4.3350</td>\n      <td>4.3588</td>\n      <td>4.330</td>\n      <td>4.3400</td>\n      <td>23446.511347</td>\n      <td>431</td>\n      <td>4.3391</td>\n    </tr>\n    <tr>\n      <th>2022-12-31 20:00:00+00:00</th>\n      <td>4.3390</td>\n      <td>4.3520</td>\n      <td>4.331</td>\n      <td>4.3370</td>\n      <td>41446.077445</td>\n      <td>486</td>\n      <td>4.3388</td>\n    </tr>\n    <tr>\n      <th>2022-12-31 21:00:00+00:00</th>\n      <td>4.3380</td>\n      <td>4.3528</td>\n      <td>4.310</td>\n      <td>4.3200</td>\n      <td>51243.877762</td>\n      <td>612</td>\n      <td>4.3314</td>\n    </tr>\n    <tr>\n      <th>2022-12-31 22:00:00+00:00</th>\n      <td>4.3200</td>\n      <td>4.3324</td>\n      <td>4.301</td>\n      <td>4.3244</td>\n      <td>42912.262591</td>\n      <td>521</td>\n      <td>4.3158</td>\n    </tr>\n    <tr>\n      <th>2022-12-31 23:00:00+00:00</th>\n      <td>4.3244</td>\n      <td>4.3264</td>\n      <td>4.297</td>\n      <td>4.3050</td>\n      <td>48232.219444</td>\n      <td>580</td>\n      <td>4.3094</td>\n    </tr>\n  </tbody>\n</table>\n<p>20702 rows × 7 columns</p>\n</div>"
     },
     "execution_count": 67,
     "metadata": {},
     "output_type": "execute_result"
    }
   ],
   "source": [
    "df.data[\"X:DOTUSD\"]"
   ],
   "metadata": {
    "collapsed": false
   }
  },
  {
   "cell_type": "code",
   "execution_count": 6,
   "outputs": [],
   "source": [],
   "metadata": {
    "collapsed": false
   }
  },
  {
   "cell_type": "code",
   "execution_count": 6,
   "outputs": [],
   "source": [],
   "metadata": {
    "collapsed": false
   }
  }
 ],
 "metadata": {
  "kernelspec": {
   "display_name": "Python 3",
   "language": "python",
   "name": "python3"
  },
  "language_info": {
   "codemirror_mode": {
    "name": "ipython",
    "version": 2
   },
   "file_extension": ".py",
   "mimetype": "text/x-python",
   "name": "python",
   "nbconvert_exporter": "python",
   "pygments_lexer": "ipython2",
   "version": "2.7.6"
  }
 },
 "nbformat": 4,
 "nbformat_minor": 0
}
