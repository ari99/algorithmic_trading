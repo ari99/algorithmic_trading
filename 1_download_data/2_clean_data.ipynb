{
 "cells": [
  {
   "cell_type": "code",
   "execution_count": 69,
   "metadata": {
    "collapsed": true
   },
   "outputs": [
    {
     "name": "stdout",
     "output_type": "stream",
     "text": [
      "The autoreload extension is already loaded. To reload it, use:\n",
      "  %reload_ext autoreload\n"
     ]
    }
   ],
   "source": [
    "\n",
    "import vectorbtpro as vbt\n",
    "from configs.config import Config\n",
    "%load_ext autoreload\n",
    "%autoreload 2\n",
    "from services.cleanDataHandler import CleanDataHandler\n",
    "from vectorbtpro.data.custom import LocalDataT"
   ]
  },
  {
   "cell_type": "code",
   "execution_count": null,
   "outputs": [],
   "source": [
    "# Dont use this for now. When it reads the file it fills in NaNs if the indexes of symbols dont match I think\n",
    "Config.createDownloadDataPath()\n",
    "handler = CleanDataHandler()\n",
    "barData = handler.fetchOrCreateSave(Config.cleanedDataPath)"
   ],
   "metadata": {
    "collapsed": false
   }
  },
  {
   "cell_type": "code",
   "execution_count": 72,
   "outputs": [
    {
     "data": {
      "text/plain": "0"
     },
     "execution_count": 72,
     "metadata": {},
     "output_type": "execute_result"
    }
   ],
   "source": [
    "barData.data['X:ETHUSD'].isna().sum().sum()"
   ],
   "metadata": {
    "collapsed": false
   }
  },
  {
   "cell_type": "code",
   "execution_count": 73,
   "outputs": [
    {
     "data": {
      "text/plain": "  0%|          | 0/2 [00:00<?, ?it/s]",
      "application/vnd.jupyter.widget-view+json": {
       "version_major": 2,
       "version_minor": 0,
       "model_id": "a841b0ca0fe8403493091cebed5070a0"
      }
     },
     "metadata": {},
     "output_type": "display_data"
    },
    {
     "name": "stdout",
     "output_type": "stream",
     "text": [
      "../1_download_data/checkpoints/downloaded_data/1_downloaded_data_2017-2023.h5\n"
     ]
    },
    {
     "data": {
      "text/plain": "98"
     },
     "execution_count": 73,
     "metadata": {},
     "output_type": "execute_result"
    }
   ],
   "source": [
    "barData2: LocalDataT = vbt.HDFData.fetch(Config.relativeDownloadDataPath)\n",
    "print(Config.relativeDownloadDataPath)\n",
    "barData2.data['X:ETHUSD'].isna().sum().sum()\n"
   ],
   "metadata": {
    "collapsed": false
   }
  },
  {
   "cell_type": "code",
   "execution_count": null,
   "outputs": [],
   "source": [
    "barData1: LocalDataT = vbt.HDFData.fetch(Config.relativeCleanedDataPath)\n",
    "print(Config.relativeCleanedDataPath)\n",
    "barData1.data['X:ETHUSD'].isna().sum().sum()"
   ],
   "metadata": {
    "collapsed": false
   }
  },
  {
   "cell_type": "code",
   "execution_count": null,
   "outputs": [],
   "source": [],
   "metadata": {
    "collapsed": false
   }
  }
 ],
 "metadata": {
  "kernelspec": {
   "display_name": "Python 3",
   "language": "python",
   "name": "python3"
  },
  "language_info": {
   "codemirror_mode": {
    "name": "ipython",
    "version": 2
   },
   "file_extension": ".py",
   "mimetype": "text/x-python",
   "name": "python",
   "nbconvert_exporter": "python",
   "pygments_lexer": "ipython2",
   "version": "2.7.6"
  }
 },
 "nbformat": 4,
 "nbformat_minor": 0
}
